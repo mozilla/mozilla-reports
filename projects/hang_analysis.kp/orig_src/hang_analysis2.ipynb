{
 "cells": [
  {
   "cell_type": "raw",
   "metadata": {},
   "source": [
    "---\n",
    "title: \"BHR vs Input Lag Analysis\"\n",
    "authors:\n",
    "- dthayer\n",
    "tags:\n",
    "- bhr\n",
    "created_at: 2017-07-20\n",
    "updated_at: 2017-07-26\n",
    "tldr: Analysis of the correlation between BHR hangs and \"Input Lag\" hangs.\n",
    "---"
   ]
  },
  {
   "cell_type": "code",
   "execution_count": null,
   "metadata": {
    "collapsed": true
   },
   "outputs": [],
   "source": [
    "import numpy as np\n",
    "import matplotlib.pyplot as plt\n",
    "import pandas as pd\n",
    "from datetime import datetime, timedelta\n",
    "from moztelemetry import get_pings_properties\n",
    "from moztelemetry.dataset import Dataset\n",
    "from scipy.stats import linregress\n",
    "\n",
    "%matplotlib inline"
   ]
  },
  {
   "cell_type": "code",
   "execution_count": null,
   "metadata": {
    "collapsed": false
   },
   "outputs": [],
   "source": [
    "start_date = (datetime.today() + timedelta(days=-22))\n",
    "start_date_str = start_date.strftime(\"%Y%m%d\")\n",
    "end_date = (datetime.today() + timedelta(days=-6))\n",
    "end_date_str = end_date.strftime(\"%Y%m%d\")\n",
    "\n",
    "pings = (Dataset.from_source(\"telemetry\")\n",
    "    .where(docType='main')\n",
    "    .where(appBuildId=lambda b: (b.startswith(start_date_str) or b > start_date_str)\n",
    "                                 and (b.startswith(end_date_str) or b < end_date_str))\n",
    "    .where(appUpdateChannel=\"nightly\")\n",
    "    .records(sc, sample=1.0))\n",
    "\n",
    "subset = get_pings_properties(pings, [\n",
    "        'environment/system/os/name',\n",
    "        'application/buildId',\n",
    "        'payload/info/subsessionLength',\n",
    "        'payload/histograms/INPUT_EVENT_RESPONSE_COALESCED_MS',\n",
    "        'payload/processes/content/histograms/INPUT_EVENT_RESPONSE_COALESCED_MS/values',\n",
    "        'payload/childPayloads',\n",
    "        'payload/threadHangStats',\n",
    "    ])"
   ]
  },
  {
   "cell_type": "markdown",
   "metadata": {},
   "source": [
    "This analysis is oriented toward understanding the relationship between BHR data (which can be viewed [here](http://squarewave.github.io/)), and input hang data (the \"Input Lag measures [here](https://health.graphics/quantum/)). If for most BHR hangs, we have a corresponding \"Input Lag\" hang, and vice versa, then that means the stacks we visualize in the BHR dashboard are of high value for bettering our score on the \"Input Lag\" metric.\n",
    "\n",
    "Our first step: let's just gather numbers for both of our metrics - one for the parent process, and one for content."
   ]
  },
  {
   "cell_type": "code",
   "execution_count": null,
   "metadata": {
    "collapsed": false
   },
   "outputs": [],
   "source": [
    "def hang_has_user_interaction(hang):\n",
    "    if 'annotations' not in hang:\n",
    "        return False\n",
    "    if len(hang['annotations']) == 0:\n",
    "        return False\n",
    "    return any('UserInteracting' in a and a['UserInteracting'] == 'true' for a in hang['annotations'])\n",
    "\n",
    "def flatten_hangs(thread_hang):\n",
    "    if 'name' not in thread_hang:\n",
    "        return []\n",
    "\n",
    "    hangs = thread_hang['hangs']\n",
    "\n",
    "    return [\n",
    "        {\n",
    "            'thread_name': thread_hang['name'],\n",
    "            'hang': x\n",
    "        }\n",
    "        for x in hangs\n",
    "        if hang_has_user_interaction(x)\n",
    "    ]\n",
    "\n",
    "def flatten_all_hangs(ping):\n",
    "    result = []\n",
    "\n",
    "    if ping['payload/childPayloads'] is not None:\n",
    "        for payload in ping['payload/childPayloads']:\n",
    "            if 'threadHangStats' not in payload:\n",
    "                continue\n",
    "\n",
    "            for thread_hang in payload['threadHangStats']:\n",
    "                result = result + flatten_hangs(thread_hang)\n",
    "\n",
    "    if ping['payload/threadHangStats'] is not None:\n",
    "        for thread_hang in ping['payload/threadHangStats']:\n",
    "            result = result + flatten_hangs(thread_hang)\n",
    "\n",
    "    return result\n",
    "\n",
    "def count_bhr_hangs(thread_name, hangs):\n",
    "    count = 0\n",
    "    for hang in hangs:\n",
    "        if hang['thread_name'] == thread_name:\n",
    "            hist_data = hang['hang']['histogram']['values']\n",
    "            key_ints = map(int, hist_data.keys())\n",
    "            hist = pd.Series(hist_data.values(), index=key_ints)\n",
    "            count += hist[hist.index > 2048].sum()\n",
    "    return count\n",
    "            \n",
    "def count_parent_input_delays(ping):\n",
    "    if ping['payload/histograms/INPUT_EVENT_RESPONSE_COALESCED_MS'] is None:\n",
    "        return 0\n",
    "    data = ping['payload/histograms/INPUT_EVENT_RESPONSE_COALESCED_MS']\n",
    "    zipped = zip(data.values, map(int, data.keys()))\n",
    "    vals = sorted(zipped, key=lambda x: x[1])\n",
    "\n",
    "    return pd.Series([v for v,k in vals], index=[k for v,k in vals]).truncate(before=2048).sum()\n",
    "    \n",
    "def count_content_input_delays(ping):\n",
    "    if ping['payload/processes/content/histograms/INPUT_EVENT_RESPONSE_COALESCED_MS/values'] is None:\n",
    "        return 0\n",
    "    data = ping['payload/processes/content/histograms/INPUT_EVENT_RESPONSE_COALESCED_MS/values']\n",
    "    zipped = zip(data.values(), map(int, data.keys()))\n",
    "    vals = sorted(zipped, key=lambda x: x[1])\n",
    "\n",
    "    return pd.Series([v for v,k in vals], index=[k for v,k in vals]).truncate(before=2048).sum()\n",
    "\n",
    "def get_counts(ping):\n",
    "    hangs = flatten_all_hangs(ping)\n",
    "    subsession_length = ping['payload/info/subsessionLength']\n",
    "    return (ping['application/buildId'], {\n",
    "        'subsession_length': subsession_length,\n",
    "        'parent_bhr': count_bhr_hangs('Gecko', hangs),\n",
    "        'content_bhr': count_bhr_hangs('Gecko_Child', hangs),\n",
    "        'parent_input': count_parent_input_delays(ping),\n",
    "        'content_input': count_content_input_delays(ping),\n",
    "    })\n",
    "\n",
    "def merge_counts(a, b):\n",
    "    return {k: a[k] + b[k] for k in a.iterkeys()}\n",
    "\n",
    "def ping_is_valid(ping):\n",
    "    if not isinstance(ping[\"application/buildId\"], basestring):\n",
    "        return False\n",
    "    if type(ping[\"payload/info/subsessionLength\"]) != int:\n",
    "        return False\n",
    "\n",
    "    return ping[\"environment/system/os/name\"] == \"Windows_NT\"\n",
    "\n",
    "cached = subset.filter(ping_is_valid).map(get_counts).cache()\n",
    "counts_result = cached.reduceByKey(merge_counts).collect()"
   ]
  },
  {
   "cell_type": "code",
   "execution_count": null,
   "metadata": {
    "collapsed": true
   },
   "outputs": [],
   "source": [
    "sorted_result = sorted(counts_result, key=lambda x: x[1])"
   ]
  },
  {
   "cell_type": "code",
   "execution_count": null,
   "metadata": {
    "collapsed": false
   },
   "outputs": [],
   "source": [
    "plot_data = np.array([\n",
    "    [float(x['parent_bhr']) / x['subsession_length'] * 3600. * 1000. for k,x in sorted_result],\n",
    "    [float(x['content_bhr']) / x['subsession_length'] * 3600. * 1000. for k,x in sorted_result],\n",
    "    [float(x['parent_input']) / x['subsession_length'] * 3600. * 1000. for k,x in sorted_result],\n",
    "    [float(x['content_input']) / x['subsession_length'] * 3600. * 1000. for k,x in sorted_result]\n",
    "], np.float32)"
   ]
  },
  {
   "cell_type": "markdown",
   "metadata": {},
   "source": [
    "Let's take a look at the parent numbers over time to get an intuition for their relationship:"
   ]
  },
  {
   "cell_type": "code",
   "execution_count": null,
   "metadata": {
    "collapsed": false
   },
   "outputs": [],
   "source": [
    "plt.title(\"Parent Hang Stats\")\n",
    "plt.xlabel(\"Build date\")\n",
    "plt.ylabel(\"Hangs per kuh\")\n",
    "\n",
    "bhr_index = 0\n",
    "input_index = 2\n",
    "\n",
    "plt.xticks(range(0, len(sorted_result)))\n",
    "max_y = max(np.amax(plot_data[bhr_index]), np.amax(plot_data[input_index]))\n",
    "plt.yticks(np.arange(0., max_y, max_y / 20.))\n",
    "\n",
    "plt.grid(True)\n",
    "\n",
    "plt.plot(range(0, len(sorted_result)), plot_data[bhr_index])\n",
    "plt.plot(range(0, len(sorted_result)), plot_data[input_index])\n",
    "plt.legend([\"bhr\", \"input\"], loc=\"upper right\")"
   ]
  },
  {
   "cell_type": "markdown",
   "metadata": {},
   "source": [
    "Looks plausibly correlated to me - let's try a scatter plot:"
   ]
  },
  {
   "cell_type": "code",
   "execution_count": null,
   "metadata": {
    "collapsed": false
   },
   "outputs": [],
   "source": [
    "plt.title(\"Parent Hang Stats\")\n",
    "plt.ylabel(\"BHR hangs per kuh\")\n",
    "plt.xlabel(\"Input hangs per kuh\")\n",
    "\n",
    "bhr_index = 0\n",
    "input_index = 2\n",
    "\n",
    "max_val = max(np.amax(plot_data[bhr_index]), np.amax(plot_data[input_index]))\n",
    "ticks = np.arange(0., max_val, max_val / 10.)\n",
    "plt.yticks(ticks)\n",
    "plt.xticks(ticks)\n",
    "\n",
    "\n",
    "plt.grid(True)\n",
    "\n",
    "plt.scatter(plot_data[input_index], plot_data[bhr_index])\n",
    "\n",
    "slope, intercept, rvalue, pvalue, stderr = linregress(plot_data[input_index], plot_data[bhr_index])\n",
    "\n",
    "max_x = np.amax(plot_data[input_index])\n",
    "plt.plot([0, max_x], [intercept, intercept + max_x * slope], '--')\n",
    "rvalue # print the correlation coefficient"
   ]
  },
  {
   "cell_type": "markdown",
   "metadata": {},
   "source": [
    "Correlation coefficient of ~0.711, so, moderately correlated. Let's try the content process:"
   ]
  },
  {
   "cell_type": "code",
   "execution_count": null,
   "metadata": {
    "collapsed": false
   },
   "outputs": [],
   "source": [
    "plt.title(\"Content Hang Stats\")\n",
    "plt.xlabel(\"Build date\")\n",
    "plt.ylabel(\"Hangs per kuh\")\n",
    "\n",
    "bhr_index = 1\n",
    "input_index = 3\n",
    "\n",
    "plt.xticks(range(0, len(sorted_result)))\n",
    "max_y = max(np.amax(plot_data[bhr_index]), np.amax(plot_data[input_index]))\n",
    "plt.yticks(np.arange(0., max_y, max_y / 20.))\n",
    "\n",
    "plt.grid(True)\n",
    "\n",
    "plt.plot(range(0, len(sorted_result)), plot_data[bhr_index])\n",
    "plt.plot(range(0, len(sorted_result)), plot_data[input_index])\n",
    "plt.legend([\"bhr\", \"input\"], loc=\"upper right\")"
   ]
  },
  {
   "cell_type": "code",
   "execution_count": null,
   "metadata": {
    "collapsed": false
   },
   "outputs": [],
   "source": [
    "plt.title(\"Content Hang Stats\")\n",
    "plt.ylabel(\"BHR hangs per kuh\")\n",
    "plt.xlabel(\"Input hangs per kuh\")\n",
    "\n",
    "bhr_index = 1\n",
    "input_index = 3\n",
    "\n",
    "max_val = max(np.amax(plot_data[bhr_index]), np.amax(plot_data[input_index]))\n",
    "ticks = np.arange(0., max_val, max_val / 10.)\n",
    "plt.yticks(ticks)\n",
    "plt.xticks(ticks)\n",
    "\n",
    "plt.grid(True)\n",
    "\n",
    "plt.scatter(plot_data[input_index], plot_data[bhr_index])\n",
    "\n",
    "slope, intercept, rvalue, pvalue, stderr = linregress(plot_data[input_index], plot_data[bhr_index])\n",
    "\n",
    "max_x = np.amax(plot_data[input_index])\n",
    "plt.plot([0, max_x], [intercept, intercept + max_x * slope], '--')\n",
    "rvalue"
   ]
  },
  {
   "cell_type": "markdown",
   "metadata": {},
   "source": [
    "~0.924. Much more strongly correlated. So it's _plausible_ that BHR hangs are a strong cause of content hangs. They could still be a significant cause of parent hangs, but it seems weaker.\n",
    "\n",
    "Each data point in the above scatter plots is the sum of hang stats for a given build date. The correlation across build dates for the content process is high. How about across individual pings?"
   ]
  },
  {
   "cell_type": "code",
   "execution_count": null,
   "metadata": {
    "collapsed": false
   },
   "outputs": [],
   "source": [
    "collected = cached.collect()\n",
    "plt.title(\"Content Hang Stats (per ping)\")\n",
    "plt.ylabel(\"BHR hangs\")\n",
    "plt.xlabel(\"Input hangs\")\n",
    "\n",
    "bhr_index = 1\n",
    "input_index = 3\n",
    "\n",
    "content_filtered = [x for k,x in collected if x['content_bhr'] < 100 and x['content_input'] < 100]\n",
    "\n",
    "per_ping_data = plot_data = np.array([\n",
    "    [x['parent_bhr'] for x in content_filtered],\n",
    "    [x['content_bhr'] for x in content_filtered],\n",
    "    [x['parent_input'] for x in content_filtered],\n",
    "    [x['content_input'] for x in content_filtered]\n",
    "], np.int32)\n",
    "\n",
    "ticks = np.arange(0, 100, 10)\n",
    "plt.yticks(ticks)\n",
    "plt.xticks(ticks)\n",
    "\n",
    "plt.grid(True)\n",
    "\n",
    "plt.scatter(per_ping_data[input_index], per_ping_data[bhr_index])\n",
    "\n",
    "slope, intercept, rvalue, pvalue, stderr = linregress(per_ping_data[input_index], per_ping_data[bhr_index])\n",
    "\n",
    "max_x = 10.\n",
    "plt.plot([0, max_x], [intercept, intercept + max_x * slope], '--')\n",
    "rvalue"
   ]
  },
  {
   "cell_type": "markdown",
   "metadata": {},
   "source": [
    "Interesting - the data split out per ping is significantly less correlated than the aggregate data by build date. This might suggest that individual BHR hangs don't seem to cause Input Lag events, which is unfortunate for us. That would imply however that there must be some third cause for the high correlation in the aggregate data.\n",
    "\n",
    "Let's see if we can observe any strong correlation between BHR data between processes. This should give us a feel for whether there might be any forces external to FF that are influencing the numbers:"
   ]
  },
  {
   "cell_type": "code",
   "execution_count": null,
   "metadata": {
    "collapsed": false
   },
   "outputs": [],
   "source": [
    "plot_data = np.array([\n",
    "    [float(x['parent_bhr']) / x['subsession_length'] * 3600. * 1000. for k,x in sorted_result],\n",
    "    [float(x['content_bhr']) / x['subsession_length'] * 3600. * 1000. for k,x in sorted_result],\n",
    "    [float(x['parent_input']) / x['subsession_length'] * 3600. * 1000. for k,x in sorted_result],\n",
    "    [float(x['content_input']) / x['subsession_length'] * 3600. * 1000. for k,x in sorted_result]\n",
    "], np.float32)"
   ]
  },
  {
   "cell_type": "code",
   "execution_count": null,
   "metadata": {
    "collapsed": false
   },
   "outputs": [],
   "source": [
    "plt.title(\"BHR Stats\")\n",
    "plt.xlabel(\"Build date\")\n",
    "plt.ylabel(\"Hangs per kuh\")\n",
    "\n",
    "parent_index = 0\n",
    "content_index = 1\n",
    "\n",
    "plt.xticks(range(0, len(sorted_result)))\n",
    "max_y = max(np.amax(plot_data[parent_index]), np.amax(plot_data[content_index]))\n",
    "plt.yticks(np.arange(0., max_y, max_y / 20.))\n",
    "\n",
    "plt.grid(True)\n",
    "\n",
    "plt.plot(range(0, len(sorted_result)), plot_data[parent_index])\n",
    "plt.plot(range(0, len(sorted_result)), plot_data[content_index])\n",
    "plt.legend([\"parent\", \"content\"], loc=\"upper right\")"
   ]
  },
  {
   "cell_type": "code",
   "execution_count": null,
   "metadata": {
    "collapsed": false
   },
   "outputs": [],
   "source": [
    "plt.title(\"BHR Stats\")\n",
    "plt.ylabel(\"Parent Input hangs per kuh\")\n",
    "plt.xlabel(\"Content Input hangs per kuh\")\n",
    "\n",
    "parent_index = 0\n",
    "content_index = 1\n",
    "\n",
    "max_val = max(np.amax(plot_data[parent_index]), np.amax(plot_data[content_index]))\n",
    "ticks = np.arange(0., max_val, max_val / 10.)\n",
    "plt.yticks(ticks)\n",
    "plt.xticks(ticks)\n",
    "\n",
    "\n",
    "plt.grid(True)\n",
    "\n",
    "plt.scatter(plot_data[parent_index], plot_data[content_index])\n",
    "\n",
    "slope, intercept, rvalue, pvalue, stderr = linregress(plot_data[parent_index], plot_data[content_index])\n",
    "\n",
    "max_x = np.amax(plot_data[parent_index])\n",
    "plt.plot([0, max_x], [intercept, intercept + max_x * slope], '--')\n",
    "rvalue"
   ]
  },
  {
   "cell_type": "markdown",
   "metadata": {},
   "source": [
    "Significantly lower than the correlation between BHR and input lag in the content process.\n",
    "\n",
    "Let's look at input lag across processes:"
   ]
  },
  {
   "cell_type": "code",
   "execution_count": null,
   "metadata": {
    "collapsed": false
   },
   "outputs": [],
   "source": [
    "plt.title(\"Input Hang Stats\")\n",
    "plt.xlabel(\"Build date\")\n",
    "plt.ylabel(\"Hangs per kuh\")\n",
    "\n",
    "parent_index = 2\n",
    "content_index = 3\n",
    "\n",
    "plt.xticks(range(0, len(sorted_result)))\n",
    "max_y = max(np.amax(plot_data[parent_index]), np.amax(plot_data[content_index]))\n",
    "plt.yticks(np.arange(0., max_y, max_y / 20.))\n",
    "\n",
    "plt.grid(True)\n",
    "\n",
    "plt.plot(range(0, len(sorted_result)), plot_data[parent_index])\n",
    "plt.plot(range(0, len(sorted_result)), plot_data[content_index])\n",
    "plt.legend([\"parent\", \"content\"], loc=\"upper right\")"
   ]
  },
  {
   "cell_type": "code",
   "execution_count": null,
   "metadata": {
    "collapsed": false
   },
   "outputs": [],
   "source": [
    "plt.title(\"Interprocess Hang Stats (Input)\")\n",
    "plt.ylabel(\"Parent Input hangs per kuh\")\n",
    "plt.xlabel(\"Content Input hangs per kuh\")\n",
    "\n",
    "parent_index = 2\n",
    "content_index = 3\n",
    "\n",
    "max_val = max(np.amax(plot_data[parent_index]), np.amax(plot_data[content_index]))\n",
    "ticks = np.arange(0., max_val, max_val / 10.)\n",
    "plt.yticks(ticks)\n",
    "plt.xticks(ticks)\n",
    "\n",
    "\n",
    "plt.grid(True)\n",
    "\n",
    "plt.scatter(plot_data[parent_index], plot_data[content_index])\n",
    "\n",
    "slope, intercept, rvalue, pvalue, stderr = linregress(plot_data[parent_index], plot_data[content_index])\n",
    "\n",
    "max_x = np.amax(plot_data[parent_index])\n",
    "plt.plot([0, max_x], [intercept, intercept + max_x * slope], '--')\n",
    "rvalue"
   ]
  },
  {
   "cell_type": "markdown",
   "metadata": {},
   "source": [
    "Extremely high correlation. There's some discussion of this in Bug 1383924. Essentially, the parent process gets all of the content process's events, so it makes sense that there's a good deal of overlap. However, this could help explain why the content process BHR and input lag are so tightly correlated while the parent process's aren't.\n",
    "\n",
    "In any case, we have some interesting data here, but the biggest unanswered question I have at the end of this is why is the aggregate correlation between BHR and input lag in the content process so high, while the correlation in individual pings is so low?"
   ]
  }
 ],
 "metadata": {
  "anaconda-cloud": {},
  "kernelspec": {
   "display_name": "Python [default]",
   "language": "python",
   "name": "python2"
  },
  "language_info": {
   "codemirror_mode": {
    "name": "ipython",
    "version": 2
   },
   "file_extension": ".py",
   "mimetype": "text/x-python",
   "name": "python",
   "nbconvert_exporter": "python",
   "pygments_lexer": "ipython2",
   "version": "2.7.12"
  }
 },
 "nbformat": 4,
 "nbformat_minor": 1
}