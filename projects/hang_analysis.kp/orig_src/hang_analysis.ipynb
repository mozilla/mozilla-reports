{
 "cells": [
  {
   "cell_type": "raw",
   "metadata": {},
   "source": [
    "---\n",
    "title: \"BHR vs Input Lag Analysis\"\n",
    "authors:\n",
    "- dthayer\n",
    "tags:\n",
    "- bhr\n",
    "created_at: 2017-07-20\n",
    "updated_at: 2017-07-20\n",
    "tldr: Analysis of the correlation between BHR hangs and \"Input Lag\" hangs.\n",
    "---"
   ]
  },
  {
   "cell_type": "code",
   "execution_count": null,
   "metadata": {
    "collapsed": true
   },
   "outputs": [],
   "source": [
    "import numpy as np\n",
    "import matplotlib.pyplot as plt\n",
    "import pandas as pd\n",
    "from datetime import datetime, timedelta\n",
    "from moztelemetry import get_pings_properties\n",
    "from moztelemetry.dataset import Dataset\n",
    "\n",
    "%matplotlib inline"
   ]
  },
  {
   "cell_type": "code",
   "execution_count": null,
   "metadata": {
    "collapsed": false
   },
   "outputs": [],
   "source": [
    "start_date = (datetime.today() + timedelta(days=-22))\n",
    "start_date_str = start_date.strftime(\"%Y%m%d\")\n",
    "end_date = (datetime.today() + timedelta(days=-2))\n",
    "end_date_str = end_date.strftime(\"%Y%m%d\")\n",
    "\n",
    "pings = (Dataset.from_source(\"telemetry\")\n",
    "    .where(docType='main')\n",
    "    .where(appBuildId=lambda b: (b.startswith(start_date_str) or b > start_date_str)\n",
    "                                 and (b.startswith(end_date_str) or b < end_date_str))\n",
    "    .where(appUpdateChannel=\"nightly\")\n",
    "    .records(sc, sample=1.0))\n",
    "\n",
    "subset = get_pings_properties(pings, [\n",
    "        'environment/system/os/name',\n",
    "        'application/buildId',\n",
    "        'payload/info/subsessionLength',\n",
    "        'payload/histograms/INPUT_EVENT_RESPONSE_COALESCED_MS',\n",
    "        'payload/processes/content/histograms/INPUT_EVENT_RESPONSE_COALESCED_MS/values',\n",
    "        'payload/childPayloads',\n",
    "        'payload/threadHangStats',\n",
    "    ])"
   ]
  },
  {
   "cell_type": "markdown",
   "metadata": {},
   "source": [
    "This analysis is oriented toward understanding the relationship between BHR data (which can be viewed [here](http://squarewave.github.io/)), and input hang data (the \"Input Lag measures [here](https://health.graphics/quantum/)). If for most BHR hangs, we have a corresponding \"Input Lag\" hang, and vice versa, then that means the stacks we visualize in the BHR dashboard are of high value for bettering our score on the \"Input Lag\" metric.\n",
    "\n",
    "Our first step: let's just gather numbers for both of our metrics - one for the parent process, and one for content."
   ]
  },
  {
   "cell_type": "code",
   "execution_count": null,
   "metadata": {
    "collapsed": false
   },
   "outputs": [],
   "source": [
    "def hang_has_user_interaction(hang):\n",
    "    if 'annotations' not in hang:\n",
    "        return False\n",
    "    if len(hang['annotations']) == 0:\n",
    "        return False\n",
    "    return any('UserInteracting' in a and a['UserInteracting'] == 'true' for a in hang['annotations'])\n",
    "\n",
    "def flatten_hangs(thread_hang):\n",
    "    if 'name' not in thread_hang:\n",
    "        return []\n",
    "\n",
    "    hangs = thread_hang['hangs']\n",
    "\n",
    "    return [\n",
    "        {\n",
    "            'thread_name': thread_hang['name'],\n",
    "            'hang': x\n",
    "        }\n",
    "        for x in hangs\n",
    "        if hang_has_user_interaction(x)\n",
    "    ]\n",
    "\n",
    "def flatten_all_hangs(ping):\n",
    "    result = []\n",
    "\n",
    "    if ping['payload/childPayloads'] is not None:\n",
    "        for payload in ping['payload/childPayloads']:\n",
    "            if 'threadHangStats' not in payload:\n",
    "                continue\n",
    "\n",
    "            for thread_hang in payload['threadHangStats']:\n",
    "                result = result + flatten_hangs(thread_hang)\n",
    "\n",
    "    if ping['payload/threadHangStats'] is not None:\n",
    "        for thread_hang in ping['payload/threadHangStats']:\n",
    "            result = result + flatten_hangs(thread_hang)\n",
    "\n",
    "    return result\n",
    "\n",
    "def count_bhr_hangs(thread_name, hangs):\n",
    "    count = 0\n",
    "    for hang in hangs:\n",
    "        if hang['thread_name'] == thread_name:\n",
    "            hist_data = hang['hang']['histogram']['values']\n",
    "            key_ints = map(int, hist_data.keys())\n",
    "            hist = pd.Series(hist_data.values(), index=key_ints)\n",
    "            count += hist[hist.index > 2048].sum()\n",
    "    return count\n",
    "            \n",
    "def count_parent_input_delays(ping):\n",
    "    if ping['payload/histograms/INPUT_EVENT_RESPONSE_COALESCED_MS'] is None:\n",
    "        return 0\n",
    "    data = ping['payload/histograms/INPUT_EVENT_RESPONSE_COALESCED_MS']\n",
    "    zipped = zip(data.values, map(int, data.keys()))\n",
    "    vals = sorted(zipped, key=lambda x: x[1])\n",
    "\n",
    "    return pd.Series([v for v,k in vals], index=[k for v,k in vals]).truncate(before=2048).sum()\n",
    "    \n",
    "def count_content_input_delays(ping):\n",
    "    if ping['payload/processes/content/histograms/INPUT_EVENT_RESPONSE_COALESCED_MS/values'] is None:\n",
    "        return 0\n",
    "    data = ping['payload/processes/content/histograms/INPUT_EVENT_RESPONSE_COALESCED_MS/values']\n",
    "    zipped = zip(data.values(), map(int, data.keys()))\n",
    "    vals = sorted(zipped, key=lambda x: x[1])\n",
    "\n",
    "    return pd.Series([v for v,k in vals], index=[k for v,k in vals]).truncate(before=2048).sum()\n",
    "\n",
    "def get_counts(ping):\n",
    "    hangs = flatten_all_hangs(ping)\n",
    "    subsession_length = ping['payload/info/subsessionLength']\n",
    "    return (ping['application/buildId'], {\n",
    "        'subsession_length': subsession_length,\n",
    "        'parent_bhr': count_bhr_hangs('Gecko', hangs),\n",
    "        'content_bhr': count_bhr_hangs('Gecko_Child', hangs),\n",
    "        'parent_input': count_parent_input_delays(ping),\n",
    "        'content_input': count_content_input_delays(ping),\n",
    "    })\n",
    "\n",
    "def merge_counts(a, b):\n",
    "    return {k: a[k] + b[k] for k in a.iterkeys()}\n",
    "\n",
    "def ping_is_valid(ping):\n",
    "    if not isinstance(ping[\"application/buildId\"], basestring):\n",
    "        return False\n",
    "    if type(ping[\"payload/info/subsessionLength\"]) != int:\n",
    "        return False\n",
    "\n",
    "    return ping[\"environment/system/os/name\"] == \"Windows_NT\"\n",
    "\n",
    "cached = subset.filter(ping_is_valid).map(get_counts).cache()\n",
    "counts_result = cached.reduceByKey(merge_counts).collect()"
   ]
  },
  {
   "cell_type": "code",
   "execution_count": null,
   "metadata": {
    "collapsed": true
   },
   "outputs": [],
   "source": [
    "sorted_result = sorted(counts_result, key=lambda x: x[1])"
   ]
  },
  {
   "cell_type": "code",
   "execution_count": null,
   "metadata": {
    "collapsed": false
   },
   "outputs": [],
   "source": [
    "plot_data = np.array([\n",
    "    [float(x['parent_bhr']) / x['subsession_length'] * 3600. * 1000. for k,x in sorted_result],\n",
    "    [float(x['content_bhr']) / x['subsession_length'] * 3600. * 1000. for k,x in sorted_result],\n",
    "    [float(x['parent_input']) / x['subsession_length'] * 3600. * 1000. for k,x in sorted_result],\n",
    "    [float(x['content_input']) / x['subsession_length'] * 3600. * 1000. for k,x in sorted_result]\n",
    "], np.float32)"
   ]
  },
  {
   "cell_type": "markdown",
   "metadata": {},
   "source": [
    "Let's take a look at the parent numbers over time. If the graphs fit tightly together, that's probably a good indicator that they're closely related."
   ]
  },
  {
   "cell_type": "code",
   "execution_count": null,
   "metadata": {
    "collapsed": false
   },
   "outputs": [],
   "source": [
    "plt.title(\"Parent Hang Stats\")\n",
    "plt.xlabel(\"Build date\")\n",
    "plt.ylabel(\"Hangs per kuh\")\n",
    "\n",
    "bhr_index = 0\n",
    "input_index = 2\n",
    "\n",
    "plt.xticks(range(0, len(sorted_result)))\n",
    "max_y = max(np.amax(plot_data[bhr_index]), np.amax(plot_data[input_index]))\n",
    "plt.yticks(np.arange(0., max_y, max_y / 20.))\n",
    "\n",
    "plt.grid(True)\n",
    "\n",
    "plt.plot(range(0, len(sorted_result)), plot_data[bhr_index])\n",
    "plt.plot(range(0, len(sorted_result)), plot_data[input_index])\n",
    "plt.legend([\"bhr\", \"input\"], loc=\"upper right\")"
   ]
  },
  {
   "cell_type": "markdown",
   "metadata": {},
   "source": [
    "The parent's data looks _pretty_ close. How about content's?"
   ]
  },
  {
   "cell_type": "code",
   "execution_count": null,
   "metadata": {
    "collapsed": false
   },
   "outputs": [],
   "source": [
    "plt.title(\"Content Hang Stats\")\n",
    "plt.xlabel(\"Build date\")\n",
    "plt.ylabel(\"Hangs per kuh\")\n",
    "\n",
    "bhr_index = 1\n",
    "input_index = 3\n",
    "\n",
    "plt.xticks(range(0, len(sorted_result)))\n",
    "max_y = max(np.amax(plot_data[bhr_index]), np.amax(plot_data[input_index]))\n",
    "plt.yticks(np.arange(0., max_y, max_y / 20.))\n",
    "\n",
    "plt.grid(True)\n",
    "\n",
    "plt.plot(range(0, len(sorted_result)), plot_data[bhr_index])\n",
    "plt.plot(range(0, len(sorted_result)), plot_data[input_index])\n",
    "plt.legend([\"bhr\", \"input\"], loc=\"upper right\")"
   ]
  },
  {
   "cell_type": "markdown",
   "metadata": {},
   "source": [
    "Much more tightly correlated. There appear to be dates where bhr is above input and vice versa, but on the whole they go up and down together very nicely.\n",
    "\n",
    "Let's look at the difference between BHR data and input lag data per ping. If they are tightly correlated, we should see the per-ping delta be low. (NOTE: we need to make sure to filter out pings that have no hang data here, since they will create a huge spike at 0 which is probably misleading.)"
   ]
  },
  {
   "cell_type": "code",
   "execution_count": null,
   "metadata": {
    "collapsed": true
   },
   "outputs": [],
   "source": [
    "def has_content_hangs(counts):\n",
    "    return counts[1]['content_bhr'] > 0 or counts[1]['content_input'] > 0\n",
    "\n",
    "def has_parent_hangs(counts):\n",
    "    return counts[1]['parent_bhr'] > 0 or counts[1]['parent_input'] > 0\n",
    "\n",
    "def subtract_content_input(counts):\n",
    "    return counts[1]['content_bhr'] - counts[1]['content_input']\n",
    "\n",
    "def subtract_parent_input(counts):\n",
    "    return counts[1]['parent_bhr'] - counts[1]['parent_input']\n",
    "\n",
    "content_delta_hist = cached.filter(has_content_hangs).map(subtract_content_input).histogram(range(-10,10))\n",
    "parent_delta_hist = cached.filter(has_parent_hangs).map(subtract_parent_input).histogram(range(-10,10))"
   ]
  },
  {
   "cell_type": "code",
   "execution_count": null,
   "metadata": {
    "collapsed": true
   },
   "outputs": [],
   "source": [
    "def draw_histogram(title, hist):\n",
    "    plt.title(title)\n",
    "\n",
    "    plt.xticks(hist[0][:-1])\n",
    "    plt.bar(hist[0][:-1], hist[1])"
   ]
  },
  {
   "cell_type": "code",
   "execution_count": null,
   "metadata": {
    "collapsed": false
   },
   "outputs": [],
   "source": [
    "draw_histogram(\"Content Per Hang Delta Distribution (bhr - input)\", content_delta_hist)"
   ]
  },
  {
   "cell_type": "code",
   "execution_count": null,
   "metadata": {
    "collapsed": false
   },
   "outputs": [],
   "source": [
    "draw_histogram(\"Parent Per Hang Delta Distribution (bhr - input)\", parent_delta_hist)"
   ]
  },
  {
   "cell_type": "markdown",
   "metadata": {},
   "source": [
    "Not what I was hoping for. 0 is reasonably high on the graph, but -1 and 1 are much higher, indicating that BHR hangs and input lag hangs happen at about the same rate, but not together."
   ]
  },
  {
   "cell_type": "code",
   "execution_count": null,
   "metadata": {
    "collapsed": false
   },
   "outputs": [],
   "source": [
    "content_input_count_hist = cached.map(lambda x: x[1]['content_input']).histogram(range(20))\n",
    "draw_histogram(\"Content Input Hangs Distribution\", content_input_count_hist)"
   ]
  },
  {
   "cell_type": "code",
   "execution_count": null,
   "metadata": {
    "collapsed": false
   },
   "outputs": [],
   "source": [
    "parent_input_count_hist = cached.map(lambda x: x[1]['parent_input']).histogram(range(20))\n",
    "draw_histogram(\"Parent Input Hangs Distribution\", parent_input_count_hist)"
   ]
  },
  {
   "cell_type": "markdown",
   "metadata": {},
   "source": [
    "Let's take a look at what our most common hang numbers are in the content process."
   ]
  },
  {
   "cell_type": "code",
   "execution_count": null,
   "metadata": {
    "collapsed": true
   },
   "outputs": [],
   "source": [
    "content_values = cached.map(lambda x: (x[1]['content_input'], x[1]['content_bhr'])).countByValue()"
   ]
  },
  {
   "cell_type": "code",
   "execution_count": null,
   "metadata": {
    "collapsed": false
   },
   "outputs": [],
   "source": [
    "sorted(content_values.iteritems(), key=lambda x: -x[1])[0:20]"
   ]
  },
  {
   "cell_type": "markdown",
   "metadata": {},
   "source": [
    "Hmm. This looks like having an input lag hang means there was a greater chance of having a BHR hang, and vice versa, but it's very far from being a 1:1. That being said, I don't know how to explain the tightly coupled graph above that shows content hangs by build date, given these numbers."
   ]
  }
 ],
 "metadata": {
  "anaconda-cloud": {},
  "kernelspec": {
   "display_name": "Python [default]",
   "language": "python",
   "name": "python2"
  },
  "language_info": {
   "codemirror_mode": {
    "name": "ipython",
    "version": 2
   },
   "file_extension": ".py",
   "mimetype": "text/x-python",
   "name": "python",
   "nbconvert_exporter": "python",
   "pygments_lexer": "ipython2",
   "version": "2.7.12"
  }
 },
 "nbformat": 4,
 "nbformat_minor": 1
}