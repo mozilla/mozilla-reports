{
 "cells": [
  {
   "cell_type": "raw",
   "metadata": {},
   "source": [
    "---\n",
    "title: \"Main Ping Submission Delay (Beta Channel)\"\n",
    "authors:\n",
    "- dexter\n",
    "tags:\n",
    "- main ping\n",
    "- delay\n",
    "- pingSender\n",
    "created_at: 2017-07-11\n",
    "updated_at: 2017-07-11\n",
    "tldr: How long does it take before we get main pings (all reasons) from users that have pingSender vs users who don't, in the Beta channel?\n",
    "---"
   ]
  },
  {
   "cell_type": "markdown",
   "metadata": {},
   "source": [
    "### Main Ping Submission Delay (Beta Channel)"
   ]
  },
  {
   "cell_type": "markdown",
   "metadata": {},
   "source": [
    "In this notebook we extend the `shutdown main-ping` submission delay analysis done [here](http://reports.telemetry.mozilla.org/post/projects/main_ping_delays_pingsender_beta.kp), for Firefox Beta, to all the `main-ping` types regardless of their `reason` (i.e. `shutdown`, `daily`, ...).\n",
    "\n",
    "Specifically, this one investigates the difference between typical values \"submission delay\" between the previous Beta build and the latest one. The latter includes the [pingSender that started sending \"shutdown\" pings](https://bugzilla.mozilla.org/show_bug.cgi?id=1356673)."
   ]
  },
  {
   "cell_type": "code",
   "execution_count": null,
   "metadata": {
    "collapsed": false,
    "scrolled": true
   },
   "outputs": [],
   "source": [
    "import ujson as json\n",
    "import matplotlib.pyplot as plt\n",
    "import pandas as pd\n",
    "import numpy as np\n",
    "import plotly.plotly as py\n",
    "import IPython\n",
    "\n",
    "from datetime import datetime, timedelta\n",
    "from email.utils import parsedate_tz, mktime_tz, formatdate\n",
    "\n",
    "from plotly.graph_objs import *\n",
    "from moztelemetry import get_pings_properties, get_one_ping_per_client\n",
    "from moztelemetry.dataset import Dataset\n",
    "\n",
    "%matplotlib inline\n",
    "IPython.core.pylabtools.figsize(16, 7)"
   ]
  },
  {
   "cell_type": "markdown",
   "metadata": {},
   "source": [
    "We'll be looking at two cohorts: May 31 - June 7 (Beta 54, no `pingsender`) and June 14 - 20 (Beta 55, with the `pingsender` sending `shutdown` pings). The `pingsender` started sending `shudown` pings in Beta 55."
   ]
  },
  {
   "cell_type": "code",
   "execution_count": null,
   "metadata": {
    "collapsed": false
   },
   "outputs": [],
   "source": [
    "pre_pings = Dataset.from_source(\"telemetry\") \\\n",
    "    .where(docType=\"main\") \\\n",
    "    .where(appUpdateChannel=\"beta\") \\\n",
    "    .where(submissionDate=lambda x: \"20170531\" <= x < \"20170607\") \\\n",
    "    .where(appBuildId=lambda x: \"20170420\" <= x < \"20170611\") \\\n",
    "    .records(sc, sample=1)\n",
    "\n",
    "post_pings = Dataset.from_source(\"telemetry\") \\\n",
    "    .where(docType=\"main\") \\\n",
    "    .where(appUpdateChannel=\"beta\") \\\n",
    "    .where(submissionDate=lambda x: \"20170614\" <= x < \"20170620\") \\\n",
    "    .where(appBuildId=lambda x: \"20170612\" <= x < \"20170622\") \\\n",
    "    .records(sc, sample=1)"
   ]
  },
  {
   "cell_type": "markdown",
   "metadata": {},
   "source": [
    "To look at delays, we need to look at times. There are a lot of times, and they are recorded relative to different clocks."
   ]
  },
  {
   "cell_type": "markdown",
   "metadata": {},
   "source": [
    "**`meta/creationTimestamp`** The time the Telemetry code in Firefox created the ping, according to the client's clock, in nanoseconds since the epoch.\n",
    "\n",
    "**`meta/Date`** - The time the Telemetry code in Firefox sent the ping to the server, according to the client's clock, expressed as a Date string conforming to [RFC 7231](https://tools.ietf.org/html/rfc7231#section-7.1.1.1).\n",
    "\n",
    "**`meta/Timestamp`** - The time the ping was received by the server, according to the server's\n",
    "clock, expressed in nanoseconds since the epoch."
   ]
  },
  {
   "cell_type": "code",
   "execution_count": null,
   "metadata": {
    "collapsed": false
   },
   "outputs": [],
   "source": [
    "pre_subset = get_pings_properties(pre_pings, [\"application/channel\",\n",
    "                                              \"id\",\n",
    "                                              \"meta/creationTimestamp\",\n",
    "                                              \"meta/Date\",\n",
    "                                              \"meta/Timestamp\",\n",
    "                                              \"meta/X-PingSender-Version\",\n",
    "                                              \"payload/info/reason\",\n",
    "                                              \"payload/simpleMeasurements/shutdownDuration\"])\n",
    "\n",
    "post_subset = get_pings_properties(post_pings, [\"application/channel\",\n",
    "                                                \"id\",\n",
    "                                                \"meta/creationTimestamp\",\n",
    "                                                \"meta/Date\",\n",
    "                                                \"meta/Timestamp\",\n",
    "                                                \"meta/X-PingSender-Version\",\n",
    "                                                \"payload/info/reason\",\n",
    "                                                \"payload/simpleMeasurements/shutdownDuration\"])"
   ]
  },
  {
   "cell_type": "markdown",
   "metadata": {},
   "source": [
    "The rest of the analysis is cleaner if we combine the two cohorts here."
   ]
  },
  {
   "cell_type": "code",
   "execution_count": null,
   "metadata": {
    "collapsed": false
   },
   "outputs": [],
   "source": [
    "def add_pre(p):\n",
    "    p['pre'] = 'pre'\n",
    "    return p\n",
    "\n",
    "def add_post(p):\n",
    "    p['pre'] = 'post'\n",
    "    return p\n",
    "\n",
    "combined = pre_subset.map(add_pre).union(post_subset.map(add_post))"
   ]
  },
  {
   "cell_type": "markdown",
   "metadata": {},
   "source": [
    "Quick normalization: ditch any ping that doesn't have a creationTimestamp or Timestamp:"
   ]
  },
  {
   "cell_type": "code",
   "execution_count": null,
   "metadata": {
    "collapsed": false
   },
   "outputs": [],
   "source": [
    "prev_count = combined.count()\n",
    "combined = combined.filter(lambda p:\\\n",
    "                       p[\"meta/Timestamp\"] is not None\\\n",
    "                       and p[\"meta/creationTimestamp\"] is not None)\n",
    "filtered_count = combined.count()\n",
    "print \"Filtered {} of {} pings ({:.2f}%)\"\\\n",
    "    .format(prev_count - filtered_count, prev_count, 100.0 * (prev_count - filtered_count) / prev_count)"
   ]
  },
  {
   "cell_type": "markdown",
   "metadata": {},
   "source": [
    "##### Deduplication\n",
    "We sometimes receive main pings more than once (identical document ids). This is usually low, but let's check if this is still true after using the pingsender.\n",
    "\n",
    "So we'll dedupe here."
   ]
  },
  {
   "cell_type": "code",
   "execution_count": null,
   "metadata": {
    "collapsed": true
   },
   "outputs": [],
   "source": [
    "def dedupe(pings):\n",
    "    return pings\\\n",
    "            .map(lambda p: (p[\"id\"], p))\\\n",
    "            .reduceByKey(lambda a, b: a if a[\"meta/Timestamp\"] < b[\"meta/Timestamp\"] else b)\\\n",
    "            .map(lambda pair: pair[1])\n",
    "\n",
    "combined_deduped = dedupe(combined)"
   ]
  },
  {
   "cell_type": "code",
   "execution_count": null,
   "metadata": {
    "collapsed": false
   },
   "outputs": [],
   "source": [
    "combined_count = combined.count()\n",
    "combined_deduped_count = combined_deduped.count()\n",
    "print \"Filtered {} of {} main pings ({:.2f}%)\"\\\n",
    "    .format(combined_count - combined_deduped_count, combined_count,\n",
    "            100.0 * (combined_count - combined_deduped_count) / combined_count)"
   ]
  },
  {
   "cell_type": "markdown",
   "metadata": {},
   "source": [
    "The previous 1.28% is the duplicate rate over all the `main` pings."
   ]
  },
  {
   "cell_type": "code",
   "execution_count": null,
   "metadata": {
    "collapsed": true
   },
   "outputs": [],
   "source": [
    "MAX_DELAY_S = 60 * 60 * 96.0\n",
    "HOUR_IN_S = 60 * 60.0\n",
    "PRES = ['pre', 'post']\n",
    "MAIN_PING_REASONS = [\n",
    "    'aborted-session', 'environment-change', 'shutdown', 'daily', 'environment-change'\n",
    "]"
   ]
  },
  {
   "cell_type": "code",
   "execution_count": null,
   "metadata": {
    "collapsed": true
   },
   "outputs": [],
   "source": [
    "def setup_plot(title, max_x, area_border_x=0.1, area_border_y=0.1):\n",
    "    plt.title(title)\n",
    "    plt.xlabel(\"Delay (hours)\")\n",
    "    plt.ylabel(\"% of pings\")\n",
    "\n",
    "    plt.xticks(range(0, int(max_x) + 1, 2))\n",
    "    plt.yticks(map(lambda y: y / 20.0, range(0, 21, 1)))\n",
    "\n",
    "    plt.ylim(0.0 - area_border_y, 1.0 + area_border_y)\n",
    "    plt.xlim(0.0 - area_border_x, max_x + area_border_x)\n",
    "\n",
    "    plt.grid(True)\n",
    "\n",
    "def plot_cdf(data, **kwargs):\n",
    "    sortd = np.sort(data)\n",
    "    ys = np.arange(len(sortd))/float(len(sortd))\n",
    "\n",
    "    plt.plot(sortd, ys, **kwargs)"
   ]
  },
  {
   "cell_type": "code",
   "execution_count": null,
   "metadata": {
    "collapsed": true
   },
   "outputs": [],
   "source": [
    "def calculate_submission_delay(p):\n",
    "    created = datetime.fromtimestamp(p[\"meta/creationTimestamp\"] / 1000.0 / 1000.0 / 1000.0)\n",
    "    received = datetime.fromtimestamp(p[\"meta/Timestamp\"] / 1000.0 / 1000.0 / 1000.0)\n",
    "    sent = datetime.fromtimestamp(mktime_tz(parsedate_tz(p[\"meta/Date\"]))) if p[\"meta/Date\"] is not None else received\n",
    "    clock_skew = received - sent\n",
    "    \n",
    "    return (received - created - clock_skew).total_seconds()"
   ]
  },
  {
   "cell_type": "code",
   "execution_count": null,
   "metadata": {
    "collapsed": true
   },
   "outputs": [],
   "source": [
    "delays_by_chan = combined_deduped.map(lambda p: ((p[\"pre\"], p[\"payload/info/reason\"]), calculate_submission_delay(p)))"
   ]
  },
  {
   "cell_type": "markdown",
   "metadata": {},
   "source": [
    "### Submission Delay\n",
    "\n",
    "**Submission Delay** is the delay between the data being recorded on the client and it being received by our infrastructure. It is thought to be dominated by the length of time Firefox isn't open on a client's computer, though retransmission attempts and throttling can also contribute.\n",
    "\n",
    "The following block of code plots the CDF of the submission delay for each *reason* of the `main-ping` (even though the pingsender is only used for the `shutdown` *reason*). "
   ]
  },
  {
   "cell_type": "code",
   "execution_count": null,
   "metadata": {
    "collapsed": false
   },
   "outputs": [],
   "source": [
    "for reason in MAIN_PING_REASONS:\n",
    "    setup_plot(\"'main-ping' ({}) ping submission delay CDF\".format(reason),\n",
    "               MAX_DELAY_S / HOUR_IN_S, area_border_x=1.0)\n",
    "    \n",
    "    for pre in PRES:\n",
    "        # Build an useful label.\n",
    "        using_pingsender = pre != 'pre'\n",
    "        label = \"'{}'{}\".format(reason, \", with pingsender\" if using_pingsender else \"\")\n",
    "        \n",
    "        plot_cdf(delays_by_chan\\\n",
    "                 .filter(lambda d: d[0][0] == pre and d[0][1] == reason)\\\n",
    "                 .map(lambda d: d[1] / HOUR_IN_S if d[1] < MAX_DELAY_S else MAX_DELAY_S / HOUR_IN_S)\\\n",
    "                 .collect(), label=label, linestyle=\"solid\" if using_pingsender else \"dashed\")\n",
    "    \n",
    "    plt.legend(loc=\"lower right\")\n",
    "    plt.show()"
   ]
  },
  {
   "cell_type": "markdown",
   "metadata": {},
   "source": [
    "Interestingly enough, it looks like enabling the pingsender on the `shutdown` `main-ping` allowed the latency to decrease for other ping types too. One possible reason for this is that the Telemetry sending queue has fewer pings to deal with and can deal with other types more efficiently.\n",
    "\n",
    "Let's plot the overall latency, below."
   ]
  },
  {
   "cell_type": "code",
   "execution_count": null,
   "metadata": {
    "collapsed": false
   },
   "outputs": [],
   "source": [
    "setup_plot(\"'main-ping' (all reasons) ping submission delay CDF\",\n",
    "           MAX_DELAY_S / HOUR_IN_S, area_border_x=1.0)\n",
    "\n",
    "for pre in PRES:\n",
    "    plot_cdf(delays_by_chan\\\n",
    "             .filter(lambda d: d[0][0] == pre)\\\n",
    "             .map(lambda d: d[1] / HOUR_IN_S if d[1] < MAX_DELAY_S else MAX_DELAY_S / HOUR_IN_S)\\\n",
    "             .collect())\n",
    "    \n",
    "plt.legend([\"No pingsender\", \"With pingsender\"], loc=\"lower right\")"
   ]
  },
  {
   "cell_type": "markdown",
   "metadata": {},
   "source": [
    "The use of `pingsender` results in an improvement in the submission delay of the `main-ping`:\n",
    "\n",
    "- we receive more than 80% of the mentioned pings **within the first hour**, instead of about ~20% without the pingsender;\n",
    "- ~95% of the `main-ping` within 8 hours, compared to ~95% received after over 90 hours without it.  \n",
    "\n",
    "We don't receive 100% of the pings sooner for builds having the `pingsender` enabled because the `pingsender` can fail submitting the ping (e.g. the system or Firefox uses a proxy, poor connection, ...) and, when this happen, no retrasmission is attempted; the ping will be sent on the next restart by Firefox."
   ]
  },
  {
   "cell_type": "code",
   "execution_count": null,
   "metadata": {
    "collapsed": true
   },
   "outputs": [],
   "source": []
  }
 ],
 "metadata": {
  "anaconda-cloud": {},
  "kernelspec": {
   "display_name": "Python [default]",
   "language": "python",
   "name": "python2"
  },
  "language_info": {
   "codemirror_mode": {
    "name": "ipython",
    "version": 2
   },
   "file_extension": ".py",
   "mimetype": "text/x-python",
   "name": "python",
   "nbconvert_exporter": "python",
   "pygments_lexer": "ipython2",
   "version": "2.7.12"
  }
 },
 "nbformat": 4,
 "nbformat_minor": 0
}