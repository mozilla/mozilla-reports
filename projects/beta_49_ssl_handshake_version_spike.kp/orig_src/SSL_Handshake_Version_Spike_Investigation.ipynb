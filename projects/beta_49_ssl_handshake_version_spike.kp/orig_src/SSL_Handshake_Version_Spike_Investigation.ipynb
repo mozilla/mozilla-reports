{
 "cells": [
  {
   "cell_type": "raw",
   "metadata": {},
   "source": [
    "---\n",
    "title: \"SSL_HANDSHAKE_VERSION Beta 49 Spike\"\n",
    "authors:\n",
    "- Frank Bertsch\n",
    "tags:\n",
    "- beta 49\n",
    "- spike\n",
    "created_at: 2017-04-22\n",
    "updated_at: 2016-04-22\n",
    "tldr: A single client sent hundreds of thousands of duplicate pings, all with huge counts of SSL_HANDSHAKE_VERSION\n",
    "---"
   ]
  },
  {
   "cell_type": "markdown",
   "metadata": {},
   "source": [
    "# SSL_HANDSHAKE_VERSION Spike\n",
    "\n",
    "TL;DR: A single client sending duplicate pings with huge counts of SSL_HANDSHAKE_VERSION caused this spike.\n",
    "\n",
    "[See the prior work here](https://github.com/ekr/telemetry-repro/pull/1), where I determined that the number of Measurements of SSL_HANDSHAKE_VERSION starting on 20170308 for Beta 49 increased by more than more than 3 orders of magnitude.\n",
    "\n",
    "The associated ping count only increased by ~50%. This indicated that the problem was not just ping volume, but mostly histogram counts within the pings.\n",
    "\n",
    "## Looking at 20170312 - the worst day\n",
    "\n",
    "To find these offenders we'll look at the day with the highest count - $587 * 10^3$ pings but $113 * 10^9$ SSL_HANDSHAKE_VERSION measurements."
   ]
  },
  {
   "cell_type": "code",
   "execution_count": null,
   "metadata": {
    "collapsed": false
   },
   "outputs": [],
   "source": [
    "from moztelemetry.dataset import Dataset\n",
    "from moztelemetry.spark import get_pings_properties\n",
    "\n",
    "from datetime import datetime, timedelta\n",
    "import pandas as pd\n",
    "import numpy as np"
   ]
  },
  {
   "cell_type": "code",
   "execution_count": null,
   "metadata": {
    "collapsed": false
   },
   "outputs": [],
   "source": [
    "pings = Dataset \\\n",
    ".from_source('telemetry') \\\n",
    ".where (\n",
    "    appUpdateChannel = 'beta',\n",
    "    appVersion = lambda x: x.startswith('49'),\n",
    "    submissionDate = '20170312'\n",
    ").records(sc)"
   ]
  },
  {
   "cell_type": "code",
   "execution_count": null,
   "metadata": {
    "collapsed": false
   },
   "outputs": [],
   "source": [
    "def get_shv(ping):\n",
    "    return ping.get('payload', {}).get('histograms', {}).get('SSL_HANDSHAKE_VERSION', {})\n",
    "\n",
    "per_client = \\\n",
    "pings.map(\n",
    "    lambda x: \n",
    "        (x.get('clientId'),\n",
    "         get_shv(x))\n",
    ").filter(\n",
    "    lambda x: x[0] and x[1]\n",
    ").map(\n",
    "    lambda x: (x[0], {'sum': x[1]['sum'], 'count': sum(x[1]['values'].values())})\n",
    ").reduceByKey(\n",
    "    lambda x, y: {k: x[k] + y[k] for k in x}\n",
    ")\n",
    "\n",
    "#How many clients?\n",
    "\"Total Clients for Beta 49 on 20170312: {}\".format(per_client.count())"
   ]
  },
  {
   "cell_type": "code",
   "execution_count": null,
   "metadata": {
    "collapsed": false
   },
   "outputs": [],
   "source": [
    "#How bad is the worst offender?: > 100B Measurements\n",
    "res = per_client.collect()\n",
    "\n",
    "print \"Max Count: {}\".format(max(res, key = lambda x: x[1]['count'])[1])\n",
    "print \"Max Sum: {}\".format(max(res, key = lambda x: x[1]['sum'])[1])\n",
    "\n",
    "# Is this the only one?: Yes. No other clients come close\n",
    "print \"\\nTop Five:\"\n",
    "[v[1] for v in sorted(res, key = lambda x: -x[1]['count'])[:5]]"
   ]
  },
  {
   "cell_type": "markdown",
   "metadata": {},
   "source": [
    "## Found the Offending Client\n",
    "\n",
    "Next is to determine the distribution of pings as well as the distribution of measurements. Were these all unique pings, or is this \"fake\" data similar to the [Aurora 51 client?](http://reports.telemetry.mozilla.org/post/projects%2Fproblematic_client.kp)"
   ]
  },
  {
   "cell_type": "code",
   "execution_count": null,
   "metadata": {
    "collapsed": false
   },
   "outputs": [],
   "source": [
    "cid = max(res, key = lambda x: x[1]['count'])[0]\n",
    "\n",
    "cid_pings = pings.filter(\n",
    "    lambda x: x.get('clientId') == cid\n",
    ")\n",
    "\n",
    "counts = cid_pings.map(\n",
    "    lambda x: sum(get_shv(x).get('values', {}).values())\n",
    ").collect()\n",
    "\n",
    "\"Client has {} pings\".format(cid_pings.count())"
   ]
  },
  {
   "cell_type": "markdown",
   "metadata": {},
   "source": [
    "## Huge Counts per Ping\n",
    "\n",
    "The below plot shows a histogram of SSL_HANDSHAKE_VERSION measurement counts per ping, where the height of the bar is number of pigns with that number of measurements. The high counts are why we are seeing such a spike, and the clustering indicates that these might be duplicates."
   ]
  },
  {
   "cell_type": "code",
   "execution_count": null,
   "metadata": {
    "collapsed": false
   },
   "outputs": [],
   "source": [
    "from matplotlib import pyplot as plt\n",
    "import seaborn as sns\n",
    "\n",
    "%matplotlib inline\n",
    "\n",
    "plt.title(\"Number of SSL_HANDSHAKE_VERSION Measurements per Ping\")\n",
    "plt.xlabel(\"SSL_HANDSHAKE_VERSION Measurements\")\n",
    "plt.ylabel(\"Ping Count\")\n",
    "\n",
    "plt.hist(counts, bins=50)\n",
    "plt.legend()"
   ]
  },
  {
   "cell_type": "markdown",
   "metadata": {},
   "source": [
    "## We are looking at duplicate pings\n",
    "\n",
    "The plot below shows number of pings and number of distinct DocIDs for this single client per day (looking around the problem time period). We are seeing about 10 repeated docIds, all with high counts of SSL_HANDSHAKE_VERSION.\n",
    "\n",
    "We have started deduping server-side so some of these pings would be removed; deduping will improve over the next few months so that we recieve less than 10% of dupes."
   ]
  },
  {
   "cell_type": "code",
   "execution_count": null,
   "metadata": {
    "collapsed": false
   },
   "outputs": [],
   "source": [
    "# What does this client's distribution look like across a the bad days?\n",
    "# We know bad days from the aggregates data, see\n",
    "# https://github.com/fbertsch/telemetry-repro/blob/2bf7e062719ae498c12f15456e94af9ee7758093/output.txt\n",
    "\n",
    "begin = '20170305'\n",
    "end = '20170320'\n",
    "\n",
    "cid_pings = Dataset \\\n",
    "    .from_source('telemetry') \\\n",
    "    .where (\n",
    "        appUpdateChannel = 'beta',\n",
    "        appVersion = lambda x: x.startswith('49'),\n",
    "        submissionDate = lambda x: begin <= x <= end\n",
    "    ).records(sc) \\\n",
    "    .filter(lambda x: x.get('clientId') == cid)\n",
    "\n",
    "props = {\n",
    "    'submission_date': 'meta/submissionDate',\n",
    "    'version': 'version',\n",
    "    'build_id': 'buildId',\n",
    "    'document_id': 'meta/documentId',\n",
    "    'timestamp': 'meta/Timestamp',\n",
    "    'SSL_HANDSHAKE_VERSION': 'payload/histograms/SSL_HANDSHAKE_VERSION'\n",
    "}\n",
    "    \n",
    "data = get_pings_properties(cid_pings, props)\n",
    "\n",
    "\"Total of {} pings from client\".format(data.count())"
   ]
  },
  {
   "cell_type": "code",
   "execution_count": null,
   "metadata": {
    "collapsed": false
   },
   "outputs": [],
   "source": [
    "counts = data.map(\n",
    "    lambda x: (datetime.strptime(x[\"submission_date\"], '%Y%m%d'), 1)\n",
    ").countByKey()\n",
    "\n",
    "pings_counts = [(d,v) for d,v in counts.iteritems() if isinstance(d, datetime)]\n",
    "\n",
    "doc_counts = data.map(\n",
    "    lambda x: (datetime.strptime(x[\"submission_date\"], '%Y%m%d'), {x['document_id']})\n",
    ").reduceByKey(\n",
    "    lambda x, y: x | y\n",
    ").map(\n",
    "    lambda x: (x[0], len(x[1]))\n",
    ").collect()"
   ]
  },
  {
   "cell_type": "code",
   "execution_count": null,
   "metadata": {
    "collapsed": false
   },
   "outputs": [],
   "source": [
    "#How many pings and how many docs\n",
    "ping_df = pd.DataFrame(pings_counts, columns=[\"date\", \"ping_count\"]).set_index([\"date\"])\n",
    "doc_df = pd.DataFrame(doc_counts, columns=[\"date\", \"doc_count\"]).set_index([\"date\"])\n",
    "joined_df = ping_df.join(doc_df)\n",
    "\n",
    "joined_df.plot(figsize=(17, 7))\n",
    "plt.xticks(np.arange(min(joined_df.index), max(joined_df.index) + timedelta(3), 3, dtype=\"datetime64[D]\"))\n",
    "\n",
    "plt.title(\"Pings Count and Distint DocID Count per Day\")\n",
    "plt.ylabel(\"Count\")\n",
    "plt.xlabel(\"Date\")\n",
    "\n",
    "ax = plt.subplot(111)\n",
    "ax.set_yscale(\"log\", nonposy='clip')\n",
    "\n",
    "plt.grid(True)\n",
    "plt.show()"
   ]
  }
 ],
 "metadata": {
  "kernelspec": {
   "display_name": "Python 2",
   "language": "python",
   "name": "python2"
  },
  "language_info": {
   "codemirror_mode": {
    "name": "ipython",
    "version": 2
   },
   "file_extension": ".py",
   "mimetype": "text/x-python",
   "name": "python",
   "nbconvert_exporter": "python",
   "pygments_lexer": "ipython2",
   "version": "2.7.12"
  }
 },
 "nbformat": 4,
 "nbformat_minor": 1
}