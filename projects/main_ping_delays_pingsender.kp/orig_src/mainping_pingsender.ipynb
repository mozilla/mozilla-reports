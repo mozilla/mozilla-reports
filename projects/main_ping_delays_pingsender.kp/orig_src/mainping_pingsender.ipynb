{
 "cells": [
  {
   "cell_type": "raw",
   "metadata": {},
   "source": [
    "---\n",
    "title: \"Main Ping Submission Delay - pingSender\"\n",
    "authors:\n",
    "- dexter\n",
    "tags:\n",
    "- main ping\n",
    "- delay\n",
    "- pingSender\n",
    "created_at: 2017-05-02\n",
    "updated_at: 2017-05-02\n",
    "tldr: How long does it take before we get main pings from users that have pingSender vs users who don't?\n",
    "---"
   ]
  },
  {
   "cell_type": "markdown",
   "metadata": {},
   "source": [
    "### Main Ping Submission and Recording Delays - pingSender"
   ]
  },
  {
   "cell_type": "markdown",
   "metadata": {},
   "source": [
    "This analysis is an adaptation of [the one](http://reports.telemetry.mozilla.org/post/projects/crash_ping_delays_pingSender.kp) performed on crash pings to validate the effectiveness of the pingsender to reduce data latency.\n",
    "\n",
    "Specifically, this one investigates the difference between typical values of \"recording delay\" and \"submission delay\" before and after [pingSender started sending \"shutdown\" pings](https://bugzilla.mozilla.org/show_bug.cgi?id=1356673)."
   ]
  },
  {
   "cell_type": "code",
   "execution_count": null,
   "metadata": {
    "collapsed": false,
    "scrolled": true
   },
   "outputs": [],
   "source": [
    "import ujson as json\n",
    "import matplotlib.pyplot as plt\n",
    "import pandas as pd\n",
    "import numpy as np\n",
    "import plotly.plotly as py\n",
    "import IPython\n",
    "\n",
    "from datetime import datetime, timedelta\n",
    "from email.utils import parsedate_tz, mktime_tz, formatdate\n",
    "\n",
    "from plotly.graph_objs import *\n",
    "from moztelemetry import get_pings_properties, get_one_ping_per_client\n",
    "from moztelemetry.dataset import Dataset\n",
    "\n",
    "%matplotlib inline\n",
    "IPython.core.pylabtools.figsize(16, 7)"
   ]
  },
  {
   "cell_type": "markdown",
   "metadata": {},
   "source": [
    "We'll be looking at two cohorts: April 2-8 and April 30 - May 6. The `pingsender` started sending `shudown` pings on the 14th of April, but due to some crashes we disabled it shortly after. We enabled sending the `shutdown` ping using the pingsender, again, on the 28th of April.\n",
    "\n",
    "We will examing two cohorts: the first with `shutdown` pings sent without the `pingsender`, the second with `shutdown` pings sent with the `pingsender`."
   ]
  },
  {
   "cell_type": "code",
   "execution_count": null,
   "metadata": {
    "collapsed": false
   },
   "outputs": [],
   "source": [
    "pre_pings = Dataset.from_source(\"telemetry\") \\\n",
    "    .where(docType=\"main\") \\\n",
    "    .where(appUpdateChannel=\"nightly\") \\\n",
    "    .where(submissionDate=lambda x: \"20170402\" <= x < \"20170408\") \\\n",
    "    .where(appBuildId=lambda x: \"20170402\" <= x < \"20170408\") \\\n",
    "    .records(sc, sample=1)\n",
    "\n",
    "post_pings = Dataset.from_source(\"telemetry\") \\\n",
    "    .where(docType=\"main\") \\\n",
    "    .where(appUpdateChannel=\"nightly\") \\\n",
    "    .where(submissionDate=lambda x: \"20170430\" <= x < \"20170506\") \\\n",
    "    .where(appBuildId=lambda x: \"20170430\" <= x < \"20170506\") \\\n",
    "    .records(sc, sample=1)"
   ]
  },
  {
   "cell_type": "markdown",
   "metadata": {},
   "source": [
    "To look at delays, we need to look at times. There are a lot of times, and they are recorded relative to different clocks."
   ]
  },
  {
   "cell_type": "markdown",
   "metadata": {},
   "source": [
    "**`meta/creationTimestamp`** The time the Telemetry code in Firefox created the ping, according to the client's clock, in nanoseconds since the epoch.\n",
    "\n",
    "**`meta/Date`** - The time the Telemetry code in Firefox sent the ping to the server, according to the client's clock, expressed as a Date string conforming to [RFC 7231](https://tools.ietf.org/html/rfc7231#section-7.1.1.1).\n",
    "\n",
    "**`meta/Timestamp`** - The time the ping was received by the server, according to the server's\n",
    "clock, expressed in nanoseconds since the epoch."
   ]
  },
  {
   "cell_type": "code",
   "execution_count": null,
   "metadata": {
    "collapsed": false
   },
   "outputs": [],
   "source": [
    "pre_subset = get_pings_properties(pre_pings, [\"application/channel\",\n",
    "                                              \"id\",\n",
    "                                              \"meta/creationTimestamp\",\n",
    "                                              \"meta/Date\",\n",
    "                                              \"meta/Timestamp\",\n",
    "                                              \"meta/X-PingSender-Version\",\n",
    "                                              \"payload/info/reason\",\n",
    "                                              \"payload/simpleMeasurements/shutdownDuration\"])\n",
    "\n",
    "post_subset = get_pings_properties(post_pings, [\"application/channel\",\n",
    "                                                \"id\",\n",
    "                                                \"meta/creationTimestamp\",\n",
    "                                                \"meta/Date\",\n",
    "                                                \"meta/Timestamp\",\n",
    "                                                \"meta/X-PingSender-Version\",\n",
    "                                                \"payload/info/reason\",\n",
    "                                                \"payload/simpleMeasurements/shutdownDuration\"])"
   ]
  },
  {
   "cell_type": "markdown",
   "metadata": {},
   "source": [
    "The `shutdown` ping is a particular kind of `main` ping with the `reason` field set to `shutdown`, as it's saved during shutdown."
   ]
  },
  {
   "cell_type": "code",
   "execution_count": null,
   "metadata": {
    "collapsed": false
   },
   "outputs": [],
   "source": [
    "pre_subset = pre_subset.filter(lambda p: p.get(\"payload/info/reason\") == \"shutdown\")\n",
    "post_subset = post_subset.filter(lambda p: p.get(\"payload/info/reason\") == \"shutdown\")"
   ]
  },
  {
   "cell_type": "markdown",
   "metadata": {},
   "source": [
    "The rest of the analysis is cleaner if we combine the two cohorts here."
   ]
  },
  {
   "cell_type": "code",
   "execution_count": null,
   "metadata": {
    "collapsed": false
   },
   "outputs": [],
   "source": [
    "def add_pre(p):\n",
    "    p['pre'] = 'pre'\n",
    "    return p\n",
    "\n",
    "def add_post(p):\n",
    "    p['pre'] = 'post'\n",
    "    return p\n",
    "\n",
    "combined = pre_subset.map(add_pre).union(post_subset.map(add_post))"
   ]
  },
  {
   "cell_type": "markdown",
   "metadata": {},
   "source": [
    "Quick normalization: ditch any ping that doesn't have a creationTimestamp or Timestamp:"
   ]
  },
  {
   "cell_type": "code",
   "execution_count": null,
   "metadata": {
    "collapsed": false
   },
   "outputs": [],
   "source": [
    "prev_count = combined.count()\n",
    "combined = combined.filter(lambda p:\\\n",
    "                       p[\"meta/Timestamp\"] is not None\\\n",
    "                       and p[\"meta/creationTimestamp\"] is not None)\n",
    "filtered_count = combined.count()\n",
    "print \"Filtered {} of {} pings ({:.2f}%)\"\\\n",
    "    .format(prev_count - filtered_count, prev_count, 100.0 * (prev_count - filtered_count) / prev_count)"
   ]
  },
  {
   "cell_type": "markdown",
   "metadata": {},
   "source": [
    "##### Deduplication\n",
    "We sometimes receive main pings more than once (identical document ids). This is usually low, but let's check if this is still true after using the pingsender.\n",
    "\n",
    "So we'll dedupe here."
   ]
  },
  {
   "cell_type": "code",
   "execution_count": null,
   "metadata": {
    "collapsed": true
   },
   "outputs": [],
   "source": [
    "def dedupe(pings):\n",
    "    return pings\\\n",
    "            .map(lambda p: (p[\"id\"], p))\\\n",
    "            .reduceByKey(lambda a, b: a if a[\"meta/Timestamp\"] < b[\"meta/Timestamp\"] else b)\\\n",
    "            .map(lambda pair: pair[1])\n",
    "\n",
    "combined_deduped = dedupe(combined)"
   ]
  },
  {
   "cell_type": "code",
   "execution_count": null,
   "metadata": {
    "collapsed": false
   },
   "outputs": [],
   "source": [
    "combined_count = combined.count()\n",
    "combined_deduped_count = combined_deduped.count()\n",
    "print \"Filtered {} of {} shutdown pings ({:.2f}%)\"\\\n",
    "    .format(combined_count - combined_deduped_count, combined_count,\n",
    "            100.0 * (combined_count - combined_deduped_count) / combined_count)"
   ]
  },
  {
   "cell_type": "markdown",
   "metadata": {},
   "source": [
    "We'll be plotting Cumulative Distribution Functions today."
   ]
  },
  {
   "cell_type": "code",
   "execution_count": null,
   "metadata": {
    "collapsed": true
   },
   "outputs": [],
   "source": [
    "MAX_DELAY_S = 60 * 60 * 96.0\n",
    "HOUR_IN_S = 60 * 60.0\n",
    "PRES = ['pre', 'post']"
   ]
  },
  {
   "cell_type": "code",
   "execution_count": null,
   "metadata": {
    "collapsed": true
   },
   "outputs": [],
   "source": [
    "def setup_plot(title, max_x, area_border_x=0.1, area_border_y=0.1):\n",
    "    plt.title(title)\n",
    "    plt.xlabel(\"Delay (hours)\")\n",
    "    plt.ylabel(\"% of pings\")\n",
    "\n",
    "    plt.xticks(range(0, int(max_x) + 1, 2))\n",
    "    plt.yticks(map(lambda y: y / 20.0, range(0, 21, 1)))\n",
    "\n",
    "    plt.ylim(0.0 - area_border_y, 1.0 + area_border_y)\n",
    "    plt.xlim(0.0 - area_border_x, max_x + area_border_x)\n",
    "\n",
    "    plt.grid(True)\n",
    "\n",
    "def plot_cdf(data):\n",
    "    sortd = np.sort(data)\n",
    "    ys = np.arange(len(sortd))/float(len(sortd))\n",
    "\n",
    "    plt.plot(sortd, ys)"
   ]
  },
  {
   "cell_type": "code",
   "execution_count": null,
   "metadata": {
    "collapsed": true
   },
   "outputs": [],
   "source": [
    "def calculate_submission_delay(p):\n",
    "    created = datetime.fromtimestamp(p[\"meta/creationTimestamp\"] / 1000.0 / 1000.0 / 1000.0)\n",
    "    received = datetime.fromtimestamp(p[\"meta/Timestamp\"] / 1000.0 / 1000.0 / 1000.0)\n",
    "    sent = datetime.fromtimestamp(mktime_tz(parsedate_tz(p[\"meta/Date\"]))) if p[\"meta/Date\"] is not None else received\n",
    "    clock_skew = received - sent\n",
    "    \n",
    "    return (received - created - clock_skew).total_seconds()"
   ]
  },
  {
   "cell_type": "code",
   "execution_count": null,
   "metadata": {
    "collapsed": true
   },
   "outputs": [],
   "source": [
    "delays_by_chan = combined_deduped.map(lambda p: (p[\"pre\"], calculate_submission_delay(p)))"
   ]
  },
  {
   "cell_type": "markdown",
   "metadata": {},
   "source": [
    "### Submission Delay\n",
    "\n",
    "**Submission Delay** is the delay between the data being recorded on the client and it being received by our infrastructure. It is thought to be dominated by the length of time Firefox isn't open on a client's computer, though retransmission attempts and throttling can also contribute."
   ]
  },
  {
   "cell_type": "code",
   "execution_count": null,
   "metadata": {
    "collapsed": false
   },
   "outputs": [],
   "source": [
    "setup_plot(\"'shutdown' ping submission delay CDF\", MAX_DELAY_S / HOUR_IN_S, area_border_x=1.0)\n",
    "\n",
    "for pre in PRES:\n",
    "    plot_cdf(delays_by_chan\\\n",
    "             .filter(lambda d: d[0] == pre)\\\n",
    "             .map(lambda d: d[1] / HOUR_IN_S if d[1] < MAX_DELAY_S else MAX_DELAY_S / HOUR_IN_S)\\\n",
    "             .collect())\n",
    "    \n",
    "plt.legend([\"No pingsender\", \"With pingsender\"], loc=\"lower right\")"
   ]
  },
  {
   "cell_type": "markdown",
   "metadata": {},
   "source": [
    "The use of `pingsender` results in an improvement in the submission delay of the `shutdown` \"main\" ping. We receive almost 85% of the mentioned pings as soon as they are generated, instead of just ~30% within the first hour.\n",
    "\n",
    "We don't receive 100% of the pings sooner for builds having the `pingsender` enabled because the `pingsender` can fail submitting the ping (e.g. the system or Firefox uses a proxy, poor connection, ...) and, when this happen, no retrasmission is attempted; the ping will be sent on the next restart by Firefox.\n",
    "\n",
    "## How many duplicates come from the pingsender?\n",
    "Let's start by separating the pings coming from the `pingsender` from the ones coming from the normal Firefox flow since the `pingsender` started sending the `shutdown` pings. "
   ]
  },
  {
   "cell_type": "code",
   "execution_count": null,
   "metadata": {
    "collapsed": true
   },
   "outputs": [],
   "source": [
    "post_pingsender_only = post_subset.filter(lambda p: p.get(\"meta/X-PingSender-Version\") is not None)\n",
    "post_no_pingsender = post_subset.filter(lambda p: p.get(\"meta/X-PingSender-Version\") is None)"
   ]
  },
  {
   "cell_type": "code",
   "execution_count": null,
   "metadata": {
    "collapsed": false
   },
   "outputs": [],
   "source": [
    "num_from_pingsender = post_pingsender_only.count()\n",
    "num_no_pingsender = post_no_pingsender.count()\n",
    "total_post = post_subset.count()\n",
    "num_sent_by_both =\\\n",
    "    post_pingsender_only.map(lambda p: p[\"id\"]).intersection(post_no_pingsender.map(lambda p: p[\"id\"])).count()"
   ]
  },
  {
   "cell_type": "markdown",
   "metadata": {},
   "source": [
    "We want to understand how many pings were sent by the pingsender, correctly received from the server, and sent again next time Firefox starts."
   ]
  },
  {
   "cell_type": "code",
   "execution_count": null,
   "metadata": {
    "collapsed": false
   },
   "outputs": [],
   "source": [
    "def pct(a, b):\n",
    "    return 100 * float(a) / b\n",
    "\n",
    "print(\"Duplicate pings percentage: {:.2f}%\".format(pct(num_sent_by_both, total_post)))"
   ]
  },
  {
   "cell_type": "markdown",
   "metadata": {},
   "source": [
    "Do we get many more duplicates after landing the `shutdown pingsender`?"
   ]
  },
  {
   "cell_type": "code",
   "execution_count": null,
   "metadata": {
    "collapsed": false
   },
   "outputs": [],
   "source": [
    "count_deduped_pre = dedupe(pre_subset).count()\n",
    "count_pre = pre_subset.count()\n",
    "count_deduped_post = dedupe(post_subset).count()\n",
    "count_post = post_subset.count()\n",
    "\n",
    "print(\"Duplicates with shutdown pingsender:\\nBefore:\\t{:.2f}%\\nAfter:\\t{:.2f}%\\n\"\\\n",
    "      .format(pct(count_pre - count_deduped_pre, count_pre),\n",
    "              pct(count_post - count_deduped_post, count_post)))"
   ]
  },
  {
   "cell_type": "markdown",
   "metadata": {},
   "source": [
    "It looks like 1% of the pings sent by the `pingsender` are also being sent by Firefox next time it restarts. This is potentially due to `pingsender`:\n",
    "\n",
    "- being terminated after sending the ping but before successfully deleting the ping from the disk;\n",
    "- failing to remove the ping from the disk after sending it;\n",
    "- receiving an error code from the server even when the ping was successfully sent.\n",
    "\n",
    "It's important to note that the percentages of duplicate pings from the previous cells are not the same. The first, 1.38%, is the percentage of duplicates that were sent at least once by pingsender whereas the last, 1.61%, includes all duplicates regardless of whether pingsender was involved.\n",
    "\n",
    "## What's the delay between duplicate submissions?\n",
    "Start off by getting the pings that were sent by both the `pingsender` and the normal Firefox flow. This is basically mimicking an `intersectByKey`, which is not available on pySpark."
   ]
  },
  {
   "cell_type": "code",
   "execution_count": null,
   "metadata": {
    "collapsed": true
   },
   "outputs": [],
   "source": [
    "pingsender_dupes = post_pingsender_only\\\n",
    "    .map(lambda p: (p[\"id\"], calculate_submission_delay(p)))\\\n",
    "    .cogroup(post_no_pingsender\\\n",
    "           .map(lambda p: (p[\"id\"], calculate_submission_delay(p))))\\\n",
    "    .filter(lambda p: p[1][0] and p[1][1])\\\n",
    "    .map(lambda p: (p[0], (list(p[1][0]), list(p[1][1]))))"
   ]
  },
  {
   "cell_type": "markdown",
   "metadata": {},
   "source": [
    "The `pingsender_dupes` RDD should now contain only the data for the pings sent by both systems. Each entry is in the form:\n",
    "\n",
    "`{ping-id: ([ delays for duplicates from the pingsender ], [delays for duplicates by FF])}`\n",
    "\n",
    "We assume that the `pingsender` only sends a ping once and that Firefox might attempt to send more than once, hence might have more than one ping delay in its list. Let's see if these claims hold true."
   ]
  },
  {
   "cell_type": "code",
   "execution_count": null,
   "metadata": {
    "collapsed": false
   },
   "outputs": [],
   "source": [
    "pingsender_dupes.first()"
   ]
  },
  {
   "cell_type": "code",
   "execution_count": null,
   "metadata": {
    "collapsed": false
   },
   "outputs": [],
   "source": [
    "# Number of duplicates, for each duped ping, from the pingsender.\n",
    "print pingsender_dupes.map(lambda p: len(p[1][0])).countByValue()\n",
    "# Number of duplicates, for each duped ping, from Firefox.\n",
    "print pingsender_dupes.map(lambda p: len(p[1][1])).countByValue()"
   ]
  },
  {
   "cell_type": "markdown",
   "metadata": {},
   "source": [
    "It seems that the `pingsender` can, sometimes, send the ping more than once. That's unexpected, but it has a relatively low occurrence (just twice over 4069 duplicated pings). The same issue can be seen with Firefox, with the occurrence being a little higher.\n",
    "\n",
    "Finally, compute the average delay between the duplicates from the `pingsender` and Firefox."
   ]
  },
  {
   "cell_type": "code",
   "execution_count": null,
   "metadata": {
    "collapsed": false
   },
   "outputs": [],
   "source": [
    "delay_between_duplicates =\\\n",
    "    pingsender_dupes.map(lambda t: np.fabs(np.max(t[1][1]) - np.min(t[1][0])))"
   ]
  },
  {
   "cell_type": "code",
   "execution_count": null,
   "metadata": {
    "collapsed": false
   },
   "outputs": [],
   "source": [
    "setup_plot(\"'shutdown' duplicates submission delay CDF\", MAX_DELAY_S / HOUR_IN_S, area_border_x=1.0)\n",
    "\n",
    "plot_cdf(delay_between_duplicates\\\n",
    "         .map(lambda d: d / HOUR_IN_S if d < MAX_DELAY_S else MAX_DELAY_S / HOUR_IN_S)\\\n",
    "         .collect())\n",
    "plt.axvline(x=4, ymin=0.0, ymax = 1.0, linewidth=1, linestyle='dashed', color='r')\n",
    "plt.legend([\"Duplicates delay\", \"4 hour filter limit\"], loc=\"lower right\")"
   ]
  },
  {
   "cell_type": "markdown",
   "metadata": {},
   "source": [
    "About ~65% of the duplicates can be caught by the deduplicator because they will arrive within a 4 hour window."
   ]
  },
  {
   "cell_type": "code",
   "execution_count": null,
   "metadata": {
    "collapsed": true
   },
   "outputs": [],
   "source": [
    "collected_delays = delay_between_duplicates.collect()"
   ]
  },
  {
   "cell_type": "code",
   "execution_count": null,
   "metadata": {
    "collapsed": false
   },
   "outputs": [],
   "source": [
    "plt.title(\"The distribution of 'shutdown' ping delays for duplicate submissions\")\n",
    "plt.xlabel(\"Delay (seconds)\")\n",
    "plt.ylabel(\"Frequency\")\n",
    "\n",
    "# Use 50 bins for values up to the clip value, and accumulate the\n",
    "# rest in the last bucket (instead of having a super-long tail).\n",
    "plt.hist(np.clip(collected_delays, 0, 48.0 * HOUR_IN_S),\n",
    "         alpha=0.5, bins=50, label=\"Delays\")\n",
    "# Plot some convenience marker for 4, 12 and 24 hours.\n",
    "for m in [4.0, 12.0, 24.0]:\n",
    "    plt.axvline(x=m * HOUR_IN_S, ymin=0.0, ymax = 1.0, linewidth=1, linestyle='dashed', color='r',\n",
    "                label=\"{} hours\".format(m))\n",
    "plt.legend()"
   ]
  },
  {
   "cell_type": "markdown",
   "metadata": {},
   "source": [
    "## Did we regress shutdownDuration?\n",
    "The `shutdownDuration` is [defined](https://gecko.readthedocs.io/en/latest/toolkit/components/telemetry/telemetry/data/main-ping.html#shutdownduration) as the time it takes to complete the Firefox shutdown process, in milliseconds. Extract the data from the two series: before the shutdown pingsender was enabled and after. Plot the data as two distinct distributions on the same plot."
   ]
  },
  {
   "cell_type": "code",
   "execution_count": null,
   "metadata": {
    "collapsed": false
   },
   "outputs": [],
   "source": [
    "pre_shutdown_durations = pre_subset.map(lambda p: p.get(\"payload/simpleMeasurements/shutdownDuration\", None))\\\n",
    "                                   .filter(lambda p: p is not None)\\\n",
    "                                   .collect()\n",
    "post_shutdown_durations = post_subset.map(lambda p: p.get(\"payload/simpleMeasurements/shutdownDuration\", None))\\\n",
    "                                     .filter(lambda p: p is not None)\\\n",
    "                                     .collect()"
   ]
  },
  {
   "cell_type": "code",
   "execution_count": null,
   "metadata": {
    "collapsed": false
   },
   "outputs": [],
   "source": [
    "plt.title(\"'shutdown' pingsender effect on the shutdown duration\")\n",
    "plt.xlabel(\"shutdownDuration (milliseconds)\")\n",
    "plt.ylabel(\"Number of pings\")\n",
    "\n",
    "# Use 50 bins for values up to the clip value, and accumulate the\n",
    "# rest in the last bucket (instead of having a super-long tail).\n",
    "CLIP_VALUE = 10000 # 10s\n",
    "plt.hist([np.clip(pre_shutdown_durations, 0, CLIP_VALUE), np.clip(post_shutdown_durations, 0, CLIP_VALUE)],\n",
    "         alpha=0.5, bins=50, label=[\"No pingsender\", \"With pingsender\"])\n",
    "plt.legend()"
   ]
  },
  {
   "cell_type": "markdown",
   "metadata": {},
   "source": [
    "It seems that the distribution of shutdown durations for builds with the pingsender enabled has a different shape compared to the distribution of shutdown durations for builds with no pingsender. The former seems to be a bit shifted toward higher values of the duration times. The same trend can be spotted on [TMO](https://mzl.la/2qobTpj).\n",
    "\n",
    "Let's dig more into this by looking at some statistics about the durations."
   ]
  },
  {
   "cell_type": "code",
   "execution_count": null,
   "metadata": {
    "collapsed": false
   },
   "outputs": [],
   "source": [
    "def stats(data, label):\n",
    "    print(\"\\n{}\\n\".format(label))\n",
    "    print(\"Min:\\t{}\".format(np.min(data)))\n",
    "    print(\"Max:\\t{}\".format(np.max(data)))\n",
    "    print(\"Average:\\t{}\".format(np.mean(data)))\n",
    "    print(\"50, 90 and 99 percentiles:\\t{}\\n\".format(np.percentile(data, [0.5, 0.9, 0.99])))\n",
    "\n",
    "stats(pre_shutdown_durations, \"No pingsender (ms)\")\n",
    "stats(post_shutdown_durations, \"With pingsender (ms)\")"
   ]
  },
  {
   "cell_type": "markdown",
   "metadata": {
    "collapsed": true
   },
   "source": [
    "It seems that builds that are sending `shutdown` pings at shutdown are taking up to about 4ms more to close."
   ]
  },
  {
   "cell_type": "code",
   "execution_count": null,
   "metadata": {
    "collapsed": true
   },
   "outputs": [],
   "source": []
  }
 ],
 "metadata": {
  "anaconda-cloud": {},
  "kernelspec": {
   "display_name": "Python 2",
   "language": "python",
   "name": "python2"
  },
  "language_info": {
   "codemirror_mode": {
    "name": "ipython",
    "version": 2
   },
   "file_extension": ".py",
   "mimetype": "text/x-python",
   "name": "python",
   "nbconvert_exporter": "python",
   "pygments_lexer": "ipython2",
   "version": "2.7.12"
  }
 },
 "nbformat": 4,
 "nbformat_minor": 0
}