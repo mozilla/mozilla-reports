{
 "cells": [
  {
   "cell_type": "raw",
   "metadata": {},
   "source": [
    "---\n",
    "title: TLS 1.3 Beta 51 Experiment Analysis\n",
    "authors:\n",
    "- sunahsuh \n",
    "tags:\n",
    "- experiments\n",
    "- firefox\n",
    "- tls13\n",
    "created_at: 2017-02-09\n",
    "updated_at: 2017-02-09\n",
    "tldr: An analysis of relevant histograms for the TLS 1.3 Beta 51 Experiment\n",
    "---"
   ]
  },
  {
   "cell_type": "markdown",
   "metadata": {},
   "source": [
    "### TLS 1.3 Experiment Beta 51"
   ]
  },
  {
   "cell_type": "code",
   "execution_count": null,
   "metadata": {
    "collapsed": false
   },
   "outputs": [],
   "source": [
    "import ujson as json\n",
    "import matplotlib.pyplot as plt\n",
    "import pandas as pd\n",
    "import numpy as np\n",
    "import plotly.plotly as py\n",
    "import IPython\n",
    "\n",
    "from __future__ import division\n",
    "from moztelemetry.spark import get_one_ping_per_client, get_pings_properties\n",
    "from moztelemetry import Dataset\n",
    "from montecarlino import grouped_permutation_test\n",
    "\n",
    "%pylab inline\n",
    "IPython.core.pylabtools.figsize(16, 7)\n",
    "import warnings; warnings.simplefilter('ignore')"
   ]
  },
  {
   "cell_type": "code",
   "execution_count": null,
   "metadata": {
    "collapsed": false
   },
   "outputs": [],
   "source": [
    "sc.defaultParallelism"
   ]
  },
  {
   "cell_type": "code",
   "execution_count": null,
   "metadata": {
    "collapsed": false
   },
   "outputs": [],
   "source": [
    "def chi2_distance(xs, ys, eps = 1e-10, normalize = True):\n",
    "    histA = xs.sum(axis=0)\n",
    "    histB = ys.sum(axis=0)\n",
    "    \n",
    "    if normalize:\n",
    "        histA = histA/histA.sum()\n",
    "        histB = histB/histB.sum()\n",
    "    \n",
    "    d = 0.5 * np.sum([((a - b) ** 2) / (a + b + eps)\n",
    "        for (a, b) in zip(histA, histB)])\n",
    "\n",
    "    return d\n",
    "\n",
    "def median_diff(xs, ys):\n",
    "    return np.median(xs) - np.median(ys)\n",
    "\n",
    "def compare_histogram(histogram, branches, treatment, control):\n",
    "    pvalue = grouped_permutation_test(chi2_distance, [treatment, control], num_samples=100)\n",
    "    \n",
    "    eTotal = treatment.sum()\n",
    "    nTotal = control.sum()\n",
    "        \n",
    "    eTotal = 100*eTotal/eTotal.sum()\n",
    "    nTotal = 100*nTotal/nTotal.sum()\n",
    "        \n",
    "    fig = plt.figure()\n",
    "    fig.subplots_adjust(hspace=0.3)\n",
    "        \n",
    "    ax = fig.add_subplot(1, 1, 1)\n",
    "    ax2 = ax.twinx()\n",
    "    width = 0.4\n",
    "    ylim = max(eTotal.max(), nTotal.max())\n",
    "        \n",
    "    eTotal.plot(kind=\"bar\", alpha=0.5, color=\"yellow\", label=branches[0], ax=ax, width=width, position=0, ylim=(0, ylim + 1))\n",
    "    nTotal.plot(kind=\"bar\", alpha=0.5, color=\"blue\", label=branches[1], ax=ax2, width=width, position=1, grid=False, ylim=ax.get_ylim())\n",
    "        \n",
    "    ax.legend(ax.get_legend_handles_labels()[0] + ax2.get_legend_handles_labels()[0],\n",
    "              [\"{} ({} samples\".format(branches[0], len(treatment)), \"{} ({} samples)\".format(branches[1], len(control))])\n",
    "\n",
    "    plt.title(histogram)\n",
    "    plt.xlabel(histogram)\n",
    "    plt.ylabel(\"Frequency %\")\n",
    "    plt.show()\n",
    "        \n",
    "    print \"The probability that the distributions for {} are differing by chance is {:.2f}.\".format(histogram, pvalue)\n",
    "    \n",
    "def normalize_uptime_hour(frame):\n",
    "    frame = frame[frame[\"payload/simpleMeasurements/uptime\"] > 0]\n",
    "    frame.drop(\"environment/addons/activeExperiment/branch\", axis=1, inplace=True)\n",
    "    frame = 60 * frame.apply(lambda x: x/frame[\"payload/simpleMeasurements/uptime\"]) # Metric per hour\n",
    "    frame.drop('payload/simpleMeasurements/uptime', axis=1, inplace=True)\n",
    "    return frame\n",
    "    \n",
    "def compare_count_histograms(pings, branches, *histograms_names):\n",
    "    \n",
    "    properties = histograms_names + (\"payload/simpleMeasurements/uptime\", \"environment/addons/activeExperiment/branch\")\n",
    "\n",
    "    frame = pd.DataFrame(get_pings_properties(pings, properties).collect())\n",
    "\n",
    "    first = frame[frame[\"environment/addons/activeExperiment/branch\"] == branches[0]]\n",
    "    first = normalize_uptime_hour(first)\n",
    "    \n",
    "    second = frame[frame[\"environment/addons/activeExperiment/branch\"] == branches[1]]\n",
    "    second = normalize_uptime_hour(second)\n",
    "    \n",
    "    for histogram in first.columns:\n",
    "        if histogram == \"environment/addons/activeExperiment/branch\" or histogram.endswith(\"_parent\") or histogram.endswith(\"_children\"):\n",
    "            continue\n",
    "        compare_scalars(histogram + \" per hour\", first[histogram].dropna(), second[histogram].dropna())\n",
    "\n",
    "        \n",
    "def compare_histograms(pings, branches, *histogram_names):\n",
    "    frame = pd.DataFrame(get_pings_properties(pings, histogram_names + (\"environment/addons/activeExperiment/branch\",), with_processes=True).collect())\n",
    "    first = frame[frame[\"environment/addons/activeExperiment/branch\"] == branches[0]]\n",
    "    second = frame[frame[\"environment/addons/activeExperiment/branch\"] == branches[1]]\n",
    "    \n",
    "    for histogram in second.columns:\n",
    "        if histogram == \"environment/addons/activeExperiment/branch\" or histogram.endswith(\"_parent\") or histogram.endswith(\"_children\"):\n",
    "            continue\n",
    "            \n",
    "        has_children = np.sum(first[histogram + \"_children\"].notnull()) > 0\n",
    "        has_parent = np.sum(first[histogram + \"_parent\"].notnull()) > 0\n",
    "        \n",
    "        if has_children and has_parent:\n",
    "            compare_histogram(histogram + \" (parent + children)\", branches, first[histogram].dropna(), second[histogram].dropna())\n",
    "            \n",
    "        if has_parent:\n",
    "            compare_histogram(histogram + \" (parent)\", branches, first[histogram + \"_parent\"].dropna(), second[histogram].dropna())\n",
    "            \n",
    "        if has_children:\n",
    "            compare_histogram(histogram + \" (children)\", branches, first[histogram + \"_children\"].dropna(), second[histogram].dropna())\n",
    "                    \n",
    "\n",
    "                \n",
    "def compare_scalars(metric, *groups):\n",
    "    if groups[0].empty or groups[1].empty:\n",
    "        return\n",
    "    print \"Median difference in {} is {:.2f}, ({:.2f}, {:.2f}).\".format(metric,\n",
    "                                                                        median_diff(*groups), \n",
    "                                                                        np.median(groups[0]),\n",
    "                                                                        np.median(groups[1]))\n",
    "\n",
    "    print \"The probablity of this effect being purely by chance is {:.2f}.\". \\\n",
    "        format(grouped_permutation_test(median_diff, groups, num_samples=10000))\n",
    "\n",
    "def compare_enabled_control_histograms(pings, *histograms):\n",
    "    return compare_histograms(pings, ['enabled', 'control'], *histograms)\n",
    "\n",
    "def compare_enabled_disabled_histograms(pings, *histograms):\n",
    "        return compare_histograms(pings, ['enabled', 'disabled'], *histograms)\n",
    "\n",
    "def compare_enabled_control_count_histograms(pings, *histograms):\n",
    "        return compare_count_histograms(pings, ['enabled', 'control'], *histograms)\n",
    "\n",
    "def compare_enabled_disabled_count_histograms(pings, *histograms):\n",
    "        return compare_count_histograms(pings, ['enabled', 'disabled'], *histograms)\n"
   ]
  },
  {
   "cell_type": "markdown",
   "metadata": {},
   "source": [
    "#### Get treatment and control partitions"
   ]
  },
  {
   "cell_type": "markdown",
   "metadata": {},
   "source": [
    "This experiment didn't have a control, but it was sampled for 10% of the population. We'll take a 10% sample of the population that wasn't in the experiment (from our initial filtered set that recreates the experimental eligibility criteria) and use that as our control group. Note that there may still be some confounding factors due to the way samples are taken for telemetry experiments, but for the purpose of this analysis, taking from the population of people who aren't in the experiment but could qualify is probably fine."
   ]
  },
  {
   "cell_type": "code",
   "execution_count": null,
   "metadata": {
    "collapsed": true
   },
   "outputs": [],
   "source": [
    "def is_in_tls_experiment(ping):\n",
    "    try:\n",
    "        experiment = ping[\"environment\"][\"addons\"][\"activeExperiment\"]\n",
    "        return experiment[\"id\"] == \"tls13-compat-ff51@experiments.mozilla.org\"\n",
    "    except:\n",
    "        return False\n",
    "\n",
    "def is_not_in_tls_experiment(ping):\n",
    "    try:\n",
    "        experiment = ping[\"environment\"][\"addons\"][\"activeExperiment\"]\n",
    "    except:\n",
    "        return False\n",
    "    try:\n",
    "        return experiment[\"id\"] != \"tls13-compat-ff51@experiments.mozilla.org\"\n",
    "    except:\n",
    "        return True"
   ]
  },
  {
   "cell_type": "code",
   "execution_count": null,
   "metadata": {
    "collapsed": true
   },
   "outputs": [],
   "source": [
    "def tag_control(ping):\n",
    "    ping[\"environment\"][\"addons\"][\"oldExperiment\"] = ping[\"environment\"][\"addons\"][\"activeExperiment\"]\n",
    "    ping[\"environment\"][\"addons\"][\"activeExperiment\"] = {\n",
    "        u'branch': u'control',\n",
    "        u'id': u'tls13-compat-ff51@experiments.mozilla.org'\n",
    "    }\n",
    "    return ping"
   ]
  },
  {
   "cell_type": "markdown",
   "metadata": {},
   "source": [
    "Trying to get as close to the experiment's conditions as possible to draw from"
   ]
  },
  {
   "cell_type": "code",
   "execution_count": null,
   "metadata": {
    "collapsed": false
   },
   "outputs": [],
   "source": [
    "all_pings = (Dataset.from_source('telemetry')\n",
    "                .where(docType='main')\n",
    "                .where(appName='Firefox')\n",
    "                .where(appUpdateChannel='beta')\n",
    "                .where(appVersion=lambda x: x >= \"51.\" and x < \"52.\")\n",
    "                .where(appBuildId=lambda x: x >= \"20170105155013\")\n",
    "                .where(submissionDate=lambda x: x >= '20170112' and x < '20170131')\n",
    "                .records(sc, sample=0.02))"
   ]
  },
  {
   "cell_type": "code",
   "execution_count": null,
   "metadata": {
    "collapsed": false
   },
   "outputs": [],
   "source": [
    "experimental = all_pings.filter(is_in_tls_experiment)"
   ]
  },
  {
   "cell_type": "code",
   "execution_count": null,
   "metadata": {
    "collapsed": false
   },
   "outputs": [],
   "source": [
    "control = all_pings.filter(is_not_in_tls_experiment).sample(False, 0.1).map(tag_control)"
   ]
  },
  {
   "cell_type": "code",
   "execution_count": null,
   "metadata": {
    "collapsed": true
   },
   "outputs": [],
   "source": [
    "pings = experimental.union(control).persist()"
   ]
  },
  {
   "cell_type": "markdown",
   "metadata": {},
   "source": [
    "How many pings do we have in each branch?"
   ]
  },
  {
   "cell_type": "code",
   "execution_count": null,
   "metadata": {
    "collapsed": false
   },
   "outputs": [],
   "source": [
    "pings.map(lambda x: (x[\"environment\"][\"addons\"][\"activeExperiment\"].get(\"branch\", None), 1))\\\n",
    "     .countByKey()"
   ]
  },
  {
   "cell_type": "markdown",
   "metadata": {},
   "source": [
    "## Histogram Comparisons"
   ]
  },
  {
   "cell_type": "markdown",
   "metadata": {},
   "source": [
    "#### Note: any \"missing\" histograms generally mean no results were found for that particular histogram in our sample"
   ]
  },
  {
   "cell_type": "markdown",
   "metadata": {},
   "source": [
    "#### SSL Histograms"
   ]
  },
  {
   "cell_type": "code",
   "execution_count": null,
   "metadata": {
    "collapsed": false
   },
   "outputs": [],
   "source": [
    "def filter_histogram(p):\n",
    "    branch = p[\"environment/addons/activeExperiment/branch\"]\n",
    "    histo = p[\"payload/histograms/SSL_VERSION_FALLBACK_INAPPROPRIATE\"]\n",
    "    return (branch, histo[histo != 0.0])\n",
    "\n",
    "get_pings_properties(pings,\n",
    "                     [\"payload/histograms/SSL_VERSION_FALLBACK_INAPPROPRIATE\",\n",
    "                      \"environment/addons/activeExperiment/branch\"]) \\\n",
    "    .filter(lambda p: p[\"payload/histograms/SSL_VERSION_FALLBACK_INAPPROPRIATE\"] is not None) \\\n",
    "    .map(filter_histogram) \\\n",
    "    .collect()"
   ]
  },
  {
   "cell_type": "markdown",
   "metadata": {},
   "source": [
    "There was a single instance of SSL_VERSION_FALLBACK_INAPPROPRIATE in the entire sample"
   ]
  },
  {
   "cell_type": "code",
   "execution_count": null,
   "metadata": {
    "collapsed": false,
    "scrolled": true
   },
   "outputs": [],
   "source": [
    "def add_ssl_handshake_sum(p):\n",
    "    handshakes = 0\n",
    "    try:\n",
    "        for k, v in p[\"payload\"][\"histograms\"][\"SSL_HANDSHAKE_VERSION\"][\"values\"].iteritems():\n",
    "            handshakes += v\n",
    "        p[\"SSL_HANDSHAKE_VERSION_sum\"] = handshakes\n",
    "    except:\n",
    "        pass\n",
    "    return p\n",
    "\n",
    "    \n",
    "pings_with_sum = pings.map(add_ssl_handshake_sum)\n",
    "compare_enabled_control_count_histograms(pings_with_sum, \"SSL_HANDSHAKE_VERSION_sum\")"
   ]
  },
  {
   "cell_type": "markdown",
   "metadata": {},
   "source": [
    "This is very likely a result of the confounding factors in experiment eligibility -- running a similar comparison between the recent GPU experiment on nightly (gpu-process-nightly53@experiments.mozilla.org, which should not have an effect on SSL handshakes) and a \"simulated\" sample yields \"-43.64, (174.55, 218.18)\" with a simliar sized sample."
   ]
  },
  {
   "cell_type": "code",
   "execution_count": null,
   "metadata": {
    "collapsed": false,
    "scrolled": true
   },
   "outputs": [],
   "source": [
    "def add_http_pageload_is_ssl_sum(p):\n",
    "    handshakes = 0\n",
    "    try:\n",
    "        p[\"HTTP_PAGELOAD_IS_SSL_sum\"] = p[\"payload\"][\"histograms\"][\"HTTP_PAGELOAD_IS_SSL\"][\"sum\"]\n",
    "    except:\n",
    "        pass\n",
    "    return p\n",
    "    \n",
    "pings_with_sum = pings.map(add_http_pageload_is_ssl_sum)\n",
    "compare_enabled_control_count_histograms(pings_with_sum, \"HTTP_PAGELOAD_IS_SSL_sum\")"
   ]
  },
  {
   "cell_type": "markdown",
   "metadata": {},
   "source": [
    "Similarly, the GPU experiment's results were -1.67, (7.06, 8.73)."
   ]
  },
  {
   "cell_type": "code",
   "execution_count": null,
   "metadata": {
    "collapsed": false
   },
   "outputs": [],
   "source": [
    "def add_http_pageload_is_not_ssl_sum(p):\n",
    "    handshakes = 0\n",
    "    try:\n",
    "        p[\"HTTP_PAGELOAD_IS_NOT_SSL_sum\"] = p[\"payload\"][\"histograms\"][\"HTTP_PAGELOAD_IS_SSL\"][\"values\"][\"0\"]\n",
    "    except:\n",
    "        pass\n",
    "    return p\n",
    "    \n",
    "pings_with_sum = pings.map(add_http_pageload_is_not_ssl_sum)\n",
    "compare_enabled_control_count_histograms(pings_with_sum, \"HTTP_PAGELOAD_IS_NOT_SSL_sum\")"
   ]
  },
  {
   "cell_type": "code",
   "execution_count": null,
   "metadata": {
    "collapsed": false
   },
   "outputs": [],
   "source": [
    "compare_enabled_control_histograms(pings, \"payload/histograms/SSL_TIME_UNTIL_READY\")"
   ]
  },
  {
   "cell_type": "code",
   "execution_count": null,
   "metadata": {
    "collapsed": false
   },
   "outputs": [],
   "source": [
    "compare_enabled_control_histograms(pings, \"payload/histograms/SSL_TIME_UNTIL_HANDSHAKE_FINISHED\")"
   ]
  },
  {
   "cell_type": "code",
   "execution_count": null,
   "metadata": {
    "collapsed": false
   },
   "outputs": [],
   "source": [
    "compare_enabled_control_histograms(pings, \"payload/histograms/SSL_BYTES_BEFORE_CERT_CALLBACK\")"
   ]
  },
  {
   "cell_type": "markdown",
   "metadata": {},
   "source": [
    "#### SSL Intolerance"
   ]
  },
  {
   "cell_type": "code",
   "execution_count": null,
   "metadata": {
    "collapsed": false,
    "scrolled": false
   },
   "outputs": [],
   "source": [
    "compare_enabled_control_histograms(pings,\n",
    "                   \"payload/histograms/SSL_TLS13_INTOLERANCE_REASON_PRE\",\n",
    "                   \"payload/histograms/SSL_TLS13_INTOLERANCE_REASON_POST\",\n",
    "                   \"payload/histograms/SSL_TLS12_INTOLERANCE_REASON_PRE\",\n",
    "                   \"payload/histograms/SSL_TLS12_INTOLERANCE_REASON_POST\",\n",
    "                   \"payload/histograms/SSL_TLS11_INTOLERANCE_REASON_PRE\",\n",
    "                   \"payload/histograms/SSL_TLS11_INTOLERANCE_REASON_POST\",\n",
    "                   \"payload/histograms/SSL_TLS10_INTOLERANCE_REASON_PRE\",\n",
    "                   \"payload/histograms/SSL_TLS10_INTOLERANCE_REASON_POST\")"
   ]
  },
  {
   "cell_type": "markdown",
   "metadata": {},
   "source": [
    "We shouldn't have any SSL_TLS13_INTOLERANCE_REASON_PRE/SSL_TLS13_INTOLERANCE_REASON_POST results in the control -- taking a closer look below"
   ]
  },
  {
   "cell_type": "code",
   "execution_count": null,
   "metadata": {
    "collapsed": false
   },
   "outputs": [],
   "source": [
    "def reasons(p):\n",
    "    for message in p[\"payload/log\"]:\n",
    "        try:\n",
    "            if message[0] == \"EXPERIMENT_TERMINATION\":\n",
    "                if message[3] == \"tls13-compat-ff51@experiments.mozilla.org\":\n",
    "                    return (message[2], p)\n",
    "        except:\n",
    "            continue\n",
    "    if p[\"payload/info/addons\"] and \"tls13-compat-ff51%40experiments.mozilla.org\" in p[\"payload/info/addons\"]:\n",
    "        return (\"addonNoExperimentTag\", p)\n",
    "    return (\"other\", p)\n",
    "\n",
    "def filter_for_histogram(p, histogram):\n",
    "    if p[histogram] is None:\n",
    "        return False\n",
    "    try:\n",
    "        return p[histogram].sum() > 0\n",
    "    except:\n",
    "        return False\n",
    "\n",
    "def filter_for_ssl_tls13_intolerance_reason_pre(p):\n",
    "    return filter_for_histogram(p, \"payload/histograms/SSL_TLS13_INTOLERANCE_REASON_PRE\")\n",
    "\n",
    "get_pings_properties(pings, [\"payload/histograms/SSL_TLS13_INTOLERANCE_REASON_PRE\",\n",
    "                             \"environment/addons/activeExperiment/branch\",\n",
    "                             \"payload/log\",\n",
    "                             \"payload/info/addons\",\n",
    "                             \"environment/addons/oldExperiment\"]) \\\n",
    "    .filter(lambda p: p[\"environment/addons/activeExperiment/branch\"] == \"control\") \\\n",
    "    .filter(filter_for_ssl_tls13_intolerance_reason_pre) \\\n",
    "    .map(reasons) \\\n",
    "    .countByKey()"
   ]
  },
  {
   "cell_type": "markdown",
   "metadata": {},
   "source": [
    "The most common reason we see this histogram unexpectedly is when the client expired out of the experiment in the course of the subsession. Another common reason is that the client has the addon install but appears to have to active experiment -- we'll need to investigate why this might happen.\n",
    "We have a single instance where neither of these conditions are true. It's possible this user manually enabled the tls13 preferance in about:config (that user's data is below.)"
   ]
  },
  {
   "cell_type": "code",
   "execution_count": null,
   "metadata": {
    "collapsed": false,
    "scrolled": true
   },
   "outputs": [],
   "source": [
    "get_pings_properties(pings, [\"payload/histograms/SSL_TLS13_INTOLERANCE_REASON_PRE\",\n",
    "                             \"environment/addons/activeExperiment/branch\",\n",
    "                             \"payload/log\",\n",
    "                             \"payload/info/addons\",\n",
    "                             \"environment/addons/oldExperiment\"]) \\\n",
    "    .filter(lambda p: p[\"environment/addons/activeExperiment/branch\"] == \"control\") \\\n",
    "    .filter(filter_for_histogram) \\\n",
    "    .map(reasons) \\\n",
    "    .filter(lambda p: p[0] == \"other\") \\\n",
    "    .first()"
   ]
  },
  {
   "cell_type": "markdown",
   "metadata": {},
   "source": [
    "Now we do the same for SSL_TLS13_INTOLERANCE_REASON_POST"
   ]
  },
  {
   "cell_type": "code",
   "execution_count": null,
   "metadata": {
    "collapsed": false,
    "scrolled": true
   },
   "outputs": [],
   "source": [
    "def filter_for_ssl_tls13_intolerance_reason_post(p):\n",
    "    return filter_for_histogram(p, \"payload/histograms/SSL_TLS13_INTOLERANCE_REASON_POST\")\n",
    "\n",
    "get_pings_properties(pings, [\"payload/histograms/SSL_TLS13_INTOLERANCE_REASON_POST\",\n",
    "                             \"environment/addons/activeExperiment/branch\",\n",
    "                             \"payload/log\",\n",
    "                             \"payload/info/addons\",\n",
    "                             \"environment/addons/oldExperiment\"]) \\\n",
    "    .filter(lambda p: p[\"environment/addons/activeExperiment/branch\"] == \"control\") \\\n",
    "    .filter(filter_for_ssl_tls13_intolerance_reason_post) \\\n",
    "    .map(reasons) \\\n",
    "    .countByKey()"
   ]
  },
  {
   "cell_type": "markdown",
   "metadata": {},
   "source": [
    "Similar story here, and it appears the single client who doesn't fall into the two explanations is the same one from above"
   ]
  },
  {
   "cell_type": "code",
   "execution_count": null,
   "metadata": {
    "collapsed": false
   },
   "outputs": [],
   "source": [
    "get_pings_properties(pings, [\"payload/histograms/SSL_TLS13_INTOLERANCE_REASON_POST\",\n",
    "                             \"environment/addons/activeExperiment/branch\",\n",
    "                             \"payload/log\",\n",
    "                             \"payload/info/addons\",\n",
    "                             \"environment/addons/oldExperiment\"]) \\\n",
    "    .filter(lambda p: p[\"environment/addons/activeExperiment/branch\"] == \"control\") \\\n",
    "    .filter(filter_for_ssl_tls13_intolerance_reason_post) \\\n",
    "    .map(reasons) \\\n",
    "    .filter(lambda p: p[0] == \"other\") \\\n",
    "    .first()"
   ]
  },
  {
   "cell_type": "markdown",
   "metadata": {},
   "source": [
    "#### Crash counts"
   ]
  },
  {
   "cell_type": "code",
   "execution_count": null,
   "metadata": {
    "collapsed": false,
    "scrolled": true
   },
   "outputs": [],
   "source": [
    "compare_enabled_control_count_histograms(pings,\n",
    "                   \"payload/keyedHistograms/SUBPROCESS_CRASHES_WITH_DUMP/pluginhang\",\n",
    "                   \"payload/keyedHistograms/SUBPROCESS_ABNORMAL_ABORT/plugin\",\n",
    "                   \"payload/keyedHistograms/SUBPROCESS_ABNORMAL_ABORT/plucontentginhang\",\n",
    "                   \"payload/keyedHistograms/SUBPROCESS_ABNORMAL_ABORT/gmplugin\",\n",
    "                   \"payload/keyedHistograms/SUBPROCESS_CRASHES_WITH_DUMP/plugin\",\n",
    "                   \"payload/keyedHistograms/SUBPROCESS_CRASHES_WITH_DUMP/content\",\n",
    "                   \"payload/keyedHistograms/SUBPROCESS_CRASHES_WITH_DUMP/gmplugin\",\n",
    "                   \"payload/keyedHistograms/PROCESS_CRASH_SUBMIT_ATTEMPT/main-crash\",\n",
    "                   \"payload/keyedHistograms/PROCESS_CRASH_SUBMIT_ATTEMPT/content-crash\",\n",
    "                   \"payload/keyedHistograms/PROCESS_CRASH_SUBMIT_ATTEMPT/plugin-crash\"\n",
    "                  )"
   ]
  },
  {
   "cell_type": "markdown",
   "metadata": {
    "collapsed": true
   },
   "source": [
    "The conclusion from this comparison is that crashes are too rare of an event for our sample size. See the query at https://sql.telemetry.mozilla.org/queries/2637 for a comparison using the Crash Aggregates dataset, which includes all crashes."
   ]
  },
  {
   "cell_type": "code",
   "execution_count": null,
   "metadata": {
    "collapsed": true
   },
   "outputs": [],
   "source": []
  }
 ],
 "metadata": {
  "anaconda-cloud": {},
  "kernelspec": {
   "display_name": "Python [default]",
   "language": "python",
   "name": "python2"
  },
  "language_info": {
   "codemirror_mode": {
    "name": "ipython",
    "version": 2
   },
   "file_extension": ".py",
   "mimetype": "text/x-python",
   "name": "python",
   "nbconvert_exporter": "python",
   "pygments_lexer": "ipython2",
   "version": "2.7.12"
  }
 },
 "nbformat": 4,
 "nbformat_minor": 0
}