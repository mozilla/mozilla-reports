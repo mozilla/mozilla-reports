{
 "cells": [
  {
   "cell_type": "raw",
   "metadata": {},
   "source": [
    "---\n",
    "title: \"Main Ping Submission and Recording Delays by Channel\"\n",
    "authors:\n",
    "- chutten\n",
    "tags:\n",
    "- main ping\n",
    "- delay\n",
    "created_at: 2017-01-20\n",
    "updated_at: 2017-01-20\n",
    "tldr: How long does it take before we get pings from users in each channel?\n",
    "---"
   ]
  },
  {
   "cell_type": "markdown",
   "metadata": {},
   "source": [
    "### Main Ping Submission and Recording Delays by Channel"
   ]
  },
  {
   "cell_type": "markdown",
   "metadata": {},
   "source": [
    "This is some analysis to clarify some stuff I wrote in [a blog post](https://chuttenblog.wordpress.com/2016/11/10/data-science-is-hard-case-study-latency-of-firefox-crash-rates/).\n",
    "\n",
    "Specifically investigating what typical values of \"recording delay\" and \"submission delay\" might be."
   ]
  },
  {
   "cell_type": "code",
   "execution_count": null,
   "metadata": {
    "collapsed": false,
    "scrolled": true
   },
   "outputs": [],
   "source": [
    "import ujson as json\n",
    "import matplotlib.pyplot as plt\n",
    "import pandas as pd\n",
    "import numpy as np\n",
    "import plotly.plotly as py\n",
    "import IPython\n",
    "\n",
    "from datetime import datetime, timedelta\n",
    "from email.utils import parsedate_tz, mktime_tz, formatdate\n",
    "\n",
    "from plotly.graph_objs import *\n",
    "from moztelemetry import get_pings_properties, get_one_ping_per_client\n",
    "from moztelemetry.dataset import Dataset\n",
    "\n",
    "%matplotlib inline\n",
    "IPython.core.pylabtools.figsize(16, 7)"
   ]
  },
  {
   "cell_type": "markdown",
   "metadata": {},
   "source": [
    "Start with the bread-and-butter of Telemetry reporting: the \"main\" ping"
   ]
  },
  {
   "cell_type": "markdown",
   "metadata": {},
   "source": [
    "Looking at Jan 10, 2017 because it's a recent Tuesday that isn't too close to any holidays."
   ]
  },
  {
   "cell_type": "code",
   "execution_count": null,
   "metadata": {
    "collapsed": false
   },
   "outputs": [],
   "source": [
    "pings = Dataset.from_source(\"telemetry\") \\\n",
    "    .where(docType='main') \\\n",
    "    .where(submissionDate=\"20170110\") \\\n",
    "    .records(sc, sample=0.01)"
   ]
  },
  {
   "cell_type": "markdown",
   "metadata": {},
   "source": [
    "To look at delays, we need to look at times. There are a lot of times, and they are recorded relative to different clocks."
   ]
  },
  {
   "cell_type": "markdown",
   "metadata": {},
   "source": [
    "**`creationDate`** - The time the Telemetry code in Firefox created the ping, according to the client's clock, expressed as an ISO string. **`meta/creationTimestamp`** is the same time, but expressed in nanoseconds since the epoch.\n",
    "\n",
    "**`meta/Date`** - The time the Telemetry code in Firefox sent the ping to the server, according to the client's clock, expressed as a Date string conforming to [RFC 7231](https://tools.ietf.org/html/rfc7231#section-7.1.1.1).\n",
    "\n",
    "**`meta/Timestamp`** - The time the ping was received by the server, according to the server's\n",
    "clock, expressed in nanoseconds since the epoch.\n",
    "\n",
    "**`payload/info/subsessionLength`** - The length of time over which the ping was collecting data, according to the client's clock, expressed as a number of seconds. Working backwards from **`creationDate`** this gives us a subsession start time which allows us to determine Reporting Delay."
   ]
  },
  {
   "cell_type": "code",
   "execution_count": null,
   "metadata": {
    "collapsed": false
   },
   "outputs": [],
   "source": [
    "subset = get_pings_properties(pings, [\"application/channel\",\n",
    "                                      \"creationDate\",\n",
    "                                      \"meta/creationTimestamp\",\n",
    "                                      \"meta/Date\",\n",
    "                                      \"meta/Timestamp\",\n",
    "                                      \"payload/info/subsessionLength\"])"
   ]
  },
  {
   "cell_type": "code",
   "execution_count": null,
   "metadata": {
    "collapsed": false
   },
   "outputs": [],
   "source": [
    "p = subset.take(1)[0]"
   ]
  },
  {
   "cell_type": "code",
   "execution_count": null,
   "metadata": {
    "collapsed": false
   },
   "outputs": [],
   "source": [
    "p"
   ]
  },
  {
   "cell_type": "markdown",
   "metadata": {},
   "source": [
    "Quick normalization: ditch any ping that doesn't have a subsessionLength, creationTimestamp, or Timestamp:"
   ]
  },
  {
   "cell_type": "code",
   "execution_count": null,
   "metadata": {
    "collapsed": true
   },
   "outputs": [],
   "source": [
    "subset = subset.filter(lambda p:\\\n",
    "                       p[\"payload/info/subsessionLength\"] is not None\\\n",
    "                       and p[\"meta/Timestamp\"] is not None\\\n",
    "                       and p[\"meta/creationTimestamp\"] is not None)"
   ]
  },
  {
   "cell_type": "markdown",
   "metadata": {},
   "source": [
    "We'll be plotting Cumulative Distribution Functions today."
   ]
  },
  {
   "cell_type": "code",
   "execution_count": null,
   "metadata": {
    "collapsed": true
   },
   "outputs": [],
   "source": [
    "MAX_DELAY_S = 60 * 60 * 96.0\n",
    "HOUR_IN_S = 60 * 60.0\n",
    "CHANNELS = ['release', 'beta', 'aurora', 'nightly']"
   ]
  },
  {
   "cell_type": "code",
   "execution_count": null,
   "metadata": {
    "collapsed": true
   },
   "outputs": [],
   "source": [
    "def setup_plot(title, max_x):\n",
    "    plt.title(title)\n",
    "    plt.xlabel(\"Delay (hours)\")\n",
    "    plt.ylabel(\"% of pings\")\n",
    "\n",
    "    plt.xticks(range(0, int(max_x) + 1, 2))\n",
    "    plt.yticks(map(lambda y: y / 10.0, range(0, 11, 1)))\n",
    "\n",
    "    plt.ylim(0.0, 1.0)\n",
    "    plt.xlim(0.0, max_x)\n",
    "\n",
    "    plt.grid(True)\n",
    "\n",
    "def plot_cdf(data):\n",
    "    sortd = np.sort(data)\n",
    "    ys = np.arange(len(sortd))/float(len(sortd))\n",
    "\n",
    "    plt.plot(sortd, ys)"
   ]
  },
  {
   "cell_type": "code",
   "execution_count": null,
   "metadata": {
    "collapsed": true
   },
   "outputs": [],
   "source": [
    "def calculate_delays(p):\n",
    "    reporting_delay = p[\"payload/info/subsessionLength\"]\n",
    "    \n",
    "    created = datetime.fromtimestamp(p[\"meta/creationTimestamp\"] / 1000.0 / 1000.0 / 1000.0)\n",
    "    received = datetime.fromtimestamp(p[\"meta/Timestamp\"] / 1000.0 / 1000.0 / 1000.0)\n",
    "    sent = datetime.fromtimestamp(mktime_tz(parsedate_tz(p[\"meta/Date\"]))) if p[\"meta/Date\"] is not None else received\n",
    "    clock_skew = received - sent\n",
    "    \n",
    "    submission_delay = (received - created - clock_skew).total_seconds()\n",
    "    return (reporting_delay, submission_delay)"
   ]
  },
  {
   "cell_type": "code",
   "execution_count": null,
   "metadata": {
    "collapsed": true
   },
   "outputs": [],
   "source": [
    "delays_by_chan = subset.map(lambda p: (p[\"application/channel\"], calculate_delays(p)))"
   ]
  },
  {
   "cell_type": "markdown",
   "metadata": {},
   "source": [
    "### Recording Delay\n",
    "\n",
    "**Recording Delay** is the time from when the data \"happens\" to the time we record it in a ping.\n",
    "\n",
    "The maximum value for this is the `subsessionLength`: the length of time from the beginning of the interval over which this ping is reporting to the end, where the ping is recorded."
   ]
  },
  {
   "cell_type": "code",
   "execution_count": null,
   "metadata": {
    "collapsed": false
   },
   "outputs": [],
   "source": [
    "setup_plot(\"Recording Delay CDF\", MAX_DELAY_S / HOUR_IN_S)\n",
    "\n",
    "for chan in CHANNELS:\n",
    "    plot_cdf(delays_by_chan\\\n",
    "             .filter(lambda d: d[0] == chan)\\\n",
    "             .map(lambda d: d[1][0] / HOUR_IN_S if d[1][0] < MAX_DELAY_S else MAX_DELAY_S / HOUR_IN_S)\\\n",
    "             .collect())\n",
    "    \n",
    "plt.legend(CHANNELS, loc=\"best\")"
   ]
  },
  {
   "cell_type": "markdown",
   "metadata": {},
   "source": [
    "So it seems as though about 80% of recording delays on release are 2 hours or less, not much difference amongst the channels (though it is interesting that Aurora has the longer subsessions).\n",
    "\n",
    "Note the cliff at 24 hours. We have code that tries to ensure that our data is recorded at least every day, around local midnight. Nice to see that it appears to be working."
   ]
  },
  {
   "cell_type": "markdown",
   "metadata": {},
   "source": [
    "### Submission Delay\n",
    "\n",
    "**Submission Delay** is the delay between the data being recorded on the client and it being received by our infrastructure. It is thought to be dominated by the length of time Firefox isn't open on a client's computer, though retransmission attempts and throttling can also contribute.\n",
    "\n",
    "Here we run into a problem with **clock skew**. Clients' clocks aren't guaranteed to align with our server's clock, so we cannot necessarily compare the two. Luckily, with [bug 1144778](https://bugzilla.mozilla.org/show_bug.cgi?id=1144778) we introduced an HTTP `Date` header which tells us what time the client's clock thinks it is when it is sending the data. Coupled with the `Timestamp` field recorded which is what time the server's clock thinks it is when it receives the data, we can subtract the more egregious examples of clock skew and get values that are closer to reality."
   ]
  },
  {
   "cell_type": "code",
   "execution_count": null,
   "metadata": {
    "collapsed": false
   },
   "outputs": [],
   "source": [
    "setup_plot(\"Submission Delay CDF\", MAX_DELAY_S / HOUR_IN_S)\n",
    "\n",
    "for chan in CHANNELS:\n",
    "    plot_cdf(delays_by_chan\\\n",
    "             .filter(lambda d: d[0] == chan)\\\n",
    "             .map(lambda d: d[1][1] / HOUR_IN_S if d[1][1] < MAX_DELAY_S else MAX_DELAY_S / HOUR_IN_S)\\\n",
    "             .collect())\n",
    "    \n",
    "plt.legend(CHANNELS, loc=\"lower right\")"
   ]
  },
  {
   "cell_type": "markdown",
   "metadata": {},
   "source": [
    "Here we see a much larger variation in delays across the channels. Nightly, as you could expect, tends to have the shortest delays. I suspect this is because its rapid update cycle tends to encourage users to restart more often. Beta is a bit of a surprise for me as having the longest delays.\n",
    "\n",
    "Maybe Beta users use their browsers less than other channels? But then I'd expect them to be bottom of the pile for engagement ratio, and they're more middle of the road. \n",
    "\n",
    "Something to follow up on, maybe.\n",
    "\n",
    "Anyhoo, we get 80% of main pings from nightly within 6 hours of them being created by the client. Which is pretty awesome. From beta, we have to wait a little over 24 hours to get 80% of main pings.\n",
    "\n",
    "If we're waiting for 90% the spread's even greater with nightly getting 9 out of every 10 pings before 18 hours is up, and beta having to wait more than 96 hours."
   ]
  },
  {
   "cell_type": "markdown",
   "metadata": {},
   "source": [
    "### Recording + Submission Delay"
   ]
  },
  {
   "cell_type": "markdown",
   "metadata": {},
   "source": [
    "And, summing the delays together and graphing them we get..."
   ]
  },
  {
   "cell_type": "code",
   "execution_count": null,
   "metadata": {
    "collapsed": false
   },
   "outputs": [],
   "source": [
    "setup_plot(\"Combined Delay CDF\", MAX_DELAY_S / HOUR_IN_S)\n",
    "\n",
    "for chan in CHANNELS:\n",
    "    plot_cdf(delays_by_chan\\\n",
    "             .filter(lambda d: d[0] == chan)\\\n",
    "             .map(lambda d: (d[1][0] + d[1][1]) / HOUR_IN_S if (d[1][0] + d[1][1]) < MAX_DELAY_S else MAX_DELAY_S / HOUR_IN_S)\\\n",
    "             .collect())\n",
    "    \n",
    "plt.legend(CHANNELS, loc=\"lower right\")"
   ]
  },
  {
   "cell_type": "markdown",
   "metadata": {},
   "source": [
    "The 80% numbers for the combined delay again have Nightly being speediest at just over 10 hours. Beta is once again the laggiest at 27 hours."
   ]
  }
 ],
 "metadata": {
  "anaconda-cloud": {},
  "kernelspec": {
   "display_name": "Python [default]",
   "language": "python",
   "name": "python2"
  },
  "language_info": {
   "codemirror_mode": {
    "name": "ipython",
    "version": 2
   },
   "file_extension": ".py",
   "mimetype": "text/x-python",
   "name": "python",
   "nbconvert_exporter": "python",
   "pygments_lexer": "ipython2",
   "version": "2.7.12"
  }
 },
 "nbformat": 4,
 "nbformat_minor": 0
}