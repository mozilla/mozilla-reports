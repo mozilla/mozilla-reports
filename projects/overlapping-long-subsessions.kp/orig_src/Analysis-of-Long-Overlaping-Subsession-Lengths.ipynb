{
 "cells": [
  {
   "cell_type": "raw",
   "metadata": {
    "deletable": true,
    "editable": true
   },
   "source": [
    "---\n",
    "title: Analysis of Long (> 24H) Overlapping Subsession Lengths\n",
    "authors:\n",
    "- cameres\n",
    "tags:\n",
    "- main_summary\n",
    "- subsession_length\n",
    "created_at: 2017-03-23\n",
    "updated_at: 2017-03-23\n",
    "tldr: Find that overlapping long subsessions affect a very small percentage of user data & for those users, on average, it affects only a small subset of their pings. \n",
    "---"
   ]
  },
  {
   "cell_type": "markdown",
   "metadata": {
    "deletable": true,
    "editable": true
   },
   "source": [
    "# Overview\n",
    "In investigating long subsession lengths in longitudinal, @spensrose and I  discussed investigating an upper bound on subsession lenghts.\n",
    "This upper bound that we concluded is that subsession lengths should not overlap.\n",
    "This notebook explores long (> 24H) overlapping subsessions.\n",
    "A long overlapping pair of subsessions might be where a subsession (> 24H) starts on a first day, completes on the following day, but another subsession is present on first day. \n",
    "This should not occur.\n",
    "\n",
    "After determining how many users this issue effects, I specifically analyze the portion of users that do have the long overlapping subsessions.\n",
    "\n",
    "## Window of Analysis\n",
    "I look at users with `sample_id=42` and have a `subsession_start_date` between the current date and the beginning of the year (exclusive). \n",
    "I choose this window primarily to investigate newer data.\n",
    "If this window is to be extended in the future, the pandas code will have to be refactored to run on spark, otherwise memory issues are likely to occur for the local pandas dataframes in this notebook."
   ]
  },
  {
   "cell_type": "code",
   "execution_count": null,
   "metadata": {
    "collapsed": false,
    "deletable": true,
    "editable": true
   },
   "outputs": [],
   "source": [
    "# dependencies dynamically added \n",
    "file_names = ['extract.py', 'transform.py', 'utils.py']\n",
    "for file_name in file_names:\n",
    "    sc.addPyFile(file_name)\n",
    "from extract import *\n",
    "from transform import *"
   ]
  },
  {
   "cell_type": "code",
   "execution_count": null,
   "metadata": {
    "collapsed": false,
    "deletable": true,
    "editable": true
   },
   "outputs": [],
   "source": [
    "%matplotlib inline\n",
    "import matplotlib.pylab as plt\n",
    "import seaborn as sns\n",
    "sns.set(color_codes=True)"
   ]
  },
  {
   "cell_type": "code",
   "execution_count": null,
   "metadata": {
    "collapsed": false,
    "deletable": true,
    "editable": true
   },
   "outputs": [],
   "source": [
    "df = read_from_main_summary(sqlContext)"
   ]
  },
  {
   "cell_type": "markdown",
   "metadata": {
    "deletable": true,
    "editable": true
   },
   "source": [
    "## Analysis By Aggregating Profile\n",
    "The following questions are answered by aggregating by profile to determine distributions. \n",
    "Later, we will aggregate by profile & other fields, like `build_id`."
   ]
  },
  {
   "cell_type": "code",
   "execution_count": null,
   "metadata": {
    "collapsed": false,
    "deletable": true,
    "editable": true
   },
   "outputs": [],
   "source": [
    "aggregate_fields = ['client_id']\n",
    "wide_df_by_client = long_to_wide(sqlContext, df, aggregate_fields)"
   ]
  },
  {
   "cell_type": "code",
   "execution_count": null,
   "metadata": {
    "collapsed": false,
    "deletable": true,
    "editable": true
   },
   "outputs": [],
   "source": [
    "overlaps_rdd_by_client = wide_df_by_client.rdd.map(find_overlaps).cache()"
   ]
  },
  {
   "cell_type": "markdown",
   "metadata": {
    "deletable": true,
    "editable": true
   },
   "source": [
    "### what's the percentage of profiles that have at least one overlapping session?"
   ]
  },
  {
   "cell_type": "code",
   "execution_count": null,
   "metadata": {
    "collapsed": false,
    "deletable": true,
    "editable": true,
    "scrolled": true
   },
   "outputs": [],
   "source": [
    "num_total_profiles = df.count()\n",
    "num_profiles_with_overlap = overlaps_rdd_by_client.count()\n",
    "percentage = (float(num_profiles_with_overlap) / num_total_profiles) * 100 \n",
    "print('Percentage of profiles with atleast one overlap: %.4r' % percentage) "
   ]
  },
  {
   "cell_type": "markdown",
   "metadata": {
    "deletable": true,
    "editable": true
   },
   "source": [
    "### what are the percentages for overlapping subsessions of all subsessions per profile for each channel?\n",
    "The violin plot below tells the story quite clearly below. \n",
    "The percentage of long overlapping subsessions in this scenario are very small. \n",
    "The statistical summaries per profile are shown after the violin plots.\n",
    "I had used `sns.stripplot` & `sns.boxplot` previously, but they didn't show how narrow the majority of the distribution are on the `release` channel.\n",
    "In the end I opted for a violin plot and a supplementary statistical summary."
   ]
  },
  {
   "cell_type": "code",
   "execution_count": null,
   "metadata": {
    "collapsed": true,
    "deletable": true,
    "editable": true
   },
   "outputs": [],
   "source": [
    "# tup[-1] is the percentage\n",
    "perc_client_df = overlaps_rdd_by_client\\\n",
    ".filter(lambda tup: tup[-1] != 0)\\\n",
    ".toDF(aggregate_fields + ['normalized_channel', 'perc_overlaps'])\\\n",
    ".drop('client_id')\\\n",
    ".toPandas()"
   ]
  },
  {
   "cell_type": "code",
   "execution_count": null,
   "metadata": {
    "collapsed": false,
    "deletable": true,
    "editable": true
   },
   "outputs": [],
   "source": [
    "sns.violinplot(x='normalized_channel', y='perc_overlaps', data=perc_client_df)"
   ]
  },
  {
   "cell_type": "code",
   "execution_count": null,
   "metadata": {
    "collapsed": false,
    "deletable": true,
    "editable": true
   },
   "outputs": [],
   "source": [
    "perc_client_df\\\n",
    ".groupby('normalized_channel')\\\n",
    ".describe()\\\n",
    ".reset_index()\\\n",
    ".pivot('normalized_channel', 'level_1', values='perc_overlaps')"
   ]
  },
  {
   "cell_type": "markdown",
   "metadata": {
    "deletable": true,
    "editable": true
   },
   "source": [
    "### how do the above distributions vary when considering only subsessions originating from recent Firefox builds?"
   ]
  },
  {
   "cell_type": "code",
   "execution_count": null,
   "metadata": {
    "collapsed": false,
    "deletable": true,
    "editable": true
   },
   "outputs": [],
   "source": [
    "# app_version <-> app_build_id should be 1 to 1\n",
    "aggregate_fields = ['client_id', 'app_version', 'app_build_id']\n",
    "wide_df_by_build = long_to_wide(sqlContext, df, aggregate_fields)"
   ]
  },
  {
   "cell_type": "code",
   "execution_count": null,
   "metadata": {
    "collapsed": false,
    "deletable": true,
    "editable": true
   },
   "outputs": [],
   "source": [
    "overlaps_rdd_by_build = wide_df_by_build.rdd.map(find_overlaps).cache()"
   ]
  },
  {
   "cell_type": "code",
   "execution_count": null,
   "metadata": {
    "collapsed": false,
    "deletable": true,
    "editable": true,
    "scrolled": false
   },
   "outputs": [],
   "source": [
    "# we should now have percentages per client & build\n",
    "perc_builds_df = overlaps_rdd_by_build\\\n",
    ".filter(lambda tup: tup[-1] != 0)\\\n",
    ".toDF(aggregate_fields + ['normalized_channel', 'perc_overlaps'])\\\n",
    ".drop('client_id')\\\n",
    ".toPandas()"
   ]
  },
  {
   "cell_type": "code",
   "execution_count": null,
   "metadata": {
    "collapsed": false,
    "deletable": true,
    "editable": true
   },
   "outputs": [],
   "source": [
    "from datetime import datetime, date\n",
    "\n",
    "def build_month(row):\n",
    "    app_build_id = row['app_build_id']\n",
    "    app_build_date_str = app_build_id[0:6]\n",
    "    return app_build_date_str[0:4] + \"-\" + app_build_date_str[4:]\n",
    "\n",
    "perc_builds_df['build_month'] = perc_builds_df.apply(build_month, 1)"
   ]
  },
  {
   "cell_type": "code",
   "execution_count": null,
   "metadata": {
    "collapsed": false,
    "deletable": true,
    "editable": true
   },
   "outputs": [],
   "source": [
    "violin_order_month = sorted(list(set(perc_builds_df['build_month'])))\n",
    "violin_order_month = [month for month in violin_order_month if month >= '2016-01']\n",
    "violin_df = perc_builds_df[perc_builds_df['build_month'] >= '2016-01']"
   ]
  },
  {
   "cell_type": "markdown",
   "metadata": {
    "deletable": true,
    "editable": true
   },
   "source": [
    "The following plot & summary statistic dataframe show the distribution of percentages of long, overlapping subsession lengths per client per build aggregated by the month of the build.\n",
    "Overall we can see for each aggregation that there are outliers that still effect our distribution, similar to when we only aggregated by `normalized_channel`."
   ]
  },
  {
   "cell_type": "code",
   "execution_count": null,
   "metadata": {
    "collapsed": false,
    "deletable": true,
    "editable": true
   },
   "outputs": [],
   "source": [
    "pivot_column_str = 'build_month'\n",
    "plt.xticks(rotation=90)\n",
    "sns.violinplot(x=pivot_column_str, y='perc_overlaps', data=violin_df, order=violin_order_month)"
   ]
  },
  {
   "cell_type": "code",
   "execution_count": null,
   "metadata": {
    "collapsed": false,
    "deletable": true,
    "editable": true
   },
   "outputs": [],
   "source": [
    "perc_builds_df\\\n",
    ".groupby(pivot_column_str)\\\n",
    ".describe()\\\n",
    ".reset_index()\\\n",
    ".pivot(pivot_column_str, 'level_1', values='perc_overlaps')"
   ]
  },
  {
   "cell_type": "markdown",
   "metadata": {
    "deletable": true,
    "editable": true
   },
   "source": [
    "### Using DocId\n",
    "I've deduplicated with docid in `extract.py`. \n",
    "After deduplicating using docid, I move from a long dataset to a wide dataset, similar to longitudinal."
   ]
  }
 ],
 "metadata": {
  "anaconda-cloud": {},
  "kernelspec": {
   "display_name": "Python 2",
   "language": "python",
   "name": "python2"
  },
  "language_info": {
   "codemirror_mode": {
    "name": "ipython",
    "version": 2
   },
   "file_extension": ".py",
   "mimetype": "text/x-python",
   "name": "python",
   "nbconvert_exporter": "python",
   "pygments_lexer": "ipython2",
   "version": "2.7.13"
  }
 },
 "nbformat": 4,
 "nbformat_minor": 1
}