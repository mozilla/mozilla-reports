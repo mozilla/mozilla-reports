{
 "cells": [
  {
   "cell_type": "raw",
   "metadata": {},
   "source": [
    "---\n",
    "title: Firefox Application Update Out Of Date dashboard\n",
    "authors:\n",
    "- rstrong\n",
    "tags:\n",
    "- firefox\n",
    "- app_update\n",
    "created_at: 2017-02-16\n",
    "updated_at: 2017-02-16\n",
    "tldr: Creates the JSON data files used by the Firefox Application Update Out Of Date dashboard.\n",
    "---"
   ]
  },
  {
   "cell_type": "markdown",
   "metadata": {},
   "source": [
    "### Motivation\n",
    "\n",
    "Generate data for the Firefox Application Update Out Of Date dashboard"
   ]
  },
  {
   "cell_type": "code",
   "execution_count": null,
   "metadata": {
    "collapsed": false,
    "scrolled": true
   },
   "outputs": [],
   "source": [
    "import datetime as dt\n",
    "import re\n",
    "import urllib2\n",
    "import ujson as json\n",
    "import boto3\n",
    "from boto3.s3.transfer import S3Transfer\n",
    "\n",
    "%pylab inline"
   ]
  },
  {
   "cell_type": "code",
   "execution_count": null,
   "metadata": {
    "collapsed": false
   },
   "outputs": [],
   "source": [
    "sc.defaultParallelism"
   ]
  },
  {
   "cell_type": "markdown",
   "metadata": {},
   "source": [
    "Get the time when this job started."
   ]
  },
  {
   "cell_type": "code",
   "execution_count": null,
   "metadata": {
    "collapsed": false
   },
   "outputs": [],
   "source": [
    "start_time = dt.datetime.now()\n",
    "print \"Start: \" + str(start_time.strftime(\"%Y-%m-%d %H:%M:%S\"))"
   ]
  },
  {
   "cell_type": "markdown",
   "metadata": {},
   "source": [
    "Common settings."
   ]
  },
  {
   "cell_type": "code",
   "execution_count": null,
   "metadata": {
    "collapsed": false
   },
   "outputs": [],
   "source": [
    "no_upload = None\n",
    "today_str = None\n",
    "\n",
    "# Uncomment out the following two lines and adjust |today_str| as necessary to run manually without uploading the json.\n",
    "no_upload = True\n",
    "# today_str = \"20161226\"\n",
    "\n",
    "channel_to_process = \"release\"\n",
    "min_version = 42\n",
    "up_to_date_releases = 2\n",
    "weeks_of_subsession_data = 12\n",
    "min_update_ping_count = 4\n",
    "min_subsession_hours = 2\n",
    "min_subsession_seconds = min_subsession_hours * 60 * 60"
   ]
  },
  {
   "cell_type": "markdown",
   "metadata": {},
   "source": [
    "Get the settings based on dates."
   ]
  },
  {
   "cell_type": "code",
   "execution_count": null,
   "metadata": {
    "collapsed": false
   },
   "outputs": [],
   "source": [
    "if today_str is None:\n",
    "    today_str = start_time.strftime(\"%Y%m%d\")\n",
    "\n",
    "assert (today_str is not None), \"The date environment parameter is missing.\"\n",
    "today = dt.datetime.strptime(today_str, \"%Y%m%d\").date()\n",
    "\n",
    "# MON = 0, SAT = 5, SUN = 6 -> SUN = 0, MON = 1, SAT = 6\n",
    "day_index = (today.weekday() + 1) % 7\n",
    "# Filename used to save the report's JSON\n",
    "report_filename = (today - datetime.timedelta(day_index)).strftime(\"%Y%m%d\")\n",
    "# Maximum report date which is the previous Saturday\n",
    "max_report_date = today - datetime.timedelta(7 + day_index - 6)\n",
    "# Suffix of the longitudinal datasource name to use\n",
    "longitudinal_suffix = max_report_date.strftime(\"%Y%m%d\")\n",
    "# String used in the SQL queries to limit records to the maximum report date.\n",
    "# Since the queries use less than this is the day after the previous Saturday.\n",
    "max_report_date_sql = (max_report_date + dt.timedelta(days=1)).strftime(\"%Y-%m-%d\")\n",
    "# The Sunday prior to the last Saturday\n",
    "min_report_date = max_report_date - dt.timedelta(days=6)\n",
    "# String used in the SQL queries to limit records to the minimum report date\n",
    "# Since the queries use greater than this is six days prior to the previous Saturday.\n",
    "min_report_date_sql = min_report_date.strftime(\"%Y-%m-%d\")\n",
    "# Date used to limit records to the number of weeks specified by\n",
    "# weeks_of_subsession_data prior to the maximum report date\n",
    "min_subsession_date = max_report_date - dt.timedelta(weeks=weeks_of_subsession_data)\n",
    "# Date used to compute the latest version from firefox_history_major_releases.json\n",
    "latest_ver_date_str = (max_report_date - dt.timedelta(days=7)).strftime(\"%Y-%m-%d\")\n",
    "\n",
    "print \"max_report_date     : \" + max_report_date.strftime(\"%Y%m%d\")\n",
    "print \"max_report_date_sql : \" + max_report_date_sql\n",
    "print \"min_report_date     : \" + min_report_date.strftime(\"%Y%m%d\")\n",
    "print \"min_report_date_sql : \" + min_report_date_sql\n",
    "print \"min_subsession_date : \" + min_subsession_date.strftime(\"%Y%m%d\")\n",
    "print \"report_filename     : \" + report_filename\n",
    "print \"latest_ver_date_str : \" + latest_ver_date_str"
   ]
  },
  {
   "cell_type": "markdown",
   "metadata": {},
   "source": [
    "Get the latest Firefox version available based on the date."
   ]
  },
  {
   "cell_type": "code",
   "execution_count": null,
   "metadata": {
    "collapsed": false
   },
   "outputs": [],
   "source": [
    "def latest_version_on_date(date, major_releases):\n",
    "    latest_date = u\"1900-01-01\"\n",
    "    latest_ver = 0\n",
    "    for version, release_date in major_releases.iteritems():\n",
    "        version_int = int(version.split(\".\")[0])\n",
    "        if release_date <= date and release_date >= latest_date and version_int >= latest_ver:\n",
    "            latest_date = release_date\n",
    "            latest_ver = version_int\n",
    "\n",
    "    return latest_ver\n",
    "\n",
    "major_releases_json = urllib2.urlopen(\"https://product-details.mozilla.org/1.0/firefox_history_major_releases.json\").read()\n",
    "major_releases = json.loads(major_releases_json)\n",
    "latest_version = latest_version_on_date(latest_ver_date_str, major_releases)\n",
    "earliest_up_to_date_version = str(latest_version - up_to_date_releases)\n",
    "\n",
    "print \"Latest Version: \" + str(latest_version)"
   ]
  },
  {
   "cell_type": "markdown",
   "metadata": {},
   "source": [
    "Create a dictionary to store the general settings that will be written to a JSON file."
   ]
  },
  {
   "cell_type": "code",
   "execution_count": null,
   "metadata": {
    "collapsed": false
   },
   "outputs": [],
   "source": [
    "report_details_dict = {\"latestVersion\": latest_version,\n",
    "                       \"upToDateReleases\": up_to_date_releases,\n",
    "                       \"minReportDate\": min_report_date.strftime(\"%Y-%m-%d\"),\n",
    "                       \"maxReportDate\": max_report_date.strftime(\"%Y-%m-%d\"),\n",
    "                       \"weeksOfSubsessionData\": weeks_of_subsession_data,\n",
    "                       \"minSubsessionDate\": min_subsession_date.strftime(\"%Y-%m-%d\"),\n",
    "                       \"minSubsessionHours\": min_subsession_hours,\n",
    "                       \"minSubsessionSeconds\": min_subsession_seconds,\n",
    "                       \"minUpdatePingCount\": min_update_ping_count}\n",
    "report_details_dict"
   ]
  },
  {
   "cell_type": "markdown",
   "metadata": {},
   "source": [
    "Create the common SQL FROM clause."
   ]
  },
  {
   "cell_type": "code",
   "execution_count": null,
   "metadata": {
    "collapsed": false
   },
   "outputs": [],
   "source": [
    "# Note: using the parquet is as fast as using 'FROM longitudinal_vYYYMMDD'\n",
    "# and it allows the query to go further back in time.\n",
    "\n",
    "#longitudinal_from_sql = (\"FROM longitudinal_v{} \").format(longitudinal_suffix)\n",
    "longitudinal_from_sql = (\"FROM parquet.`s3://telemetry-parquet/longitudinal/v{}` \").format(longitudinal_suffix)  \n",
    "longitudinal_from_sql"
   ]
  },
  {
   "cell_type": "markdown",
   "metadata": {},
   "source": [
    "Create the common build.version SQL WHERE clause."
   ]
  },
  {
   "cell_type": "code",
   "execution_count": null,
   "metadata": {
    "collapsed": false
   },
   "outputs": [],
   "source": [
    "build_version_where_sql = \"(build.version[0] RLIKE '^[0-9]{2,3}\\.0[\\.0-9]*$' OR build.version[0] = '50.1.0')\"\n",
    "build_version_where_sql"
   ]
  },
  {
   "cell_type": "markdown",
   "metadata": {},
   "source": [
    "Create the remaining common SQL WHERE clause."
   ]
  },
  {
   "cell_type": "code",
   "execution_count": null,
   "metadata": {
    "collapsed": false
   },
   "outputs": [],
   "source": [
    "common_where_sql = (\"\"\n",
    "    \"build.application_name[0] = 'Firefox' AND \"\n",
    "    \"DATEDIFF(SUBSTR(subsession_start_date[0], 0, 10), '{}') >= 0 AND \"\n",
    "    \"DATEDIFF(SUBSTR(subsession_start_date[0], 0, 10), '{}') < 0 AND \"\n",
    "    \"settings.update.channel[0] = '{}'\"\n",
    "\"\").format(min_report_date_sql,\n",
    "           max_report_date_sql,\n",
    "           channel_to_process)\n",
    "common_where_sql"
   ]
  },
  {
   "cell_type": "markdown",
   "metadata": {},
   "source": [
    "Create the SQL for the summary query."
   ]
  },
  {
   "cell_type": "code",
   "execution_count": null,
   "metadata": {
    "collapsed": false
   },
   "outputs": [],
   "source": [
    "summary_sql = (\"\"\n",
    "\"SELECT \"\n",
    "    \"COUNT(CASE WHEN build.version[0] >= '{}.' AND build.version[0] < '{}.' THEN 1 END) AS versionUpToDate, \"\n",
    "    \"COUNT(CASE WHEN build.version[0] < '{}.' AND build.version[0] >= '{}.' THEN 1 END) AS versionOutOfDate, \"\n",
    "    \"COUNT(CASE WHEN build.version[0] < '{}.' THEN 1 END) AS versionTooLow, \"\n",
    "    \"COUNT(CASE WHEN build.version[0] > '{}.' THEN 1 END) AS versionTooHigh, \"\n",
    "    \"COUNT(CASE WHEN NOT build.version[0] > '0' THEN 1 END) AS versionMissing \"\n",
    "\"{} \"\n",
    "\"WHERE \"\n",
    "    \"{} AND \"\n",
    "    \"{}\"\n",
    "\"\").format(str(latest_version - up_to_date_releases),\n",
    "           str(latest_version + 1),\n",
    "           str(latest_version - up_to_date_releases),\n",
    "           str(min_version),\n",
    "           str(min_version),\n",
    "           str(latest_version + 1),\n",
    "           longitudinal_from_sql,\n",
    "           common_where_sql,\n",
    "           build_version_where_sql)\n",
    "summary_sql"
   ]
  },
  {
   "cell_type": "markdown",
   "metadata": {},
   "source": [
    "Run the summary SQL query."
   ]
  },
  {
   "cell_type": "code",
   "execution_count": null,
   "metadata": {
    "collapsed": false
   },
   "outputs": [],
   "source": [
    "summaryDF = sqlContext.sql(summary_sql)"
   ]
  },
  {
   "cell_type": "markdown",
   "metadata": {},
   "source": [
    "Create a dictionary to store the results from the summary query that will be written to a JSON file."
   ]
  },
  {
   "cell_type": "code",
   "execution_count": null,
   "metadata": {
    "collapsed": false
   },
   "outputs": [],
   "source": [
    "summary_dict = summaryDF.first().asDict()\n",
    "summary_dict"
   ]
  },
  {
   "cell_type": "markdown",
   "metadata": {},
   "source": [
    "Create the SQL for the out of date details query."
   ]
  },
  {
   "cell_type": "code",
   "execution_count": null,
   "metadata": {
    "collapsed": false
   },
   "outputs": [],
   "source": [
    "# Only query for the columns and the records that are used to optimize\n",
    "# for speed. Adding update_state_code_partial_stage and\n",
    "# update_state_code_complete_stage increased the time it takes this\n",
    "# notebook to run by 50 seconds when using 4 clusters.\n",
    "\n",
    "# Creating a temporary table of the data after the filters have been\n",
    "# applied and joining it with the original datasource to include\n",
    "# other columns doesn't appear to speed up the process but it doesn't\n",
    "# appear to slow it down either so all columns of interest are in this\n",
    "# query.\n",
    "\n",
    "out_of_date_details_sql = (\"\"\n",
    "\"SELECT \"\n",
    "    \"client_id, \"\n",
    "    \"build.version, \"\n",
    "    \"session_length, \"\n",
    "    \"subsession_start_date, \"\n",
    "    \"subsession_length, \"\n",
    "    \"update_check_code_notify, \"\n",
    "    \"update_check_extended_error_notify, \"\n",
    "    \"update_check_no_update_notify, \"\n",
    "    \"update_not_pref_update_enabled_notify, \"\n",
    "    \"update_not_pref_update_auto_notify, \"\n",
    "    \"update_ping_count_notify, \"\n",
    "    \"update_unable_to_apply_notify, \"\n",
    "    \"update_download_code_partial, \"\n",
    "    \"update_download_code_complete, \"\n",
    "    \"update_state_code_partial_stage, \"\n",
    "    \"update_state_code_complete_stage, \"\n",
    "    \"update_state_code_unknown_stage, \"\n",
    "    \"update_state_code_partial_startup, \"\n",
    "    \"update_state_code_complete_startup, \"\n",
    "    \"update_state_code_unknown_startup, \"\n",
    "    \"update_status_error_code_complete_startup, \"\n",
    "    \"update_status_error_code_partial_startup, \"\n",
    "    \"update_status_error_code_unknown_startup, \"\n",
    "    \"update_status_error_code_complete_stage, \"\n",
    "    \"update_status_error_code_partial_stage, \"\n",
    "    \"update_status_error_code_unknown_stage \"\n",
    "\"{}\"\n",
    "\"WHERE \"\n",
    "    \"{} AND \"\n",
    "    \"{} AND \"\n",
    "    \"build.version[0] < '{}.' AND \"\n",
    "    \"build.version[0] >= '{}.'\"\n",
    "\"\").format(longitudinal_from_sql,\n",
    "           common_where_sql,\n",
    "           build_version_where_sql,\n",
    "           str(latest_version - up_to_date_releases),\n",
    "           str(min_version))\n",
    "out_of_date_details_sql"
   ]
  },
  {
   "cell_type": "markdown",
   "metadata": {},
   "source": [
    "Run the out of date details SQL query."
   ]
  },
  {
   "cell_type": "code",
   "execution_count": null,
   "metadata": {
    "collapsed": false
   },
   "outputs": [],
   "source": [
    "out_of_date_details_df = sqlContext.sql(out_of_date_details_sql)"
   ]
  },
  {
   "cell_type": "markdown",
   "metadata": {},
   "source": [
    "Create the RDD used to further restrict which clients are out of date\n",
    "to focus on clients that are of concern and potentially of concern."
   ]
  },
  {
   "cell_type": "code",
   "execution_count": null,
   "metadata": {
    "collapsed": false
   },
   "outputs": [],
   "source": [
    "out_of_date_details_rdd = out_of_date_details_df.rdd.cache()"
   ]
  },
  {
   "cell_type": "markdown",
   "metadata": {},
   "source": [
    "### The next several cells are to find the clients that are \"out of date, potentially of concern\" so they can be excluded from the \"out of date, of concern\" clients."
   ]
  },
  {
   "cell_type": "markdown",
   "metadata": {},
   "source": [
    "Create an RDD of out of date telemetry pings that have and don't have\n",
    "a previous telemetry ping with a version that is up to date along\n",
    "with a dictionary of the count of True and False."
   ]
  },
  {
   "cell_type": "code",
   "execution_count": null,
   "metadata": {
    "collapsed": false
   },
   "outputs": [],
   "source": [
    "def has_out_of_date_max_version_mapper(d):\n",
    "    ping = d\n",
    "    index = 0\n",
    "    while (index < len(ping.version)):\n",
    "        if ((ping.version[index] == \"50.1.0\" or\n",
    "             p.match(ping.version[index])) and\n",
    "            ping.version[index] > earliest_up_to_date_version):\n",
    "            return False, ping\n",
    "        index += 1\n",
    "\n",
    "    return True, ping\n",
    "\n",
    "# RegEx for a valid release versions except for 50.1.0 which is handled separately.\n",
    "p = re.compile('^[0-9]{2,3}\\\\.0[\\\\.0-9]*$')\n",
    "\n",
    "has_out_of_date_max_version_rdd = out_of_date_details_rdd.map(has_out_of_date_max_version_mapper).cache()\n",
    "has_out_of_date_max_version_dict = has_out_of_date_max_version_rdd.countByKey()\n",
    "has_out_of_date_max_version_dict"
   ]
  },
  {
   "cell_type": "markdown",
   "metadata": {},
   "source": [
    "Create an RDD of the telemetry pings that have a previous telemetry ping\n",
    "with a version that is up to date."
   ]
  },
  {
   "cell_type": "code",
   "execution_count": null,
   "metadata": {
    "collapsed": false
   },
   "outputs": [],
   "source": [
    "has_out_of_date_max_version_true_rdd = has_out_of_date_max_version_rdd.filter(lambda p: p[0] == True).values().cache()"
   ]
  },
  {
   "cell_type": "markdown",
   "metadata": {},
   "source": [
    "Create an RDD of out of date telemetry pings that have and have not\n",
    "sent an update telemtry ping for any version of Firefox along with a\n",
    "dictionary of the count of True and False."
   ]
  },
  {
   "cell_type": "code",
   "execution_count": null,
   "metadata": {
    "collapsed": false
   },
   "outputs": [],
   "source": [
    "def has_update_ping_mapper(d):\n",
    "    ping = d\n",
    "    if (ping.update_ping_count_notify is not None and\n",
    "        (ping.update_check_code_notify is not None or\n",
    "         ping.update_check_no_update_notify is not None)):\n",
    "        return True, ping\n",
    "\n",
    "    return False, ping\n",
    "\n",
    "has_update_ping_rdd = has_out_of_date_max_version_true_rdd.map(has_update_ping_mapper).cache()\n",
    "has_update_ping_dict = has_update_ping_rdd.countByKey()\n",
    "has_update_ping_dict"
   ]
  },
  {
   "cell_type": "markdown",
   "metadata": {},
   "source": [
    "Create an RDD of the telemetry pings that have an update telemtry\n",
    "ping for any version of Firefox."
   ]
  },
  {
   "cell_type": "code",
   "execution_count": null,
   "metadata": {
    "collapsed": false
   },
   "outputs": [],
   "source": [
    "has_update_ping_true_rdd = has_update_ping_rdd.filter(lambda p: p[0] == True).values().cache()"
   ]
  },
  {
   "cell_type": "markdown",
   "metadata": {},
   "source": [
    "Create an RDD of out of date telemetry pings that have and have not\n",
    "ran this version of Firefox for more than the amount of seconds as\n",
    "specified by min_subsession_seconds along with a dictionary of the\n",
    "count of True and False."
   ]
  },
  {
   "cell_type": "code",
   "execution_count": null,
   "metadata": {
    "collapsed": false,
    "scrolled": true
   },
   "outputs": [],
   "source": [
    "def has_min_subsession_length_mapper(d):\n",
    "    ping = d\n",
    "    seconds = 0\n",
    "    index = 0\n",
    "    current_version = ping.version[0]\n",
    "    while (seconds < min_subsession_seconds and\n",
    "           index < len(ping.subsession_start_date) and\n",
    "           index < len(ping.version) and\n",
    "           ping.version[index] == current_version):\n",
    "        try:\n",
    "            date = dt.datetime.strptime(ping.subsession_start_date[index][:10],\n",
    "                                        \"%Y-%m-%d\").date()\n",
    "            if date < min_subsession_date:\n",
    "                return False, ping\n",
    "\n",
    "            seconds += ping.subsession_length[index]\n",
    "            index += 1\n",
    "        except: # catch *all* exceptions\n",
    "            index += 1\n",
    "\n",
    "    if seconds >= min_subsession_seconds:\n",
    "        return True, ping\n",
    "\n",
    "    return False, ping\n",
    "\n",
    "has_min_subsession_length_rdd = has_update_ping_true_rdd.map(has_min_subsession_length_mapper).cache()\n",
    "has_min_subsession_length_dict = has_min_subsession_length_rdd.countByKey()\n",
    "has_min_subsession_length_dict"
   ]
  },
  {
   "cell_type": "markdown",
   "metadata": {},
   "source": [
    "Create an RDD of the telemetry pings that have ran this version of\n",
    "Firefox for more than the amount of seconds as specified by\n",
    "min_subsession_seconds."
   ]
  },
  {
   "cell_type": "code",
   "execution_count": null,
   "metadata": {
    "collapsed": true
   },
   "outputs": [],
   "source": [
    "has_min_subsession_length_true_rdd = has_min_subsession_length_rdd.filter(lambda p: p[0] == True).values().cache()"
   ]
  },
  {
   "cell_type": "markdown",
   "metadata": {},
   "source": [
    "Create an RDD of out of date telemetry pings that have and have not\n",
    "sent the minimum number of update pings as specified by\n",
    "min_update_ping_count for this version of Firefox along with a\n",
    "dictionary of the count of True and False."
   ]
  },
  {
   "cell_type": "code",
   "execution_count": null,
   "metadata": {
    "collapsed": false
   },
   "outputs": [],
   "source": [
    "def has_min_update_ping_count_mapper(d):\n",
    "    ping = d\n",
    "    index = 0\n",
    "    update_ping_count_total = 0\n",
    "    current_version = ping.version[0]\n",
    "    while (update_ping_count_total < min_update_ping_count and\n",
    "           index < len(ping.update_ping_count_notify) and\n",
    "           index < len(ping.version) and\n",
    "           ping.version[index] == current_version):\n",
    "\n",
    "        pingCount = ping.update_ping_count_notify[index]\n",
    "        # Is this an update ping or just a placeholder for the telemetry ping?\n",
    "        if pingCount > 0:\n",
    "            try:\n",
    "                date = dt.datetime.strptime(ping.subsession_start_date[index][:10],\n",
    "                                            \"%Y-%m-%d\").date()\n",
    "                if date < min_subsession_date:\n",
    "                    return False, ping\n",
    "\n",
    "            except: # catch *all* exceptions\n",
    "                index += 1\n",
    "                continue\n",
    "\n",
    "            # Is there also a valid update check code or no update telemetry ping?\n",
    "            if (ping.update_check_code_notify is not None and\n",
    "                len(ping.update_check_code_notify) > index):\n",
    "                for code_value in ping.update_check_code_notify[index]:\n",
    "                    if code_value > 0:\n",
    "                        update_ping_count_total += pingCount\n",
    "                        index += 1\n",
    "                        continue\n",
    "\n",
    "            if (ping.update_check_no_update_notify is not None and\n",
    "                len(ping.update_check_no_update_notify) > index and\n",
    "                ping.update_check_no_update_notify[index] > 0):\n",
    "                update_ping_count_total += pingCount\n",
    "\n",
    "        index += 1\n",
    "\n",
    "    if update_ping_count_total < min_update_ping_count:\n",
    "        return False, ping\n",
    "\n",
    "    return True, ping\n",
    "\n",
    "has_min_update_ping_count_rdd = has_min_subsession_length_true_rdd.map(has_min_update_ping_count_mapper).cache()\n",
    "has_min_update_ping_count_dict = has_min_update_ping_count_rdd.countByKey()\n",
    "has_min_update_ping_count_dict"
   ]
  },
  {
   "cell_type": "markdown",
   "metadata": {},
   "source": [
    "Create an RDD of the telemetry pings that have sent the minimum\n",
    "number of update pings as specified by min_update_ping_count."
   ]
  },
  {
   "cell_type": "code",
   "execution_count": null,
   "metadata": {
    "collapsed": false
   },
   "outputs": [],
   "source": [
    "has_min_update_ping_count_true_rdd = has_min_update_ping_count_rdd.filter(lambda p: p[0] == True).values().cache()"
   ]
  },
  {
   "cell_type": "markdown",
   "metadata": {},
   "source": [
    "Create an RDD of out of date telemetry pings that are supported and\n",
    "are not supported based on whether they have not received or have\n",
    "received the unsupported update xml for the last update check along\n",
    "with a dictionary of the count of True and False."
   ]
  },
  {
   "cell_type": "code",
   "execution_count": null,
   "metadata": {
    "collapsed": false
   },
   "outputs": [],
   "source": [
    "def is_supported_mapper(d):\n",
    "    ping = d\n",
    "    index = 0\n",
    "    update_ping_count_total = 0\n",
    "    current_version = ping.version[0]\n",
    "    while (update_ping_count_total < min_update_ping_count and\n",
    "           index < len(ping.update_ping_count_notify) and\n",
    "           index < len(ping.version) and\n",
    "           ping.version[index] == current_version):\n",
    "        pingCount = ping.update_ping_count_notify[index]\n",
    "        # Is this an update ping or just a placeholder for the telemetry ping?\n",
    "        if pingCount > 0:\n",
    "            # Is there also a valid update check code or no update telemetry ping?\n",
    "            if (ping.update_check_code_notify is not None and\n",
    "                len(ping.update_check_code_notify) > index and\n",
    "                ping.update_check_code_notify[index][28] > 0):\n",
    "                return False, ping\n",
    "\n",
    "        index += 1\n",
    "        \n",
    "    return True, ping\n",
    "\n",
    "is_supported_rdd = has_min_update_ping_count_true_rdd.map(is_supported_mapper).cache()\n",
    "is_supported_dict = is_supported_rdd.countByKey()\n",
    "is_supported_dict"
   ]
  },
  {
   "cell_type": "markdown",
   "metadata": {},
   "source": [
    "Create an RDD of the telemetry pings that are supported based on\n",
    "whether they have not received or have received the unsupported\n",
    "update xml for the last update check."
   ]
  },
  {
   "cell_type": "code",
   "execution_count": null,
   "metadata": {
    "collapsed": true
   },
   "outputs": [],
   "source": [
    "is_supported_true_rdd = is_supported_rdd.filter(lambda p: p[0] == True).values().cache()"
   ]
  },
  {
   "cell_type": "markdown",
   "metadata": {},
   "source": [
    "Create an RDD of out of date telemetry pings that have and don't have\n",
    "the ability to apply an update along with a dictionary of the count \n",
    "of True and False."
   ]
  },
  {
   "cell_type": "code",
   "execution_count": null,
   "metadata": {
    "collapsed": false
   },
   "outputs": [],
   "source": [
    "def is_able_to_apply_mapper(d):\n",
    "    ping = d\n",
    "    index = 0\n",
    "    current_version = ping.version[0]\n",
    "    while (index < len(ping.update_ping_count_notify) and\n",
    "           index < len(ping.version) and\n",
    "           ping.version[index] == current_version):\n",
    "        if ping.update_ping_count_notify[index] > 0:\n",
    "            # Only check the last value for update_unable_to_apply_notify\n",
    "            # to determine if the client is unable to apply.\n",
    "            if (ping.update_unable_to_apply_notify is not None and\n",
    "                ping.update_unable_to_apply_notify[index] > 0):\n",
    "                return False, ping\n",
    "\n",
    "            return True, ping\n",
    "\n",
    "        index += 1\n",
    "\n",
    "    raise ValueError(\"Missing update unable to apply value!\")\n",
    "\n",
    "is_able_to_apply_rdd = is_supported_true_rdd.map(is_able_to_apply_mapper).cache()\n",
    "is_able_to_apply_dict = is_able_to_apply_rdd.countByKey()\n",
    "is_able_to_apply_dict"
   ]
  },
  {
   "cell_type": "markdown",
   "metadata": {},
   "source": [
    "Create an RDD of the telemetry pings that have the ability to apply\n",
    "an update."
   ]
  },
  {
   "cell_type": "code",
   "execution_count": null,
   "metadata": {
    "collapsed": true
   },
   "outputs": [],
   "source": [
    "is_able_to_apply_true_rdd = is_able_to_apply_rdd.filter(lambda p: p[0] == True).values().cache()"
   ]
  },
  {
   "cell_type": "markdown",
   "metadata": {},
   "source": [
    "Create an RDD of out of date telemetry pings that have and don't have\n",
    "the application.update.enabled preference set to True / False along\n",
    "with a dictionary of the count of True and False."
   ]
  },
  {
   "cell_type": "code",
   "execution_count": null,
   "metadata": {
    "collapsed": false
   },
   "outputs": [],
   "source": [
    "def has_update_enabled_mapper(d):\n",
    "    ping = d\n",
    "    index = 0\n",
    "    current_version = ping.version[0]\n",
    "    while (index < len(ping.update_ping_count_notify) and\n",
    "           index < len(ping.version) and\n",
    "           ping.version[index] == current_version):\n",
    "        if ping.update_ping_count_notify[index] > 0:\n",
    "            # If there is an update ping and update_not_pref_update_enabled_notify\n",
    "            # has a value greater than 0 then the preference is false. If there is\n",
    "            # a value of 0 or update_not_pref_update_enabled_notify is None then\n",
    "            # the preference is true.\n",
    "            if (ping.update_not_pref_update_enabled_notify is not None and\n",
    "                ping.update_not_pref_update_enabled_notify[index] > 0):\n",
    "                return False, ping\n",
    "\n",
    "            return True, ping\n",
    "\n",
    "        index += 1\n",
    "\n",
    "    raise ValueError(\"Missing update enabled value!\")\n",
    "\n",
    "has_update_enabled_rdd = is_able_to_apply_true_rdd.map(has_update_enabled_mapper).cache()\n",
    "has_update_enabled_dict = has_update_enabled_rdd.countByKey()\n",
    "has_update_enabled_dict"
   ]
  },
  {
   "cell_type": "markdown",
   "metadata": {},
   "source": [
    "### The next several cells categorize the clients that are \"out of date, of concern\"."
   ]
  },
  {
   "cell_type": "markdown",
   "metadata": {},
   "source": [
    "Create a reference to the dictionary which will be written to the\n",
    "JSON that populates the web page data. This way the reference in the\n",
    "web page never changes. A reference is all that is needed since the\n",
    "dictionary is not modified."
   ]
  },
  {
   "cell_type": "code",
   "execution_count": null,
   "metadata": {
    "collapsed": true
   },
   "outputs": [],
   "source": [
    "of_concern_dict = has_update_enabled_dict"
   ]
  },
  {
   "cell_type": "markdown",
   "metadata": {},
   "source": [
    "Create an RDD of the telemetry pings that have the\n",
    "application.update.enabled preference set to True.\n",
    "\n",
    "This RDD is created from the last \"out of date, potentially of concern\"\n",
    "RDD and it is named of_concern_true_rdd to simplify the addition of new code\n",
    "without having to modify consumers of the RDD."
   ]
  },
  {
   "cell_type": "code",
   "execution_count": null,
   "metadata": {
    "collapsed": false
   },
   "outputs": [],
   "source": [
    "of_concern_true_rdd = has_update_enabled_rdd.filter(lambda p: p[0] == True).values().cache()"
   ]
  },
  {
   "cell_type": "markdown",
   "metadata": {},
   "source": [
    "Create an RDD of out of date, of concern telemetry ping client\n",
    "versions along with a dictionary of the count of each version."
   ]
  },
  {
   "cell_type": "code",
   "execution_count": null,
   "metadata": {
    "collapsed": false
   },
   "outputs": [],
   "source": [
    "def by_version_mapper(d):\n",
    "    ping = d\n",
    "    return ping.version[0], ping\n",
    "\n",
    "of_concern_by_version_rdd = of_concern_true_rdd.map(by_version_mapper)\n",
    "of_concern_by_version_dict = of_concern_by_version_rdd.countByKey()\n",
    "of_concern_by_version_dict"
   ]
  },
  {
   "cell_type": "markdown",
   "metadata": {},
   "source": [
    "Create an RDD of out of date, of concern telemetry ping update check\n",
    "codes along with a dictionary of the count of each update check code."
   ]
  },
  {
   "cell_type": "code",
   "execution_count": null,
   "metadata": {
    "collapsed": false
   },
   "outputs": [],
   "source": [
    "def check_code_notify_mapper(d):\n",
    "    ping = d\n",
    "    index = 0\n",
    "    current_version = ping.version[0]\n",
    "    while (index < len(ping.update_ping_count_notify) and\n",
    "           index < len(ping.version) and\n",
    "           ping.version[index] == current_version):\n",
    "        if (ping.update_ping_count_notify[index] > 0 and\n",
    "            ping.update_check_code_notify is not None):\n",
    "            code_index = 0\n",
    "            for code_value in ping.update_check_code_notify[index]:\n",
    "                if code_value > 0:\n",
    "                    return code_index, ping\n",
    "                code_index += 1\n",
    "\n",
    "            if (ping.update_check_no_update_notify is not None and\n",
    "                ping.update_check_no_update_notify[index] > 0):\n",
    "                return 0, ping\n",
    "\n",
    "        index += 1\n",
    "\n",
    "    return -1, ping\n",
    "\n",
    "check_code_notify_of_concern_rdd = of_concern_true_rdd.map(check_code_notify_mapper)\n",
    "check_code_notify_of_concern_dict = check_code_notify_of_concern_rdd.countByKey()\n",
    "check_code_notify_of_concern_dict"
   ]
  },
  {
   "cell_type": "markdown",
   "metadata": {},
   "source": [
    "Create an RDD of out of date, of concern telemetry pings that had a\n",
    "general failure for the update check. The general failure codes are:\n",
    "* CHK_GENERAL_ERROR_PROMPT: 22\n",
    "* CHK_GENERAL_ERROR_SILENT: 23"
   ]
  },
  {
   "cell_type": "code",
   "execution_count": null,
   "metadata": {
    "collapsed": true
   },
   "outputs": [],
   "source": [
    "check_code_notify_general_error_of_concern_rdd = \\\n",
    "    check_code_notify_of_concern_rdd.filter(lambda p: p[0] == 22 or p[0] == 23).values().cache()"
   ]
  },
  {
   "cell_type": "markdown",
   "metadata": {},
   "source": [
    "Create an RDD of out of date, of concern telemetry ping update check\n",
    "extended error values for the clients that had a general failure for\n",
    "the update check along with a dictionary of the count of the error\n",
    "values."
   ]
  },
  {
   "cell_type": "code",
   "execution_count": null,
   "metadata": {
    "collapsed": false
   },
   "outputs": [],
   "source": [
    "def check_ex_error_notify_mapper(d):\n",
    "    ping = d\n",
    "    current_version = ping.version[0]\n",
    "    for index, version in enumerate(ping.version):\n",
    "        if (ping.update_ping_count_notify[index] > 0 and\n",
    "            ping.update_check_extended_error_notify is not None):\n",
    "            for key_name in ping.update_check_extended_error_notify:\n",
    "                if ping.update_check_extended_error_notify[key_name][index] > 0:\n",
    "                    if version == current_version:\n",
    "                        key_name = key_name[17:]\n",
    "                        if len(key_name) == 4:\n",
    "                            key_name = key_name[1:]\n",
    "                        return int(key_name), ping\n",
    "                    return -1, ping\n",
    "\n",
    "    return -2, ping\n",
    "\n",
    "check_ex_error_notify_of_concern_rdd = check_code_notify_general_error_of_concern_rdd.map(check_ex_error_notify_mapper)\n",
    "check_ex_error_notify_of_concern_dict = check_ex_error_notify_of_concern_rdd.countByKey()\n",
    "check_ex_error_notify_of_concern_dict"
   ]
  },
  {
   "cell_type": "markdown",
   "metadata": {},
   "source": [
    "Create an RDD of out of date, of concern telemetry ping update\n",
    "download codes along with a dictionary of the count of the codes."
   ]
  },
  {
   "cell_type": "code",
   "execution_count": null,
   "metadata": {
    "collapsed": false
   },
   "outputs": [],
   "source": [
    "def download_code_mapper(d):\n",
    "    ping = d\n",
    "    current_version = ping.version[0]\n",
    "    for index, version in enumerate(ping.version):\n",
    "        if ping.update_download_code_partial is not None:\n",
    "            code_index = 0\n",
    "            for code_value in ping.update_download_code_partial[index]:\n",
    "                if code_value > 0:\n",
    "                    if version == current_version:\n",
    "                        return code_index, ping\n",
    "                    return -1, ping\n",
    "                code_index += 1\n",
    "\n",
    "        if ping.update_download_code_complete is not None:\n",
    "            code_index = 0\n",
    "            for code_value in ping.update_download_code_complete[index]:\n",
    "                if code_value > 0:\n",
    "                    if version == current_version:\n",
    "                        return code_index, ping\n",
    "                    return -1, ping\n",
    "                code_index += 1\n",
    "\n",
    "    return -2, ping\n",
    "\n",
    "download_code_of_concern_rdd = of_concern_true_rdd.map(download_code_mapper)\n",
    "download_code_of_concern_dict = download_code_of_concern_rdd.countByKey()\n",
    "download_code_of_concern_dict"
   ]
  },
  {
   "cell_type": "markdown",
   "metadata": {},
   "source": [
    "Create an RDD of out of date, of concern telemetry ping staged update\n",
    "state codes along with a dictionary of the count of the codes."
   ]
  },
  {
   "cell_type": "code",
   "execution_count": null,
   "metadata": {
    "collapsed": false
   },
   "outputs": [],
   "source": [
    "def state_code_stage_mapper(d):\n",
    "    ping = d\n",
    "    current_version = ping.version[0]\n",
    "    for index, version in enumerate(ping.version):\n",
    "        if ping.update_state_code_partial_stage is not None:\n",
    "            code_index = 0\n",
    "            for code_value in ping.update_state_code_partial_stage[index]:\n",
    "                if code_value > 0:\n",
    "                    if version == current_version:\n",
    "                        return code_index, ping\n",
    "                    return -1, ping\n",
    "                code_index += 1\n",
    "\n",
    "        if ping.update_state_code_complete_stage is not None:\n",
    "            code_index = 0\n",
    "            for code_value in ping.update_state_code_complete_stage[index]:\n",
    "                if code_value > 0:\n",
    "                    if version == current_version:\n",
    "                        return code_index, ping\n",
    "                    return -1, ping\n",
    "                code_index += 1\n",
    "\n",
    "        if ping.update_state_code_unknown_stage is not None:\n",
    "            code_index = 0\n",
    "            for code_value in ping.update_state_code_unknown_stage[index]:\n",
    "                if code_value > 0:\n",
    "                    if version == current_version:\n",
    "                        return code_index, ping\n",
    "                    return -1, ping\n",
    "                code_index += 1\n",
    "\n",
    "    return -2, ping\n",
    "\n",
    "state_code_stage_of_concern_rdd = of_concern_true_rdd.map(state_code_stage_mapper).cache()\n",
    "state_code_stage_of_concern_dict = state_code_stage_of_concern_rdd.countByKey()\n",
    "state_code_stage_of_concern_dict"
   ]
  },
  {
   "cell_type": "markdown",
   "metadata": {},
   "source": [
    "Create an RDD of out of date, of concern telemetry pings that failed\n",
    "to stage an update.\n",
    "* STATE_FAILED: 12"
   ]
  },
  {
   "cell_type": "code",
   "execution_count": null,
   "metadata": {
    "collapsed": true
   },
   "outputs": [],
   "source": [
    "state_code_stage_failed_of_concern_rdd = \\\n",
    "    state_code_stage_of_concern_rdd.filter(lambda p: p[0] == 12).values().cache()"
   ]
  },
  {
   "cell_type": "markdown",
   "metadata": {},
   "source": [
    "Create an RDD of out of date, of concern telemetry ping staged update\n",
    "state failure codes along with a dictionary of the count of the codes."
   ]
  },
  {
   "cell_type": "code",
   "execution_count": null,
   "metadata": {
    "collapsed": false
   },
   "outputs": [],
   "source": [
    "def state_failure_code_stage_mapper(d):\n",
    "    ping = d\n",
    "    current_version = ping.version[0]\n",
    "    for index, version in enumerate(ping.version):\n",
    "        if ping.update_status_error_code_partial_stage is not None:\n",
    "            code_index = 0\n",
    "            for code_value in ping.update_status_error_code_partial_stage[index]:\n",
    "                if code_value > 0:\n",
    "                    if version == current_version:\n",
    "                        return code_index, ping\n",
    "                    return -1, ping\n",
    "                code_index += 1\n",
    "\n",
    "        if ping.update_status_error_code_complete_stage is not None:\n",
    "            code_index = 0\n",
    "            for code_value in ping.update_status_error_code_complete_stage[index]:\n",
    "                if code_value > 0:\n",
    "                    if version == current_version:\n",
    "                        return code_index, ping\n",
    "                    return -1, ping\n",
    "                code_index += 1\n",
    "\n",
    "        if ping.update_status_error_code_unknown_stage is not None:\n",
    "            code_index = 0\n",
    "            for code_value in ping.update_status_error_code_unknown_stage[index]:\n",
    "                if code_value > 0:\n",
    "                    if version == current_version:\n",
    "                        return code_index, ping\n",
    "                    return -1, ping\n",
    "                code_index += 1\n",
    "\n",
    "    return -2, ping\n",
    "\n",
    "state_failure_code_stage_of_concern_rdd = state_code_stage_failed_of_concern_rdd.map(state_failure_code_stage_mapper)\n",
    "state_failure_code_stage_of_concern_dict = state_failure_code_stage_of_concern_rdd.countByKey()\n",
    "state_failure_code_stage_of_concern_dict"
   ]
  },
  {
   "cell_type": "markdown",
   "metadata": {},
   "source": [
    "Create an RDD of out of date, of concern telemetry ping startup\n",
    "update state codes along with a dictionary of the count of the codes."
   ]
  },
  {
   "cell_type": "code",
   "execution_count": null,
   "metadata": {
    "collapsed": false
   },
   "outputs": [],
   "source": [
    "def state_code_startup_mapper(d):\n",
    "    ping = d\n",
    "    current_version = ping.version[0]\n",
    "    for index, version in enumerate(ping.version):\n",
    "        if ping.update_state_code_partial_startup is not None:\n",
    "            code_index = 0\n",
    "            for code_value in ping.update_state_code_partial_startup[index]:\n",
    "                if code_value > 0:\n",
    "                    if version == current_version:\n",
    "                        return code_index, ping\n",
    "                    return -1, ping\n",
    "                code_index += 1\n",
    "\n",
    "        if ping.update_state_code_complete_startup is not None:\n",
    "            code_index = 0\n",
    "            for code_value in ping.update_state_code_complete_startup[index]:\n",
    "                if code_value > 0:\n",
    "                    if version == current_version:\n",
    "                        return code_index, ping\n",
    "                    return -1, ping\n",
    "                code_index += 1\n",
    "\n",
    "        if ping.update_state_code_unknown_startup is not None:\n",
    "            code_index = 0\n",
    "            for code_value in ping.update_state_code_unknown_startup[index]:\n",
    "                if code_value > 0:\n",
    "                    if version == current_version:\n",
    "                        return code_index, ping\n",
    "                    return -1, ping\n",
    "                code_index += 1\n",
    "\n",
    "    return -2, ping\n",
    "\n",
    "state_code_startup_of_concern_rdd = of_concern_true_rdd.map(state_code_startup_mapper).cache()\n",
    "state_code_startup_of_concern_dict = state_code_startup_of_concern_rdd.countByKey()\n",
    "state_code_startup_of_concern_dict"
   ]
  },
  {
   "cell_type": "markdown",
   "metadata": {},
   "source": [
    "Create an RDD of the telemetry pings that have ping startup update state code equal to 12."
   ]
  },
  {
   "cell_type": "code",
   "execution_count": null,
   "metadata": {
    "collapsed": true
   },
   "outputs": [],
   "source": [
    "state_code_startup_failed_of_concern_rdd = \\\n",
    "    state_code_startup_of_concern_rdd.filter(lambda p: p[0] == 12).values().cache()"
   ]
  },
  {
   "cell_type": "markdown",
   "metadata": {},
   "source": [
    "Create an RDD of out of date, of concern telemetry ping startup\n",
    "update state failure codes along with a dictionary of the count of the\n",
    "codes."
   ]
  },
  {
   "cell_type": "code",
   "execution_count": null,
   "metadata": {
    "collapsed": false
   },
   "outputs": [],
   "source": [
    "def state_failure_code_startup_mapper(d):\n",
    "    ping = d\n",
    "    current_version = ping.version[0]\n",
    "    for index, version in enumerate(ping.version):\n",
    "        if ping.update_status_error_code_partial_startup is not None:\n",
    "            code_index = 0\n",
    "            for code_value in ping.update_status_error_code_partial_startup[index]:\n",
    "                if code_value > 0:\n",
    "                    if version == current_version:\n",
    "                        return code_index, ping\n",
    "                    return -1, ping\n",
    "                code_index += 1\n",
    "\n",
    "        if ping.update_status_error_code_complete_startup is not None:\n",
    "            code_index = 0\n",
    "            for code_value in ping.update_status_error_code_complete_startup[index]:\n",
    "                if code_value > 0:\n",
    "                    if version == current_version:\n",
    "                        return code_index, ping\n",
    "                    return -1, ping\n",
    "                code_index += 1\n",
    "\n",
    "        if ping.update_status_error_code_unknown_startup is not None:\n",
    "            code_index = 0\n",
    "            for code_value in ping.update_status_error_code_unknown_startup[index]:\n",
    "                if code_value > 0:\n",
    "                    if version == current_version:\n",
    "                        return code_index, ping\n",
    "                    return -1, ping\n",
    "                code_index += 1\n",
    "\n",
    "    return -2, ping\n",
    "\n",
    "state_failure_code_startup_of_concern_rdd = state_code_startup_failed_of_concern_rdd.map(state_failure_code_startup_mapper)\n",
    "state_failure_code_startup_of_concern_dict = state_failure_code_startup_of_concern_rdd.countByKey()\n",
    "state_failure_code_startup_of_concern_dict"
   ]
  },
  {
   "cell_type": "markdown",
   "metadata": {},
   "source": [
    "Create an RDD of out of date, of concern telemetry pings that have\n",
    "and have not received only no updates available during the update\n",
    "check for their current version of Firefox along with a dictionary\n",
    "of the count of values."
   ]
  },
  {
   "cell_type": "code",
   "execution_count": null,
   "metadata": {
    "collapsed": false
   },
   "outputs": [],
   "source": [
    "def has_only_no_update_found_mapper(d):\n",
    "    ping = d\n",
    "    if ping.update_check_no_update_notify is None:\n",
    "        return False, ping\n",
    "\n",
    "    current_version = ping.version[0]\n",
    "    for index, version in enumerate(ping.version):\n",
    "        if current_version != version:\n",
    "            return True, ping\n",
    "\n",
    "        if ping.update_ping_count_notify[index] > 0:\n",
    "            # If there is an update ping and update_check_no_update_notify\n",
    "            # has a value equal to 0 then the update check returned a\n",
    "            # value other than no update found. This could be improved by\n",
    "            # checking the check value for error conditions and ignoring\n",
    "            # those codes and ignoring the check below for those cases.\n",
    "            if (ping.update_check_no_update_notify[index] == 0):\n",
    "                return False, ping\n",
    "\n",
    "    return True, ping\n",
    "\n",
    "has_only_no_update_found_rdd = of_concern_true_rdd.map(has_only_no_update_found_mapper).cache()\n",
    "has_only_no_update_found_dict = has_only_no_update_found_rdd.countByKey()\n",
    "has_only_no_update_found_dict"
   ]
  },
  {
   "cell_type": "markdown",
   "metadata": {},
   "source": [
    "Create an RDD of the telemetry pings that have not received only no updates\n",
    "available during the update check for their current version of Firefox."
   ]
  },
  {
   "cell_type": "code",
   "execution_count": null,
   "metadata": {
    "collapsed": false
   },
   "outputs": [],
   "source": [
    "has_only_no_update_found_false_rdd = has_only_no_update_found_rdd.filter(lambda p: p[0] == False).values().cache()"
   ]
  },
  {
   "cell_type": "markdown",
   "metadata": {},
   "source": [
    "Create an RDD of out of date, of concern telemetry pings that have and\n",
    "don't have any update download pings for their current version of\n",
    "Firefox along with a dictionary of the count of the values."
   ]
  },
  {
   "cell_type": "code",
   "execution_count": null,
   "metadata": {
    "collapsed": false
   },
   "outputs": [],
   "source": [
    "def has_no_download_code_mapper(d):\n",
    "    ping = d\n",
    "    current_version = ping.version[0]\n",
    "    for index, version in enumerate(ping.version):\n",
    "        if current_version != version:\n",
    "            return True, ping\n",
    "\n",
    "        if ping.update_download_code_partial is not None:\n",
    "            for code_value in ping.update_download_code_partial[index]:\n",
    "                if code_value > 0:\n",
    "                    return False, ping\n",
    "\n",
    "        if ping.update_download_code_complete is not None:\n",
    "            for code_value in ping.update_download_code_complete[index]:\n",
    "                if code_value > 0:\n",
    "                    return False, ping\n",
    "\n",
    "    return True, ping\n",
    "\n",
    "has_no_download_code_rdd = has_only_no_update_found_false_rdd.map(has_no_download_code_mapper).cache()\n",
    "has_no_download_code_dict = has_no_download_code_rdd.countByKey()\n",
    "has_no_download_code_dict"
   ]
  },
  {
   "cell_type": "markdown",
   "metadata": {},
   "source": [
    "Create an RDD of the telemetry pings that don't have any update\n",
    "download pings for their current version of Firefox."
   ]
  },
  {
   "cell_type": "code",
   "execution_count": null,
   "metadata": {
    "collapsed": true
   },
   "outputs": [],
   "source": [
    "has_no_download_code_false_rdd = has_no_download_code_rdd.filter(lambda p: p[0] == False).values().cache()"
   ]
  },
  {
   "cell_type": "markdown",
   "metadata": {},
   "source": [
    "Create an RDD of out of date, of concern telemetry pings that have and\n",
    "don't have an update failure state for their current version of\n",
    "Firefox along with a dictionary of the count of the values."
   ]
  },
  {
   "cell_type": "code",
   "execution_count": null,
   "metadata": {
    "collapsed": false
   },
   "outputs": [],
   "source": [
    "def has_update_apply_failure_mapper(d):\n",
    "    ping = d\n",
    "    current_version = ping.version[0]\n",
    "    for index, version in enumerate(ping.version):\n",
    "        if current_version != version:\n",
    "            return False, ping\n",
    "\n",
    "        if (ping.update_state_code_partial_startup is not None and\n",
    "            ping.update_state_code_partial_startup[index][12] > 0):\n",
    "            return True, ping\n",
    "\n",
    "        if (ping.update_state_code_complete_startup is not None and\n",
    "            ping.update_state_code_complete_startup[index][12] > 0):\n",
    "            return True, ping\n",
    "\n",
    "    return False, ping\n",
    "\n",
    "has_update_apply_failure_rdd = has_no_download_code_false_rdd.map(has_update_apply_failure_mapper)\n",
    "has_update_apply_failure_dict = has_update_apply_failure_rdd.countByKey()\n",
    "has_update_apply_failure_dict"
   ]
  },
  {
   "cell_type": "markdown",
   "metadata": {},
   "source": [
    "Create a reference to the dictionary which will be written to the\n",
    "JSON that populates the web page data. This way the reference in the\n",
    "web page never changes. A reference is all that is needed since the\n",
    "dictionary is not modified."
   ]
  },
  {
   "cell_type": "code",
   "execution_count": null,
   "metadata": {
    "collapsed": true
   },
   "outputs": [],
   "source": [
    "of_concern_categorized_dict = has_update_apply_failure_dict"
   ]
  },
  {
   "cell_type": "markdown",
   "metadata": {},
   "source": [
    "Create the JSON that will be written to a file for the report."
   ]
  },
  {
   "cell_type": "code",
   "execution_count": null,
   "metadata": {
    "collapsed": false
   },
   "outputs": [],
   "source": [
    "results_dict = {\"reportDetails\": report_details_dict,\n",
    "                \"summary\": summary_dict,\n",
    "                \"hasOutOfDateMaxVersion\": has_out_of_date_max_version_dict,\n",
    "                \"hasUpdatePing\": has_update_ping_dict,\n",
    "                \"hasMinSubsessionLength\": has_min_subsession_length_dict,\n",
    "                \"hasMinUpdatePingCount\": has_min_update_ping_count_dict,\n",
    "                \"isSupported\": is_supported_dict,\n",
    "                \"isAbleToApply\": is_able_to_apply_dict,\n",
    "                \"hasUpdateEnabled\": has_update_enabled_dict,\n",
    "                \"ofConcern\": of_concern_dict,\n",
    "                \"hasOnlyNoUpdateFound\": has_only_no_update_found_dict,\n",
    "                \"hasNoDownloadCode\": has_no_download_code_dict,\n",
    "                \"hasUpdateApplyFailure\": has_update_apply_failure_dict,\n",
    "                \"ofConcernCategorized\": of_concern_categorized_dict,\n",
    "                \"ofConcernByVersion\": of_concern_by_version_dict,\n",
    "                \"checkCodeNotifyOfConcern\": check_code_notify_of_concern_dict,\n",
    "                \"checkExErrorNotifyOfConcern\": check_ex_error_notify_of_concern_dict,\n",
    "                \"downloadCodeOfConcern\": download_code_of_concern_dict,\n",
    "                \"stateCodeStageOfConcern\": state_code_stage_of_concern_dict,\n",
    "                \"stateFailureCodeStageOfConcern\": state_failure_code_stage_of_concern_dict,\n",
    "                \"stateCodeStartupOfConcern\": state_code_startup_of_concern_dict,\n",
    "                \"stateFailureCodeStartupOfConcern\": state_failure_code_startup_of_concern_dict}\n",
    "results_json = json.dumps(results_dict, ensure_ascii=False)\n",
    "results_json"
   ]
  },
  {
   "cell_type": "markdown",
   "metadata": {},
   "source": [
    "Save the output to be uploaded automatically once the job completes.\n",
    "The file will be stored at:\n",
    "* https://analysis-output.telemetry.mozilla.org/app-update/data/out-of-date/FILENAME"
   ]
  },
  {
   "cell_type": "code",
   "execution_count": null,
   "metadata": {
    "collapsed": false
   },
   "outputs": [],
   "source": [
    "filename = \"./output/\" + report_filename + \".json\"\n",
    "if no_upload is None:\n",
    "    with open(filename, 'w') as f:\n",
    "        f.write(results_json)\n",
    "        \n",
    "    bucket = \"telemetry-public-analysis-2\"\n",
    "    path = \"app-update/data/out-of-date/\"\n",
    "    timestamped_s3_key = path + report_filename + \".json\"\n",
    "    client = boto3.client('s3', 'us-west-2')\n",
    "    transfer = S3Transfer(client)\n",
    "    transfer.upload_file(filename, bucket, timestamped_s3_key, extra_args={'ContentType':'application/json'})\n",
    "\n",
    "print \"Filename: \" + filename"
   ]
  },
  {
   "cell_type": "markdown",
   "metadata": {},
   "source": [
    "Get the time when this job ended."
   ]
  },
  {
   "cell_type": "code",
   "execution_count": null,
   "metadata": {
    "collapsed": false
   },
   "outputs": [],
   "source": [
    "end_time = dt.datetime.now()\n",
    "print \"End: \" + str(end_time.strftime(\"%Y-%m-%d %H:%M:%S\"))"
   ]
  },
  {
   "cell_type": "markdown",
   "metadata": {},
   "source": [
    "Get the elapsed time it took to run this job."
   ]
  },
  {
   "cell_type": "code",
   "execution_count": null,
   "metadata": {
    "collapsed": false
   },
   "outputs": [],
   "source": [
    "elapsed_time = end_time - start_time\n",
    "print \"Elapsed Seconds: \" + str(int(elapsed_time.total_seconds()))"
   ]
  }
 ],
 "metadata": {
  "anaconda-cloud": {},
  "kernelspec": {
   "display_name": "Python [default]",
   "language": "python",
   "name": "python2"
  },
  "language_info": {
   "codemirror_mode": {
    "name": "ipython",
    "version": 2
   },
   "file_extension": ".py",
   "mimetype": "text/x-python",
   "name": "python",
   "nbconvert_exporter": "python",
   "pygments_lexer": "ipython2",
   "version": "2.7.12"
  }
 },
 "nbformat": 4,
 "nbformat_minor": 0
}