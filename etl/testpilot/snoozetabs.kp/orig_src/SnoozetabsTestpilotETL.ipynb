{
 "cells": [
  {
   "cell_type": "raw",
   "metadata": {},
   "source": [
    "---\n",
    "title: TxP Snoozetabs ETL\n",
    "authors:\n",
    "- sunahsuh\n",
    "tags:\n",
    "- testpilot\n",
    "- etl\n",
    "created_at: 2017-02-17\n",
    "updated_at: 2017-02-17\n",
    "tldr: This notebook transforms pings from the SnoozeTabs testpilot test to a parquet dataset. Docs at https://github.com/bwinton/SnoozeTabs/blob/master/docs/metrics.md\n",
    "---"
   ]
  },
  {
   "cell_type": "code",
   "execution_count": null,
   "metadata": {
    "collapsed": false
   },
   "outputs": [],
   "source": [
    "from datetime import *\n",
    "import dateutil.parser\n",
    "from pyspark.sql.types import *\n",
    "\n",
    "from moztelemetry import get_pings_properties\n",
    "from moztelemetry.dataset import Dataset\n",
    "\n",
    "\n",
    "class ColumnConfig:\n",
    "    def __init__(self, name, path, cleaning_func, struct_type):\n",
    "        self.name = name\n",
    "        self.path = path\n",
    "        self.cleaning_func = cleaning_func\n",
    "        self.struct_type = struct_type\n",
    "\n",
    "class DataFrameConfig:\n",
    "    def __init__(self, col_configs):\n",
    "        self.columns = [ColumnConfig(*col) for col in col_configs]\n",
    "\n",
    "    def toStructType(self):\n",
    "        return StructType(map(\n",
    "            lambda col: StructField(col.name, col.struct_type, True),\n",
    "            self.columns))\n",
    "\n",
    "    def get_names(self):\n",
    "        return map(lambda col: col.name, self.columns)\n",
    "\n",
    "    def get_paths(self):\n",
    "        return map(lambda col: col.path, self.columns)\n",
    "\n",
    "\n",
    "\n",
    "def pings_to_df(sqlContext, pings, data_frame_config):\n",
    "    \"\"\"Performs simple data pipelining on raw pings\n",
    "\n",
    "    Arguments:\n",
    "        data_frame_config: a list of tuples of the form:\n",
    "                 (name, path, cleaning_func, column_type)\n",
    "    \"\"\"\n",
    "    def build_cell(ping, column_config):\n",
    "        \"\"\"Takes a json ping and a column config and returns a cleaned cell\"\"\"\n",
    "        raw_value = ping[column_config.path]\n",
    "        func = column_config.cleaning_func\n",
    "        if func is not None:\n",
    "            return func(raw_value)\n",
    "        else:\n",
    "            return raw_value\n",
    "\n",
    "    def ping_to_row(ping):\n",
    "        return [build_cell(ping, col) for col in data_frame_config.columns]\n",
    "\n",
    "    filtered_pings = get_pings_properties(pings, data_frame_config.get_paths())\n",
    "\n",
    "    return sqlContext.createDataFrame(\n",
    "        filtered_pings.map(ping_to_row),\n",
    "        schema = data_frame_config.toStructType())\n",
    "\n",
    "def save_df(df, name, date_partition, partitions=1):\n",
    "    if date_partition is not None:\n",
    "        partition_str = \"/submission={day}\".format(day=date_partition)\n",
    "    else:\n",
    "        partition_str=\"\"\n",
    "\n",
    "\n",
    "    path_fmt = \"s3n://telemetry-parquet/harter/cliqz_{name}/v1{partition_str}\"\n",
    "    path = path_fmt.format(name=name, partition_str=partition_str)\n",
    "    df.coalesce(partitions).write.mode(\"overwrite\").parquet(path)\n",
    "\n",
    "def __main__(sc, sqlContext, submission_date):\n",
    "    if submission_date is None:\n",
    "        submission_date = (date.today() - timedelta(1)).strftime(\"%Y%m%d\")\n",
    "    get_doctype_pings = lambda docType: Dataset.from_source(\"telemetry\") \\\n",
    "        .where(docType=docType) \\\n",
    "        .where(submissionDate=submission_date) \\\n",
    "        .where(appName=\"Firefox\") \\\n",
    "        .records(sc)\n",
    "\n",
    "    return pings_to_df(\n",
    "        sqlContext,\n",
    "        get_doctype_pings(\"testpilottest\"),\n",
    "        DataFrameConfig([\n",
    "            (\"client_id\", \"clientId\", None, StringType()),\n",
    "            (\"event\", \"payload/payload/testpilotPingData/event\", None, StringType()),\n",
    "            (\"snooze_time\", \"payload/payload/testpilotPingData/snooze_time\", None, LongType()),\n",
    "            (\"snooze_time_type\", \"payload/payload/testpilotPingData/snooze_time_type\", None, StringType()),\n",
    "            (\"creation_date\", \"creationDate\", dateutil.parser.parse, TimestampType()),\n",
    "            (\"test\", \"payload/test\", None, StringType()),\n",
    "            (\"variants\", \"payload/variants\", None, StringType()),\n",
    "            (\"timestamp\", \"payload/timestamp\", None, LongType()),\n",
    "            (\"version\", \"payload/version\", None, StringType())\n",
    "        ])).filter(\"event IS NOT NULL\") \\\n",
    "           .filter(\"test = 'snoozetabs@mozilla.com'\")"
   ]
  },
  {
   "cell_type": "code",
   "execution_count": null,
   "metadata": {
    "collapsed": true
   },
   "outputs": [],
   "source": [
    "submission_date = (date.today() - timedelta(1)).strftime(\"%Y%m%d\")"
   ]
  },
  {
   "cell_type": "code",
   "execution_count": null,
   "metadata": {
    "collapsed": true
   },
   "outputs": [],
   "source": [
    "tpt = __main__(sc, sqlContext, submission_date)"
   ]
  },
  {
   "cell_type": "code",
   "execution_count": null,
   "metadata": {
    "collapsed": false
   },
   "outputs": [],
   "source": [
    "tpt.repartition(1).write.parquet('s3://telemetry-parquet/testpilot/txp_snoozetabs/v1/submission_date={}'.format(submission_date))"
   ]
  }
 ],
 "metadata": {
  "anaconda-cloud": {},
  "kernelspec": {
   "display_name": "Python [conda root]",
   "language": "python",
   "name": "conda-root-py"
  },
  "language_info": {
   "codemirror_mode": {
    "name": "ipython",
    "version": 2
   },
   "file_extension": ".py",
   "mimetype": "text/x-python",
   "name": "python",
   "nbconvert_exporter": "python",
   "pygments_lexer": "ipython2",
   "version": "2.7.12"
  }
 },
 "nbformat": 4,
 "nbformat_minor": 1
}