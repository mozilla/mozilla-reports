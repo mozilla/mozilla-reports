{
 "cells": [
  {
   "cell_type": "raw",
   "metadata": {},
   "source": [
    "---\n",
    "title: Query AMO with Add-on GUID\n",
    "authors:\n",
    "- Ben Miroglio\n",
    "tags:\n",
    "- AMO\n",
    "- add-ons\n",
    "- firefox-desktop\n",
    "created_at: 2017-01-09\n",
    "updated_at: 2017-01-09\n",
    "tldr: Get metadata for an add-on through AMO given its GUID\n",
    "---"
   ]
  },
  {
   "cell_type": "markdown",
   "metadata": {},
   "source": [
    "# Query AMO with Add-on GUID"
   ]
  },
  {
   "cell_type": "markdown",
   "metadata": {},
   "source": [
    "In Telemetry and elsewhere we typically use add-on GUIDs to uniquely represent specific add-ons. Often times a GUID is ambiguous, revealing little to no information about the add-on. This script allows a user to quickly get add-on names, e10s compatibility, versions, weekly downloads, categories, etc. from AMO with just an add-on GUID. See the Appendix for an example JSON blob displaying all possible fields. Aside from easily acquiring meta data for add-ons, this example shows the various fields the user can access *not* accessible via telemetry at the moment.\n",
    "\n",
    "The example below is a simplification of the [script](https://github.com/andymckay/new-arewee10syet.com/blob/master/build.py) used to generate the [arewee10syet.com](https://arewee10syet.com) page. For more details please see the [AMO API doc](https://addons-server.readthedocs.io/en/latest/topics/api/addons.html).\n"
   ]
  },
  {
   "cell_type": "code",
   "execution_count": null,
   "metadata": {
    "collapsed": false
   },
   "outputs": [],
   "source": [
    "import pandas as pd\n",
    "import os\n",
    "import requests\n",
    "import json\n",
    "import urllib\n",
    "import sys"
   ]
  },
  {
   "cell_type": "markdown",
   "metadata": {},
   "source": [
    "# Set Up\n"
   ]
  },
  {
   "cell_type": "code",
   "execution_count": null,
   "metadata": {
    "collapsed": false
   },
   "outputs": [],
   "source": [
    "# for manual editting of missing or incorrect add-on names\n",
    "fixups = {\n",
    "    'testpilot@labs.mozilla.com': 'Test Pilot (old one)',\n",
    "    '{20a82645-c095-46ed-80e3-08825760534b}': 'Microsoft .NET framework assistant',\n",
    "}\n",
    "\n",
    "def process_amo(result):\n",
    "    \"\"\"\n",
    "    Selects and processes specific fields from the dict,\n",
    "    result, and returns new dict\n",
    "    \"\"\"\n",
    "    try:\n",
    "        name = result['name']['en-US']\n",
    "    except KeyError:\n",
    "        name = result['slug']\n",
    "    return {\n",
    "        'name': name,\n",
    "        'url': result['url'],\n",
    "        'guid': result['guid'],\n",
    "        'e10s_status': result['e10s'],\n",
    "        'avg_daily_users': result['average_daily_users'],\n",
    "        'categories': ','.join(result['categories']['firefox']),\n",
    "        'weekly_downloads': result['weekly_downloads'],\n",
    "        'ratings': result['ratings']\n",
    "    }\n",
    "\n",
    "def amo(guid, raw=False):\n",
    "    \"\"\"\n",
    "    Make AMO API call to request data for a given add-on guid \n",
    "    \n",
    "    Return raw data if raw=True, which returns the full\n",
    "    json returned from AMO as a python dict, otherwise call \n",
    "    process_amo() to only return fields of interest \n",
    "    (specified in process_amo())\n",
    "    \"\"\"\n",
    "    addon_url = AMO_SERVER + '/api/v3/addons/addon/{}/'.format(guid)\n",
    "    compat_url = AMO_SERVER + '/api/v3/addons/addon/{}/feature_compatibility/'.format(guid)\n",
    "\n",
    "    result = {}\n",
    "    print \"Fetching Data for:\", guid\n",
    "    for url in (addon_url, compat_url):\n",
    "        res = requests.get(url)\n",
    "        if res.status_code != 200:\n",
    "            return {\n",
    "                'name': fixups.get(\n",
    "                    guid, '{} error fetching data from AMO'.format(res.status_code)),\n",
    "                'guid': guid\n",
    "            }\n",
    "        res.raise_for_status()\n",
    "        res_json = res.json()\n",
    "        result.update(res_json)\n",
    "    if raw:\n",
    "        return result\n",
    "    return process_amo(result)\n",
    "\n",
    "def reorder_list(lst, move_to_front):\n",
    "    \"\"\"\n",
    "    Reorganizes the list <lst> such that the elements in\n",
    "    <move_to_front> appear at the beginning, in the order they appear in\n",
    "    <move_to_front>, returning a new list\n",
    "    \"\"\"\n",
    "    result = lst[:]\n",
    "    for elem in move_to_front[::-1]:\n",
    "        assert elem in lst, \"'{}' is not in the list\".format(elem)\n",
    "        result = [result.pop(result.index(elem))] + result\n",
    "    return result\n",
    "        "
   ]
  },
  {
   "cell_type": "markdown",
   "metadata": {},
   "source": [
    "Instantiate amo server object to be used by the above functions"
   ]
  },
  {
   "cell_type": "code",
   "execution_count": null,
   "metadata": {
    "collapsed": false
   },
   "outputs": [],
   "source": [
    "AMO_SERVER = os.getenv('AMO_SERVER', 'https://addons.mozilla.org')"
   ]
  },
  {
   "cell_type": "markdown",
   "metadata": {},
   "source": [
    "# Example: Request Data for 10 add-on GUIDs"
   ]
  },
  {
   "cell_type": "markdown",
   "metadata": {},
   "source": [
    "As an example, we can call the `amo()` function for a list of 10 add-on GUIDs formatting them into a pandas DF."
   ]
  },
  {
   "cell_type": "code",
   "execution_count": null,
   "metadata": {
    "collapsed": false
   },
   "outputs": [],
   "source": [
    "addon_guids = \\\n",
    "['easyscreenshot@mozillaonline.com',\n",
    " 'firebug@software.joehewitt.com',\n",
    " 'firefox@ghostery.com',\n",
    " 'uBlock0@raymondhill.net',\n",
    " '{20a82645-c095-46ed-80e3-08825760534b}',\n",
    " '{73a6fe31-595d-460b-a920-fcc0f8843232}',\n",
    " '{DDC359D1-844A-42a7-9AA1-88A850A938A8}',\n",
    " '{b9db16a4-6edc-47ec-a1f4-b86292ed211d}',\n",
    " '{d10d0bf8-f5b5-c8b4-a8b2-2b9879e08c5d}',\n",
    " '{e4a8a97b-f2ed-450b-b12d-ee082ba24781}']\n",
    "\n",
    "df = pd.DataFrame([amo(i) for i in addon_guids])\n",
    "\n",
    "# move guid and name to front of DF\n",
    "df = df[reorder_list(list(df), move_to_front=['guid', 'name'])]\n",
    "df"
   ]
  },
  {
   "cell_type": "markdown",
   "metadata": {},
   "source": [
    "There you have it! Please look at the Appendix for the possible fields obtainable through AMO."
   ]
  },
  {
   "cell_type": "markdown",
   "metadata": {},
   "source": [
    "# Appendix"
   ]
  },
  {
   "cell_type": "markdown",
   "metadata": {},
   "source": [
    "The function `process_amo()` uses prespecified fields. Here you can take a look at a number of the available fields and make necessary edits."
   ]
  },
  {
   "cell_type": "code",
   "execution_count": null,
   "metadata": {
    "collapsed": false
   },
   "outputs": [],
   "source": [
    "# request data for a single add-on guid\n",
    "result = amo(addon_guids[1], raw=True)"
   ]
  },
  {
   "cell_type": "code",
   "execution_count": null,
   "metadata": {
    "collapsed": false
   },
   "outputs": [],
   "source": [
    "result"
   ]
  }
 ],
 "metadata": {
  "anaconda-cloud": {},
  "hide_input": false,
  "kernelspec": {
   "display_name": "Python [Root]",
   "language": "python",
   "name": "Python [Root]"
  },
  "language_info": {
   "codemirror_mode": {
    "name": "ipython",
    "version": 2
   },
   "file_extension": ".py",
   "mimetype": "text/x-python",
   "name": "python",
   "nbconvert_exporter": "python",
   "pygments_lexer": "ipython2",
   "version": "2.7.12"
  }
 },
 "nbformat": 4,
 "nbformat_minor": 0
}